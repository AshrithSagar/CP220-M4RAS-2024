{
 "cells": [
  {
   "cell_type": "markdown",
   "metadata": {
    "colab_type": "text",
    "id": "view-in-github"
   },
   "source": [
    "<a href=\"https://colab.research.google.com/github/AshrithSagar/CP220-M4RAS-2024/blob/main/13_hw_cp220_Q.ipynb\" target=\"_parent\"><img src=\"https://colab.research.google.com/assets/colab-badge.svg\" alt=\"Open In Colab\"/></a>"
   ]
  },
  {
   "cell_type": "markdown",
   "metadata": {
    "id": "ogEoifF21Dh5"
   },
   "source": [
    "---\n",
    "**HW13**\n",
    "\n",
    "Chapter 5: Bertsekas <br>\n",
    "Chapter 3,4: Probabilistic Machine Learning, Kevin Murpy"
   ]
  },
  {
   "cell_type": "code",
   "execution_count": null,
   "metadata": {
    "id": "BCQf0fhp6305"
   },
   "outputs": [],
   "source": [
    "import numpy as np\n",
    "import matplotlib.pyplot as plt\n",
    "\n",
    "rng = np.random.default_rng(100)"
   ]
  },
  {
   "cell_type": "markdown",
   "metadata": {
    "id": "j8xILkQg7Fmr"
   },
   "source": [
    "**Concentration Inequalities**\n",
    "\n",
    "These essentially allow one to obtain bounds on tail probabilities\n",
    "\n",
    "---\n",
    "*$\\underline{Markov\\ Inequality}$*\n",
    "\n",
    "If $X$ is a non-negative r.v., then\n",
    "\n",
    "$P(X \\geq a) \\leq \\frac{EX}{a}$ for $a > 0$\n",
    "\n",
    "We can see this by:\n",
    "\n",
    "$aP(X \\geq a) = \\int_a^∞ af_x(x)dx$\n",
    "\n",
    "$EX = \\int_0^∞ xf_X(x)dx = \\int_0^a xf_X(x)dx + \\int_a^∞ xf_X(x)dx$\n",
    "\n",
    "Hence $EX - aP(X\\geq a) = \\int_0^a xf_X(x)dx + \\int_a^∞ (x-a)f_X(x)dx \\geq 0$"
   ]
  },
  {
   "cell_type": "markdown",
   "metadata": {
    "id": "7xyQRQTf7Ubo"
   },
   "source": [
    "---\n",
    "Example:\n",
    "\n",
    "Let $X_i$ be 1 if the $i^{th}$ person says they will vote for BJP in the national elections 2024 and 0 otherwise. Let the sequence { $X_i$} be independent and identical bernoulli rvs $\\ \\sim Ber(p)$\n",
    "\n",
    "Let $B_n = \\frac{\\sum_{i=1}^n X_i}{n}$ estimates the chance of BJP winning based on a sampling of $n$ people.\n",
    "\n",
    "We would like to know how many people to ask for their opinion inorder to get some estimate with some accuracy and confidence.\n",
    "\n",
    "\n",
    "$EB_n = EX_i = p$\n",
    "\n",
    "\n",
    "$P(B_n  \\geq p+ϵ) \\leq \\frac{p}{p+ϵ}$\n",
    "\n",
    "Unfortunately - we dont get any insight as to the number of samples needed from this."
   ]
  },
  {
   "cell_type": "markdown",
   "metadata": {
    "id": "-_sbcnx_7Vci"
   },
   "source": [
    "---\n",
    "*$\\underline{Chebychev\\ Inequality}$*\n",
    "\n",
    "Let $X$ be r.v. with mean $\\mu$ and variance $\\sigma^2$.\n",
    "\n",
    "Then, the chance that it is more than $k$ std. deviations from the mean is upper bounded as:\n",
    "\n",
    "\n",
    "$P(|X-\\mu| \\geq k\\sigma) \\leq \\frac{1}{k^2}$\n",
    "\n",
    "This can be seen by considering $Z = (X-\\mu)^2$ and by Markov inequality:\n",
    "\n",
    "$P(Z \\geq (k\\sigma)^2) \\leq \\frac{EZ}{(k\\sigma)^2} = \\frac{E(X-\\mu)^2}{(k\\sigma)^2} = \\frac{1}{k^2}$\n",
    "\n",
    "and $P(Z \\geq (k\\sigma)^2) = P((X-\\mu)^2 \\geq (k\\sigma)^2) = P(|X-\\mu| \\geq k\\sigma)$\n",
    "\n",
    "We can also write this (equivalently) as:\n",
    "\n",
    "$P(|X-\\mu| \\geq c) \\leq \\frac{\\sigma^2}{c^2}$"
   ]
  },
  {
   "cell_type": "markdown",
   "metadata": {
    "id": "NMiKGhU77bNT"
   },
   "source": [
    "---\n",
    "Example continued:\n",
    "\n",
    "We know that $\\sigma_{X_i}^2 = p(1-p)$\n",
    "\n",
    "and\n",
    "\n",
    "$\\sigma_{B_n}^2 = \\frac{p(1-p)}{n}$\n",
    "\n",
    "\n",
    "From Chebychev's inequality\n",
    "\n",
    "$P(|B_n - p| \\geq ϵ) \\leq \\frac{\\sigma_{B_n}^2}{ϵ^2} = \\frac{p(1-p)}{nϵ^2} \\leq \\frac{1}{4n\\epsilon^2}$\n",
    "\n",
    "Since $p(1-p)$ achieves peak value of $1/4$ for $p=1/2$\n",
    "\n",
    "So if we want to be within $0.01$ of $p$, with $95\\%$ confidence, then\n",
    "\n",
    "$\\epsilon = 0.01$ and $\\frac{1}{4n\\epsilon^2} < 0.05$ which means:\n",
    "\n",
    " $n > 500$\n",
    "\n",
    " In other words, if you ask 500 independent people for their opinion of if they will vote for BJP, then you can say that\n",
    "\n",
    " $B_{500}-0.01 < p < B_{500}+0.01$ with 95% confidence."
   ]
  },
  {
   "cell_type": "markdown",
   "metadata": {
    "id": "exOqCl4J7gp8"
   },
   "source": [
    "*$\\underline{Chernoff\\ Bound}$*\n",
    "\n",
    "Let X be a rv and\n",
    "\n",
    "$M_X(s) = Ee^{sX}$ and let it be finite at $s=0$,\n",
    "\n",
    "\n",
    "For $s \\geq 0$\n",
    "\n",
    "$ X \\geq a ⇔ sX \\geq sa ⇔ e^{sX} \\geq e^{sa}$\n",
    "\n",
    "Hence\n",
    "\n",
    "$P(X \\geq a) = P(e^{sX} \\geq e^{sa}) \\leq e^{-sa}Ee^{sX}$\n",
    "\n",
    "Similarly for $s < 0 $\n",
    "\n",
    "$P(X \\leq a ) \\leq e^{-sa}Ee^{sX}$"
   ]
  },
  {
   "cell_type": "markdown",
   "metadata": {
    "id": "owDk6kuR7mCk"
   },
   "source": [
    "---\n",
    "Example contd. (some parts from\n",
    "\n",
    "https://sachdevasushant.github.io/courses/15s-cpsc665/notes/concentration.pdf\n",
    ")\n",
    "\n",
    "for all $s \\geq 0$ by the Chernoff bound\n",
    "\n",
    "$P(B_n - p \\leq ((1+\\delta) p)) \\leq e^{-s(1+\\delta) p)}Ee^{sB_n}$\n",
    "\n",
    "$Ee^{sB_n} = Ee^{\\frac{s}{n}\\sum_1^n X_i} = (Ee^{\\frac{s}{n}X})^n$ where $X\\ \\ \\tilde\\ \\ Ber(p)$\n",
    "\n",
    "$Ee^{sX/n} = pe^{s/n} + 1-p \\leq p(e^{s/n}-1) \\leq e^{p(e^{s/n}-1)}$\n",
    "\n",
    "Therefore. $Ee^{sB_n} \\leq e^{np(e^{s/n}-1)}$\n",
    "\n",
    "and\n",
    "\n",
    "$P(B_n - p \\leq ((1+\\delta) p)) \\leq e^{-s(1+\\delta) p)}e^{np(e^{s/n}-1)}$\n",
    "\n",
    "Above is true for all $s \\geq 0$\n",
    "\n",
    "In particular for $s/n = ln(1+\\delta)$\n",
    "\n",
    "$P((B_n - p) \\leq ((1+\\delta) p)) \\leq (\\frac{e^\\delta}{(1+\\delta)^{(1+\\delta)}})^{np}$\n",
    "\n",
    "We can show that $(1+\\delta)^{1+\\delta)} \\geq e^{\\delta + \\delta^2/3}$\n",
    "\n",
    "Hence\n",
    "\n",
    "$P((B_n - p) \\leq ((1+\\delta) p)) \\leq e^{-\\frac{\\delta^2np}{3}}$\n",
    "\n",
    "Similarly\n",
    "\n",
    "$P((B_n - p) \\geq ((1-\\delta) p)) \\leq e^{-\\frac{\\delta^2np}{2}}$\n",
    "\n",
    "Hence $P(|B_n-p| \\geq \\delta p) \\leq  e^{-\\frac{\\delta^2np}{3}} + e^{-\\frac{\\delta^2np}{2}} < 2e^{-\\frac{\\delta^2np}{3}}$ from Chernoff bound.\n",
    "\n",
    "Recall from Chebychev bound:\n",
    "\n",
    "$P(|B_n-p| \\geq \\delta p) \\leq \\frac{Var(B_n)}{(\\delta p)^2} = \\frac{1-p}{np\\delta^2 }$\n",
    "\n",
    "For example, if we know that $p$ is about 0.5 and we want to estimate it within 1% (i.e. $\\delta = 0.01) and with a confidence exceeding 99.9%, then Chebychev bound says we need at least 10million samples, while Chernoff bounds tells that about 13.6Lakh samples is enough\n",
    "(see calculation below)."
   ]
  },
  {
   "cell_type": "code",
   "execution_count": null,
   "metadata": {
    "colab": {
     "base_uri": "https://localhost:8080/"
    },
    "id": "IEg3Zhah7uLM",
    "outputId": "1873a9f7-4f94-42d5-bf9f-5e71d4f9a782"
   },
   "outputs": [
    {
     "name": "stdout",
     "output_type": "stream",
     "text": [
      "From Chebychev's ineuality, n should be atleast 10000000.0\n",
      "From Chernoff bound, n should be at least 1368162.4427175745\n"
     ]
    }
   ],
   "source": [
    "q = 0.001 #(1-confidence)\n",
    "p = 0.5\n",
    "d = 0.01 #delta (accuracy)\n",
    "\n",
    "print(f\"From Chebychev's ineuality, n should be atleast {(1-p)/q/d**2/p}\")\n",
    "\n",
    "print(f\"From Chernoff bound, n should be at least {3*np.log(2/q)*3/p/d**2}\")"
   ]
  },
  {
   "cell_type": "code",
   "execution_count": null,
   "metadata": {
    "colab": {
     "base_uri": "https://localhost:8080/",
     "height": 467
    },
    "id": "0AjU2-iV9fan",
    "outputId": "661297e8-d7e8-4192-9bff-9677f4c33425"
   },
   "outputs": [
    {
     "name": "stdout",
     "output_type": "stream",
     "text": [
      "EX = 10.080579401528137, Var(X)=20.23578067643614\n"
     ]
    },
    {
     "data": {
      "image/png": "[encoded data removed]",
      "text/plain": [
       "<Figure size 640x480 with 1 Axes>"
      ]
     },
     "metadata": {},
     "output_type": "display_data"
    }
   ],
   "source": [
    "# testing the bounds\n",
    "nSamples = 10000\n",
    "#draw samples from chisquare distribution\n",
    "#https://numpy.org/doc/stable/reference/random/generated/numpy.random.RandomState.chisquare.html\n",
    "df = 10 #Number of degrees of freedom, obtained by adding squares of 'df' std normal variables\n",
    "X_D = rng.chisquare(df,nSamples)\n",
    "\n",
    "nbins = 20\n",
    "amin=0\n",
    "amax=40\n",
    "x_axis = np.arange(amin, amax, (amax-amin)/nbins)\n",
    "#print(x_axis)\n",
    "\n",
    "X_D_Hist,_ = np.histogram(X_D,nbins,(amin,amax))\n",
    "\n",
    "#convert to pdf\n",
    "X_pdf = X_D_Hist/nSamples\n",
    "\n",
    "print(f\"EX = {np.mean(X_D)}, Var(X)={np.var(X_D)}\")\n",
    "\n",
    "plt.plot(x_axis,X_pdf)\n",
    "plt.legend(['Chisquare density'])\n",
    "plt.ylabel(\"pdf f(x)\")\n",
    "plt.xlabel(\"X\")\n",
    "plt.show()"
   ]
  },
  {
   "cell_type": "markdown",
   "metadata": {
    "id": "Khii1qqY768Q"
   },
   "source": [
    "---\n",
    "*$\\underline{Weak\\ Law\\ of\\ Large\\ Numbers}$*\n",
    "\n",
    "Let $X_1, X_2, ..., X_n$ be i.i.d with mean $\\mu$ and variance $\\sigma^2$\n",
    "\n",
    "Let $M_n=\\frac{\\sum_{i=1}^n X_i}{n}$\n",
    "\n",
    "Then we know that the average of $M_n$ =  $EM_n = \\mu$ and $Var(M) = \\frac{\\sigma^2}{n}$\n",
    "\n",
    "The weak law states that even the sample mean ($M_n$) also converges to the mean $EX_i$ in probability.\n",
    "\n",
    "i.e.\n",
    "\n",
    "$lim_{n→∞} P(|M_n - \\mu| \\geq \\epsilon) = 0$\n",
    "\n",
    "Since from Chebuchev's inequality:\n",
    "\n",
    "$P(|M_n - \\mu| \\leq \\epsilon ) \\leq \\frac{\\sigma^2}{n\\epsilon^2}$\n",
    "\n",
    "\n",
    "This is also stated $M_n$ converges to $\\mu$ in probability.\n",
    "\n",
    "*$\\underline{Convergence\\ in\\ Probability}$*\n",
    "\n",
    "Let $Y_1, Y_2, ..... Y_n$ be a sequence of r.v. and let $a$ be a real number. Then\n",
    "\n",
    "$Y_n$ converges to $a$ in probability if:\n",
    "\n",
    "$lim_{n→∞} P(|Y_n-a| \\geq \\epsilon) =0$ for all $\\epsilon > 0 $\n",
    "\n",
    "What this means is that the pdf of $Y_n$ gets increasingly concentrated around $a$ with increasing $n$.\n",
    "\n",
    "\n",
    "*$\\underline{Central\\ Limit\\ Theorem}$*\n",
    "\n",
    "Let $X_1, X_2, .., X_n$ be i.i.d with mean $\\mu$ and variance $\\sigma^2$\n",
    "\n",
    "$Z_n = \\frac{\\sum_{i=1}^n X_i - n\\mu}{\\sqrt{n}\\sigma}$.\n",
    "\n",
    "We know that $EZ_n=0$ and $Var(Z_n)=1$\n",
    "\n",
    "Then the CDF $F_{Z_n}(z)$ converges to CDF of standard normal. This is more precisely expressed as:\n",
    "\n",
    "$lim_{n\\rightarrow ∞} P(Z_n \\leq z) = \\Phi(z)$ for all $z$, where $\\Phi(z)$ is CDF of standard normal.\n",
    "\n",
    "Note that this holds regardless of pdf of $X_i$\n",
    "\n",
    "\n",
    "*$\\underline{Almost\\ Sure\\ Convergence}$*\n",
    "\n",
    "If $P(lim_{n→∞} Y_n = a) =1$, it is called a.s. convergence.\n",
    "\n",
    "The way to interpret this is at in the sample space of infinitely long sequences drawn from $Y_i$, all the outcomes are sequences with all $a$ except for a finite sub-sequence in the beginnnig.\n",
    "\n",
    "\n",
    "*Example*\n",
    "\n",
    "As an example of a sequence which converges in probability but not almost surely,\n",
    "\n",
    "Let $Y_i = 0$ with probability $\\frac{n-1}{n}$\n",
    "\n",
    "$\\ \\ = 1$ with probability $\\frac{1}{n}$\n",
    "\n",
    "Then $\\lim_{n→∞} P(Y_n=0)=1$ and converges in probability to the 0.\n",
    "\n",
    "However, it doesnt almost surely converge to 0, i.e. $P(lim_{n→∞} Y_n =0) \\neq 1$. To see this, assume that $lim{n→∞} Y_n =0$.\n",
    "\n",
    "Then for every $\\delta$, there exists $N(\\delta)$ such that\n",
    "\n",
    "$Y_i = 0$ for all $n > N(\\delta)$.\n",
    "\n",
    "However the probability of this happening is $lim_{n→∞}(\\frac{n-1}{n})^{n-N(\\delta)} = e^{-1} < 1$\n",
    "\n",
    "*$\\underline{Strong\\ Law\\ of\\ Large\\ Numbers}$*\n",
    "\n",
    "Let $X_1, X_2, ..., X_n$ be i.i.d with mean $\\mu$ and variance $\\sigma^2$\n",
    "\n",
    "Let $M_n=\\frac{\\sum_{i=1}^n X_i}{n}$\n",
    "\n",
    "$P(lim_{n→∞} M_n = \\mu)= 1$\n",
    "\n",
    "i.e. $M_n$ almost surely converges to $\\mu$"
   ]
  },
  {
   "cell_type": "markdown",
   "metadata": {
    "id": "bVTjeo9Q1Mw5"
   },
   "source": [
    "---\n",
    "**Chapters 3 & 4 for Probabilistic Machine Learning by Kevin Murphy**"
   ]
  },
  {
   "cell_type": "markdown",
   "metadata": {
    "id": "-Cre4hK4793c"
   },
   "source": [
    "---\n",
    "*$\\underline{Multivariate\\ Models}$*\n",
    "\n",
    "Let $X$ be a $n$ dimensional random vector: $X = \\begin{bmatrix} X_1 \\\\ X_2 \\\\ ... \\\\ X_n \\end{bmatrix}$ (every component is a random variable)\n",
    "\n",
    "Then the probability density function associated with this vector is given by the join density function:\n",
    "\n",
    "$f_X(x_1,x_2, ..., x_n)$\n",
    "\n",
    "And the mean of the component 1 is : $\\mu_1 = EX_1 = \\int_{x_1}\\int_{x_2}...\\int_{x_n} x_1 f_X(x_1, ..., x_n)dx_1dx_2...dx_n = \\int_{x_1}x_1(\\int_{x_2}...\\int_{x_n} f_X(x_1, ..., x_n)dx_2...dx_n)dx_1 = \\int_{x_1}x_1f_{X_1}(x_1)dx_1$\n",
    "\n",
    "Here $f_{X_1}(x_1)$ is the marginal distribution of $X_1$\n",
    "\n",
    "Similarly the expections of other components and covariances, higher moments etc can be obtained.\n",
    "\n",
    "\n",
    "Then the covariance matrix is\n",
    "\n",
    "$\\Sigma = Cov(X) = E(X-EX)(X-EX)^T  = \\begin{bmatrix} Var(X_1) & Cov(X_1,X_2) & ... & Cov(X_1,X_n) \\\\ Cov(X_2,X_1) & Var(X_2) & ...& Cov(X_2,X_n) \\\\ ... \\\\ Cov(X_1,X_n) & Cov(X_2,X_n) & ... & Var(X_n)\\end{bmatrix} = \\begin{bmatrix} EX_1^2 - (EX_1)^2 & EX_1X_2 - EX_1EX_2 & ... & EX_1X_n - EX_1EX_n \\\\ EX_2X_1-EX_2EX_1 & EX_2^2-(EX_2)^2 & ... & EX_2X_n - EX_2EX_n \\\\ ... \\\\ EX_nEX_1 - EX_nEX_1 & EX_nX_2 - EX_nEX_2 & ... & EX_n^2-(EX_n)^2 \\end{bmatrix}= EXX^T - \\mu\\mu^T$\n",
    "\n",
    "\n",
    "Where $\\mu = \\begin{bmatrix} \\mu_1 \\\\ \\mu_2 \\\\ ... \\\\ \\mu_n \\end{bmatrix} = EX $ a $D$ dimensional column vector.\n",
    "\n",
    "That is:\n",
    "\n",
    "$EXX^T = \\Sigma + \\mu\\mu^T$\n",
    "\n",
    "\n"
   ]
  },
  {
   "cell_type": "markdown",
   "metadata": {
    "id": "l3AJaAnaBJxQ"
   },
   "source": [
    "---\n",
    "**Q1**\n",
    "\n",
    "Show that the covariance of an affine map $Y = AX+b$ is given as:\n",
    "\n",
    "$\\Sigma_Y = A\\Sigma_XA^T$\n"
   ]
  },
  {
   "cell_type": "markdown",
   "metadata": {
    "id": "bTzSV0bVBtup"
   },
   "source": [
    "Ans:\n",
    "\n",
    "Let $X$ be a random vector with mean $\\mu_X$ and covariance matrix $\\Sigma_X$.\n",
    "\n",
    "For the affine map $Y = AX+b$, the mean of $Y$ is given by\n",
    "\n",
    "$\n",
    "\\displaystyle\n",
    "\\mu_Y\n",
    "= \\operatorname{E}[Y]\n",
    "= \\operatorname{E}[AX+b]\n",
    "= A\\operatorname{E}[X]+b\n",
    "= A\\mu_X+b\n",
    "$\n",
    "\n",
    "and the covariance matrix of $Y$ is given by\n",
    "\n",
    "$\n",
    "\\begin{aligned}\n",
    "\\Sigma_Y\n",
    "&\n",
    "= \\operatorname{E}[(Y-\\mu_Y)(Y-\\mu_Y)^T]\n",
    "= \\operatorname{E}[(AX+b-A\\mu_X-b)(AX+b-A\\mu_X-b)^T]\n",
    "\\\\ &\n",
    "= \\operatorname{E}[(AX-A\\mu_X)(AX-A\\mu_X)^T]\n",
    "= \\operatorname{E}[A(X-\\mu_X)(X-\\mu_X)^TA^T]\n",
    "\\\\ &\n",
    "= A \\operatorname{E}[(X-\\mu_X)(X-\\mu_X)^T] A^T\n",
    "= A \\Sigma_X A^T\n",
    "\\end{aligned}\n",
    "$\n"
   ]
  },
  {
   "cell_type": "markdown",
   "metadata": {
    "id": "H00UaYfmLfUH"
   },
   "source": [
    "---\n",
    "**Q2**\n",
    "\n",
    "Show that the covariance matrix is positive semi-definite"
   ]
  },
  {
   "cell_type": "markdown",
   "metadata": {
    "id": "o45V2VG2Lk3n"
   },
   "source": [
    "Ans:\n",
    "\n",
    "A square matrix $\\mathbf{A} \\in \\mathbb{R}^{n \\times n}$ is positive semi-definite if $\\mathbf{v}^T\\mathbf{A}\\mathbf{v} \\geq 0 \\quad \\forall \\ \\mathbf{v} \\in \\mathbb{R}^n \\setminus \\{ \\mathbf{0} \\}$.\n",
    "\n",
    "Let $\\mathbf{X}$ be a random vector with mean $\\mu_X$ and covariance matrix $\\Sigma_X$, and let $\\mathbf{Y} = \\mathbf{X} - \\mu_X$.\n",
    "Then, we have\n",
    "\n",
    "$\n",
    "\\begin{aligned}\n",
    "\\mathbf{v}^T\\Sigma_X\\mathbf{v}\n",
    "&\n",
    "= \\mathbf{v}^T\\operatorname{E}[(\\mathbf{X}-\\mu_X)(\\mathbf{X}-\\mu_X)^T]\\mathbf{v}\n",
    "= \\mathbf{v}^T\\operatorname{E}[\\mathbf{Y}\\mathbf{Y}^T]\\mathbf{v}\n",
    "\\\\ &\n",
    "= \\operatorname{E}[\\mathbf{v}^T\\mathbf{Y}\\mathbf{Y}^T\\mathbf{v}]\n",
    "= \\operatorname{E}[(\\mathbf{Y}^T\\mathbf{v})^T(\\mathbf{Y}^T\\mathbf{v})]\n",
    "= \\operatorname{E}[\\|\\mathbf{Y}^T\\mathbf{v}\\|^2]\n",
    "\\geq 0\n",
    "\\end{aligned}\n",
    "$\n",
    "\n",
    "Thus, the covariance matrix is positive semi-definite.\n",
    "\n"
   ]
  },
  {
   "cell_type": "markdown",
   "metadata": {
    "id": "nzRijcXtjvrr"
   },
   "source": [
    "*$\\underline{Positive\\ definiteness\\ of\\ Covariance matrix}$*\n",
    "\n",
    "From above $\\Sigma ≽ 0 $ (positive semi-definite).\n",
    "\n",
    "Also it can be diagonalized by an orthogonal matrix S such that\n",
    "\n",
    "$\\Sigma = SDS^T$ and $SS^T=S^TS=I$\n",
    "\n",
    "Therefore:\n",
    "\n",
    "$EXX^T = \\Sigma + \\mu\\mu^T = E(S^TX)(S^TX)^T = S^T\\Sigma S + (S^T\\mu)(S^T\\mu)^T = EYY^T = D + \\mu_Y\\mu_Y^T$\n",
    "\n",
    "Here $Y = S^TX$\n",
    "\n",
    "Note that the components of $Y$ are uncorrelated as $\\Sigma_Y = D$ a diagonal matrix.\n",
    "\n",
    "Hence we can go from a correlated set of rv to uncorrelated by a suitable linear transform of the random vector.\n",
    "\n",
    "If the random vector is Gaussian, then the uncorrelated vector's component sare also independent.\n",
    "\n",
    "For eigen values of 0, the corresponding components of $Y$ are also 0 and we can drop them and work in a lower dimensional space where the reduced covariance matrix has only non-zero eigenvalues and hence invertible.\n",
    "\n"
   ]
  },
  {
   "cell_type": "markdown",
   "metadata": {
    "id": "6kUNoCSIIyaN"
   },
   "source": [
    "*$\\underline{Multivariate\\ Gaussian}$*\n",
    "\n",
    "$X$ is a $n$ dimensional random vector $X\\ \\ \\tilde\\ \\ N(x|\\mu,\\Sigma)$, with $x^T=[x_1\\ x_2\\ ...\\ x_n]\\in ℝ^n$\n",
    "\n",
    "then\n",
    "\n",
    "$f_X(x) = \\frac{1}{\\sqrt{(2\\pi)^n|\\Sigma|)}}e^{-\\frac{1}{2}(x-\\mu)^T\\Sigma^{-1}(x-\\mu)}$\n",
    "\n",
    "is the pdf of $X$\n",
    "\n",
    "$\\Lambda = \\Sigma^{-1}$ is also called the \"precision\" matrix (we are assuming that $\\Sigma$ is invertible (as discussed in above cell)."
   ]
  },
  {
   "cell_type": "markdown",
   "metadata": {
    "id": "ummRciY1eL76"
   },
   "source": [
    "*$\\underline{Mahalanobis\\ distance}$*\n",
    "\n",
    "Consider the level sets of (log) of constant probability of multivariate gaussian\n",
    "\n",
    "$-log(f_X(x)) = \\frac{1}{2}(x-u)^T\\Lambda(x-u) = C$ a constant.\n",
    "\n",
    "Geometrically it looks like an ellipse.\n",
    "\n",
    "If eigenvalues of $\\Sigma$ are:\n",
    "\n",
    "$\\lambda(\\Sigma) = \\{\\lambda_1, \\lambda_2, ..., \\lambda_n\\}$, with $\\lambda_i > 0$,\n",
    "\n",
    "then the eigen values of the precision matrix are\n",
    "\n",
    "$\\lambda(\\Lambda)=\\{1/\\lambda_i:i = 1..n\\}$\n",
    "\n",
    "The precision matrix is also positive definite.\n",
    "\n",
    "Let $\\Lambda = S^TDS$ for orthogonal $S$ and Diagonal $D$\n",
    "\n",
    "then\n",
    "\n",
    "$\\Lambda = \\sum_{i=1}^n \\frac{s_is_i^T}{\\lambda_i}$\n",
    "\n",
    "$(x-u)^T\\Lambda(x-u) = y^TDy = \\sum_{i=1}^n \\frac{y_iy_i^T}{\\lambda_d} > 0 $ with $y_i=(x-\\mu)^Ts_i$. the locus for all $x$ is the probability level set and  forms an ellipsoids in n-dimensional space.\n",
    "\n",
    "Note that $\\lambda_i$ corresponds to eigen value of covariance matrix. If it is high - it means the uncertainty in that direction (eigen vector) is high and hence is given a lower weight in the distance computation. The standard deviation along that direction is: $\\sqrt{\\lambda_i}$\n",
    "\n",
    "\n",
    "Also $D_\\Sigma(x,\\mu)=(x-u)^T\\Sigma^{-1}(x-u)$ is called the Mahalanobis distance - analogous to the Euclidean distance - but scaled by the covariance matrix.\n",
    "\n",
    "\n",
    "P C Mahalanobis: https://en.wikipedia.org/wiki/Prasanta_Chandra_Mahalanobis\n"
   ]
  },
  {
   "cell_type": "markdown",
   "metadata": {
    "id": "BeJCWEs44b3u"
   },
   "source": [
    "*$\\underline{Linear\\ transform\\ of\\ Multivariate\\ Normal}$*\n",
    "\n",
    "Let $X$ be $n\\times 1$ random vector and\n",
    "$X\\ \\sim N(x|\\mu,\\Sigma)$\n",
    "\n",
    "Let $Y=AX+b$ with $A$ an $n\\times n$ invertible matrix and $b$ an $n\\times 1$ vector.\n",
    "\n",
    "Consider a volume element $dV_Y = dy_1dy_2..dy_n$. It is related to the volume element $dV_X=dx_1dx_2..dx_n$ as\n",
    "\n",
    "$dV_Y = det(A)dV_X$\n",
    "\n",
    "(you can recall that det(A) is the determinant and represents the volume of the tranform of a unit hypercube)\n",
    "\n",
    "We will also write $|A|$ to represent $det(A)$\n",
    "\n",
    "We also know that:\n",
    "\n",
    "$\\mu_Y = A\\mu_X + b$\n",
    "\n",
    "$\\Sigma_Y = A\\Sigma_X A^T$\n",
    "\n",
    "Then $P(Y=y\\in dV_Y) \\approx f_Y(y)dV_Y = P(X=A^{-1}(y-b) \\in dV_Y/det(A))=\\frac{1}{\\sqrt{(2\\pi)^\\frac{n}{2}|\\Sigma_X|}}\\frac{dV_Y}{|A|}e^{-\\frac{1}{2}(A^{-1}(y-b)-\\mu_X)^T\\Sigma_X^{-1}(A^{-1}(y-b)-\\mu_X)}= \\frac{1}{\\sqrt{(2\\pi)^\\frac{n}{2}|\\Sigma_X|}}e^{-\\frac{1}{2}((y-\\mu_Y)^TA^{-T}\\Sigma_X^{-1}A^{-1}(y-\\mu_Y)}\\frac{dV_Y}{\\sqrt{|A||A^T|}}= N(y|\\mu_Y, \\Sigma_Y)dV_Y$\n",
    "\n",
    "Hence $Y$ is also a MVN"
   ]
  },
  {
   "cell_type": "markdown",
   "metadata": {
    "id": "0SL1PeRiHdX2"
   },
   "source": [
    "*$\\underline{Inverse\\ of\\ Block\\ Matrices}$*\n",
    "\n",
    "Let $\\Sigma = \\begin{bmatrix} \\Sigma_{11} & \\Sigma_{12} \\\\ \\Sigma_{21} & \\Sigma_{22} \\end{bmatrix}$\n",
    "\n",
    "Applying Gaussian elimination at block level, we can determine,\n",
    "\n",
    "$L = \\begin{bmatrix} I & 0 \\\\ -\\Sigma_{21}\\Sigma_{11}^{-1} & I \\end{bmatrix}$\n",
    "\n",
    "$U = \\begin{bmatrix} I & -\\Sigma_{11}^{-1}\\Sigma_{12} \\\\ 0 & I \\end{bmatrix}$\n",
    "\n",
    "and\n",
    "$L\\Sigma U = \\begin{bmatrix} \\Sigma_{11} & 0 \\\\ 0 & \\Sigma/\\Sigma_{11} \\end{bmatrix}$\n",
    "\n",
    "where $\\Sigma/\\Sigma_{11} = \\Sigma_{22} - \\Sigma_{21}\\Sigma_{11}^{-1}\\Sigma_{12}$ is the Schur complement\n",
    "\n",
    "Therefore $\\Sigma^{-1} = \\begin{bmatrix} I & -\\Sigma_{11}^{-1}\\Sigma_{12} \\\\ 0 & I \\end{bmatrix}\\begin{bmatrix} \\Sigma_{11}^{-1} & 0 \\\\ 0 & (\\Sigma/\\Sigma_{11})^{-1} \\end{bmatrix}\\begin{bmatrix} I & 0 \\\\ -\\Sigma_{21}\\Sigma_{11}^{-1} & I \\end{bmatrix}$\n",
    "\n",
    "\n",
    "Note also that $|L\\Sigma U| = |\\Sigma| = |\\Sigma_{11}||\\Sigma/\\Sigma_{11}|$ as $|L|=|U|=1$"
   ]
  },
  {
   "cell_type": "markdown",
   "metadata": {
    "id": "DN7jqatrpaTL"
   },
   "source": [
    "*$\\underline{Marginals\\ and\\ Conditionals\\ of\\ Multivariate Normal (MVN)}$*\n",
    "\n",
    "\n",
    "Let an  n-dimensional random vector, $X^T = [X_1^T\\ X_2^T]$ with $X_1$ and $X_2$ having dimensions $n_1$ and $n_2$ ($n_1+n_2=n$)\n",
    "\n",
    "Let $EX_1 = \\mu_1$, $EX_2=\\mu_2$\n",
    "\n",
    "and\n",
    "\n",
    "$\\Sigma = \\begin{bmatrix} \\Sigma_{11} & \\Sigma_{12} \\\\ \\Sigma_{21} & \\Sigma_{22} \\end{bmatrix}$\n",
    "\n",
    "with $\\Sigma_{ij} = Cov(X_i,X_j)$,\n",
    "\n",
    "(Note cross covariance $\\Sigma_{ij} = E(X_i-EX_i)(Y_j-EY_j)^T$\n",
    "\n",
    "\n",
    "We can reorganize the exponent of the gaussian using the schur complement decomposition from previous cell as:\n",
    "\n",
    "$[(X_1-\\mu_1)^T\\ (X_2-\\mu_2)^T]\\ \\Sigma^{-1}\\begin{bmatrix} X_1 - \\mu_1 \\\\ X_2 - \\mu_2\\end{bmatrix}= [(X_1-\\mu_1)^T (X_2-\\mu_2)^T ]\\begin{bmatrix} I & -\\Sigma_{11}^{-1}\\Sigma_{12} \\\\ 0 & I \\end{bmatrix}\\begin{bmatrix} \\Sigma_{11}^{-1} & 0 \\\\ 0 & (\\Sigma/\\Sigma_{11})^{-1} \\end{bmatrix}\\begin{bmatrix} I & 0 \\\\ -\\Sigma_{21}\\Sigma_{11}^{-1} & I \\end{bmatrix} \\begin{bmatrix} X_1 - \\mu_1 \\\\ X_2 - \\mu_2\\end{bmatrix} = (X_1-\\mu_1)^T\\Sigma_{11}^{-1}(X_1-\\mu_1) + (X_2-\\mu_2 - \\Sigma_{21}\\Sigma_{11}^{-1}(X_1-\\mu_1))^T(\\Sigma/\\Sigma_{11})^{-1}(X_2-\\mu_2 - \\Sigma_{21}\\Sigma_{11}^{-1}(X_1-\\mu_1))$\n",
    "\n",
    "Hence we can factor $N(x|\\mu,\\Sigma) = N(x_1|\\mu_1,\\Sigma_{11})N(x_2|\\mu_2+\\Sigma_{21}\\Sigma_{11}^{-1}(x_1-\\mu_1),\\Sigma/\\Sigma_{11})$\n",
    "\n",
    "\n",
    "Marginal of $X_1$:\n",
    "\n",
    "$f_{X_1}(x_1) = \\int_{X_2} f_X(x_1,x_2)dx_2 = \\int_{X_2}N(x_1|\\mu_1,\\Sigma_{11})N(x_2|\\mu_2\n",
    "+\\Sigma_{21}\\Sigma_{11}^{-1}(x_1-\\mu_1),\\Sigma/\\Sigma_{11}) = N(x_1|\\mu_1, \\Sigma_{11}) $\n",
    "\n",
    "\n",
    "is also a multi-variate normal\n",
    "\n",
    "and from the above the conditional $X_2|X_1$ is ,\n",
    "\n",
    "$f_{X_2|X_1} = N(x_2|\\mu_2+\\Sigma_{21}\\Sigma_{11}^{-1}(x_1-\\mu_1),\\Sigma/\\Sigma_{11})$ is also a MVN.\n",
    "\n",
    "Similarly the marginal $f_{X_2}(x_2) = N(x_2|\\mu_2,\\Sigma_{22})$"
   ]
  },
  {
   "cell_type": "markdown",
   "metadata": {
    "id": "mo_Z7v3STsm4"
   },
   "source": [
    "*$\\underline{Example}$*\n",
    "\n",
    "Let $X,Y$ be two univariate gaussian rv, which are jointly Gaussian and with correlation $\\rho$,  mean, $\\mu_x, \\mu_y$ and variance $\\sigma_x, \\sigma_y$ respectively.\n",
    "\n",
    "Then $\\Sigma = \\begin{bmatrix} \\sigma_x^2 & \\rho \\sigma_x\\sigma_y \\\\ \\rho\\sigma_x\\sigma_y & \\sigma_y^2\\end{bmatrix}$\n",
    "\n",
    "$f_{Y|X}(y) = N(y|\\mu_y-\\frac{\\rho\\sigma_y}{\\sigma_x}(x-\\mu_x),\\sigma_y^2(1-\\rho^2))$\n",
    "\n",
    "We can interpret it by looking at the level set for 2D correlated Gaussian and seeing that if $X=x$, then we are taking a slice of the ellipses at $X=x$ and hence get a modified gaussian for the $Y|X=x$\n"
   ]
  },
  {
   "cell_type": "markdown",
   "metadata": {
    "id": "vgjrmUyRP4_M"
   },
   "source": [
    "*$\\underline{Uncorrelated\\ implies\\ Independence\\ for\\ Gaussians}$*\n",
    "\n",
    "Let $X_1, X_2$ be jointly Gaussian and uncorrelated. This means $\\Sigma_{12}=0$ and $\\Sigma_{21}=\\Sigma_{12}^T = 0$.\n",
    "\n",
    "Hence $\\Sigma/\\Sigma_{11} = \\Sigma_{22}$\n",
    "\n",
    "and $f_{X_2|X_1}(x_2) = f_{X_2}(x_2)$\n",
    "\n",
    "therefore $f_X(x_1, x_2) = f_{X_1}(x_1)f_{X_2}(x_2)$ and they are independent."
   ]
  },
  {
   "cell_type": "markdown",
   "metadata": {
    "id": "n5h_bs_bOsdx"
   },
   "source": [
    "---\n",
    "**Q3**\n",
    "\n",
    "Let $X\\ \\sim \\ N(x|0,1)$ and $Y=WX$ where $P(W=1)=P(W=-1)=0.5$\n",
    "\n",
    "a) Show $Y \\sim N(y|0,1)$\n",
    "\n",
    "b) Show $Cov(X,Y)=0$"
   ]
  },
  {
   "cell_type": "markdown",
   "metadata": {
    "id": "fTYmr2wHPEtI"
   },
   "source": [
    "Ans:\n",
    "\n",
    "(a)\n",
    "Since $X \\sim \\mathcal{N}(0,1)$, we have $f_X(x) = \\frac{1}{\\sqrt{2\\pi}}e^{-\\frac{x^2}{2}}$.\n",
    "\n",
    "The random variable $W$ is a discrete random variable with $P(W=1)=P(W=-1)=0.5$, thereby we have that $f_W(w) = \\frac{1}{2}\\mathbf{1}_{\\{w=1\\}} + \\frac{1}{2}\\mathbf{1}_{\\{w=-1\\}}$.\n",
    "\n",
    "Now, we have\n",
    "\n",
    "$\n",
    "\\displaystyle\n",
    "f_Y(y)\n",
    "= \\sum_{w \\in \\{-1,1\\}} f_{Y|W}(y|w)f_W(w)\n",
    "= \\frac{1}{2}f_{X}(y) + \\frac{1}{2}f_{-X}(y)\n",
    "= \\frac{1}{2}\\frac{1}{\\sqrt{2\\pi}}e^{-\\frac{y^2}{2}} + \\frac{1}{2}\\frac{1}{\\sqrt{2\\pi}}e^{-\\frac{y^2}{2}}\n",
    "= \\frac{1}{\\sqrt{2\\pi}}e^{-\\frac{y^2}{2}}\n",
    "\\implies \n",
    "Y \\sim \\mathcal{N}(0,1)\n",
    "$\n"
   ]
  },
  {
   "cell_type": "markdown",
   "metadata": {
    "id": "J8Uy3ze3V3Yf"
   },
   "source": [
    "---\n",
    "**Inference and Estimation**\n",
    "\n",
    "*$\\underline{Statistics}$*\n",
    "\n",
    "*Inference* refers to figuring out, quantitatively, aspects of the population given some samples. It involves building estimators (or statistics - which are formulae for combining data - e.g. average), for the various parameters of the population distribution and quantify their uncertainties. Here estimation is part of the inferencing process.\n",
    "\n",
    "$\\underline{Machine\\ Learning}$\n",
    "\n",
    "Usually develops a parametrized model of the phenomenon, where the model parameters are *estimated* (aka **learning**) from the data.\n",
    "\n",
    "Inference is the process of using the model  to make predictions. It has a narrower connotation than that in Statistics.\n",
    "\n",
    "*$\\underline{Example:\\ Bayesian\\ Inference}$*\n",
    "\n",
    "A patient is tested positive for a disease and the test is 99% accurate (i.e given the disease the test shows positive 99% of the time and given no disease it indicates negative 99% of the time). However the disease is prevalent in only about 1 in 10000 people. What is the chance that the patient has the disease?\n",
    "\n",
    "Ans:\n",
    "\n",
    "Let $D=1$ if someone has the diease and 0 otherwise.\n",
    "\n",
    "$P(D=1)=0.0001$\n",
    "\n",
    "Let $T=1$ if test returns positive and 0 otherwise.\n",
    "\n",
    "Then $P(T=1|D=1) = 0.99$ (true positive) and $P(T=0|D=1)=0.01$ (false negative)\n",
    "\n",
    "Similarly,\n",
    "\n",
    "$P(T=0|D=0)=0.99$ (true negative), $P(T=1|D=0)=0.01$ (false positive)\n",
    "\n",
    "\n",
    "\n",
    "\n",
    "We need to find $P(D=1|T=1)$\n",
    "\n",
    "$P(D=1|T=1)=\\frac{P(T=1|D=1)P(D=1)}{P(T=1)}= \\frac{P(T=1|D=1)P(D=1)}{P(T=1|D=1)P(D=1)+P(T=1|D=0)P(D=0)} = \\frac{0.99*0.0001}{0.99*0.0001+0.01*0.9999} = 0.0098$\n",
    "\n",
    "So even though test seems very accurate, since the disease is very rare, the chance of having the disease is pretty small. Hence one needs to drive down the chance of false positive even more for the test.\n",
    "\n"
   ]
  },
  {
   "cell_type": "markdown",
   "metadata": {
    "id": "uvxm2JAnY3xl"
   },
   "source": [
    "**Maximum Likelihood Estimation**\n",
    "\n",
    "Given data samples $x_D=\\{x_1,x_2,...\\}$ and a parametrized probability model for generating the sample, $X\\ \\ \\tilde\\ \\ p(x;\\theta)$, then the MLE estimate of the parameter is the one that gives the maximum probability of observing that data $x_D$.\n",
    "\n",
    "$\\theta_{mle} = argmax_\\theta p(x_D|\\theta)$\n",
    "\n",
    "Usually the data samples are assumed to be independently sampled hence\n",
    "\n",
    "$p(x_D;\\theta) = ∏ p(x_i;\\theta)$ and is also called the likelihood $L(\\theta)$.\n",
    "\n",
    "Note that the likelihood is a function of the parameter to be estimated.\n",
    "\n",
    "Log likelihood is:\n",
    "\n",
    " $LL(\\theta) = log L(\\theta) = \\sum log(p(x_i;\\theta))$\n",
    "\n",
    "and is more convenient to work with (due to sum rather than a product).\n",
    "\n",
    "Hence MLE estimate of the parameter $\\theta$ is:\n",
    "\n",
    "$\\theta_{mle} = argmax_\\theta LL(\\theta) = argmin_\\theta -LL(\\theta)$\n",
    "\n",
    "where $-LL(\\theta)=NLL(\\theta)$ is sometimes more convenient and is called negative log likelihood."
   ]
  },
  {
   "cell_type": "markdown",
   "metadata": {
    "id": "WqBW9u_Qr5Fk"
   },
   "source": [
    "*$\\underline{Example:Estimating\\ probability\\ of\\ head}$*\n",
    "\n",
    "Let a coin toss give heads with rv $H\\ \\ \\tilde\\ \\ Ber(\\theta)$\n",
    "\n",
    "Given a sequence of $n$ tosses with observations $h_D=\\{h_1, h_2, ..... h_n\\}$, where $h_i$ is either 0 or 1 based on tail of head,\n",
    "\n",
    "we need to find an estimator for the parameter $\\theta$, the probability of getting a head.\n",
    "\n",
    "$L(\\theta) = p(h_D;\\theta) = \\prod_1^n p(h_i;\\theta)= \\prod_1^n\\theta^{h_i}(1-\\theta)^{(1-h_i)}$\n",
    "\n",
    "Therefore\n",
    "\n",
    "$LL(\\theta) = \\sum_1^n h_i log(\\theta)+(1-h_i)log(1-\\theta) = log(\\theta)(\\sum h_i) + log(1-\\theta)\\sum (1-h_i)$\n",
    "\n",
    "Since $\\theta_{mle} = argmax_\\theta LL(\\theta)$,\n",
    "\n",
    "\n",
    "$\\frac{dLL(\\theta)}{d\\theta} = \\frac{\\sum h_i}{\\theta} - \\frac{\\sum 1-h_i}{1-\\theta} =0 $ and we get $\\theta_{mle} = \\frac{\\sum_1^n h_i}{n}$ which is just to sum up binary sample values!  (you can check that this is the maximum by checking the sign of second derivative)."
   ]
  },
  {
   "cell_type": "markdown",
   "metadata": {
    "id": "iQt5PBHAxY3B"
   },
   "source": [
    "*$\\underline{Example:MLE\\ for\\ Univariate\\ Gaussian\\ Parameters}$*\n",
    "\n",
    "Let $X\\ \\ \\tilde\\ \\ N(x|\\mu,\\sigma^2)$\n",
    "\n",
    "and $x_D = \\{x_1, x_2, ...., x_n\\}$ be the observed data samples, each being sampled independently and we would like to estimate the parameters $\\mu, \\sigma$.\n",
    "\n",
    "Then the likelihood\n",
    "\n",
    "$L(\\mu,\\sigma) = \\prod_1^n \\frac{1}{\\sqrt{2\\pi}\\sigma} e^{-\\frac{(x_i-\\mu)^2}{2\\sigma^2}}$\n",
    "\n",
    "and negative log likelihood is:\n",
    "\n",
    "$NLL(\\mu,\\sigma) = \\frac{1}{2}\\sum_i^n \\frac{(x_i-\\mu)^2}{\\sigma^2} + nlog\\sigma + \\frac{n}{2}log2\\pi$\n",
    "\n",
    "$\\frac{dNLL}{d\\mu}= \\frac{1}{\\sigma^2}\\sum_1^n (x_i-\\mu) = 0$ leads to $\\mu_{mle} = \\frac{\\sum_1^nx_i}{n}$\n",
    "\n",
    "and\n",
    "\n",
    "$\\frac{dNLL}{d\\sigma} = \\frac{-\\sum (x_i-\\mu)^2}{\\sigma^3} + \\frac{n}{\\sigma}=0$ and leads to $\\sigma_{mle}^2 = \\frac{\\sum_1^n (x_i-\\mu_{mle})^2}{n}$\n",
    "\n",
    "The above is a biased estimator (i.e. $E\\sigma_{mle} \\neq \\sigma$)\n"
   ]
  },
  {
   "cell_type": "markdown",
   "metadata": {
    "id": "gwMZwXrD1_9j"
   },
   "source": [
    "*$\\underline{MLE\\ for\\ MVN}$*\n",
    "\n",
    "Let $X\\ \\ \\tilde\\ \\ N(x|\\mu,\\Sigma)$ be a n-dimensional random vector which is multivariate normally distributed.\n",
    "\n",
    "Let $x_D = \\{x_1,x_2,...,x_k\\}$ be $k$ observations each of dimension $n$\n",
    "\n",
    "We will write it as a $n\\times k$ data matrix: $x_D = \\begin{bmatrix}x_1 & x_2 & ... & x_k\\end{bmatrix}$\n",
    "\n",
    "Then the Maximum Likelihood Estimate of $\\mu, \\Sigma$ are:\n",
    "\n",
    "$\\mu_{mle} = \\frac{\\sum_{i=1}^k x_i}{k}$\n",
    "\n",
    "$\\Sigma_{mle} = \\frac{x_Dx_D^T}{D} - \\mu_{mle}\\mu_{mle}^T$\n",
    "\n"
   ]
  },
  {
   "cell_type": "markdown",
   "metadata": {
    "id": "vr3siZXo946S"
   },
   "source": [
    "**Computing uncertainties in the estimates via Bayesian Inference**\n",
    "\n",
    "\n",
    "Given an estimate of parameters $\\hat{\\theta}$ computed from data $D$, we would also like to estimate the uncertainty of the estimate.\n",
    "\n",
    "We have seen how inequality bounds can give you one approach to get confidence intervals, i.e. bounds on $P(|\\hat{\\theta}-\\theta_{actual}|\\leq 1-\\epsilon)$\n",
    "\n",
    "\n",
    "Another approach is to estimate the entire posterior distribution $f_{\\hat{\\Theta}}(\\hat{\\theta})$ of the random vector $\\hat{\\Theta}$\n",
    "\n",
    "In order to simplify typing, we will drop the hat notation (for the estimate).\n",
    "\n",
    "Treating the parameters  as a random vector (note this is a modeling choice - to represent unknown but fixed parameters as a random vector with a distribution):\n",
    "\n",
    "Let $f_\\Theta(\\theta)$ be the density we believe the parameter has.\n",
    "\n",
    "Then by Bayes rule, once we get new data $D$,\n",
    "\n",
    "we can do\n",
    "\n",
    "$f_{\\Theta|D}(\\theta) = \\frac{P(D|\\theta)f_\\Theta(\\theta)}{P(D)}$\n",
    "\n",
    "Here $P(D|\\theta)$ is the likelihood of seeing the data for a particular value of the parameter.\n",
    "\n",
    "$f_\\Theta(\\theta)$ is called the prior and\n",
    "\n",
    "$f_{\\Theta|D}(\\theta)$ is called the posterior distribution\n"
   ]
  },
  {
   "cell_type": "markdown",
   "metadata": {
    "id": "DUjDFfGtNB2L"
   },
   "source": [
    "*$\\underline{Conjugate\\ Prior}$*\n",
    "\n",
    "As a modeling choice, certain analytical forms of the prior density, combines with speicific forms of the likelihood function to results in  a posterior density which can be analytically computed.\n",
    "\n",
    "In such cases, it is easy to do the computations and the prior is a conjugate prior to that likelihood function.\n",
    "\n",
    "\n",
    "*$\\underline{Example: Ber(\\theta)}$\n",
    "\n",
    "Let $D=\\{x_1,x_2,...,x_N\\}$ data from N independent samples of a Bernoulli random variable\n",
    "\n",
    "As we have seen, the likelihood is:\n",
    "\n",
    "$L(\\theta;D) = \\prod_{i=1}^n \\theta^{x_i}(1-\\theta)^{(1-x_i)} = \\theta^{N_1}(1-\\theta)^{N_0}$\n",
    "\n",
    "Where $N_1$ is number of 1's and $N_0$ is number of 0s.\n",
    "\n",
    "A conjugate prior is the Beta distribution:\n",
    "\n",
    "$f_\\Theta(\\theta) = Beta(\\theta|a,b) =\n",
    "\\frac{\\Gamma(a+b)}{\\Gamma(a)\\Gamma(b)} \\theta^{a-1}(1-\\theta)^{b-1}$ with $0 \\leq \\theta \\leq 1$\n",
    "\n",
    "with $\\Gamma(a) = \\int_0^∞ x^{a-1}e^{-x}dx$\n",
    "\n",
    "for integer $n$, $\\Gamma(n) = n-1!$ (using integration by parts)\n",
    "\n",
    "$\\Gamma(a+1)=a\\Gamma(a)$\n",
    "\n",
    "\n",
    "Hence the posterior is also a Beta distribution with\n",
    "\n",
    "$f_\\Theta(\\theta) = Beta(\\theta|a+N_1, b+N_0)$\n",
    "\n",
    "<img src='https://drive.google.com/uc?export=view&id=17qEUod78-VGPa4xVmxbB1clguqnhidk8' width=800px>"
   ]
  },
  {
   "cell_type": "markdown",
   "metadata": {
    "id": "qK1JReZrRnaL"
   },
   "source": [
    "---\n",
    "**Q4**\n",
    "\n",
    "If $\\theta\\ \\ \\tilde\\ \\ Beta(\\theta|a,b)$, then show that\n",
    "\n",
    "a) $E\\theta = \\frac{a}{a+b}$\n",
    "\n",
    "b) $Var(\\theta) = \\frac{ab}{(a+b)^2(a+b+1)}$\n",
    "\n",
    "c) $mode(\\theta) = \\frac{a-1}{a+b-2}$"
   ]
  },
  {
   "cell_type": "markdown",
   "metadata": {
    "id": "X7uI0bQjR2S5"
   },
   "source": [
    "Ans:\n",
    "\n",
    "With $\\Theta \\sim \\text{Beta}(a,b)$, we have\n",
    "\n",
    "(a)\n",
    "\n",
    "$\n",
    "\\begin{aligned}\n",
    "E[\\Theta]\n",
    "&\n",
    "= \\int_0^1 \\theta \\frac{\\Gamma(a+b)}{\\Gamma(a)\\Gamma(b)} \\theta^{a-1}(1-\\theta)^{b-1} d\\theta\n",
    "= \\frac{\\Gamma(a+b)}{\\Gamma(a)\\Gamma(b)} \\int_0^1 \\theta^{a}(1-\\theta)^{b-1} d\\theta\n",
    "\\\\ &\n",
    "= \\frac{\\Gamma(a+b)}{\\Gamma(a)\\Gamma(b)} \\frac{\\Gamma(a+1)\\Gamma(b)}{\\Gamma(a+b+1)}\n",
    "= \\frac{a}{a+b}\n",
    "\\end{aligned}\n",
    "$\n",
    "\n",
    "(b)\n",
    "\n",
    "$\n",
    "\\begin{aligned}\n",
    "\\text{Var}[\\Theta]\n",
    "&\n",
    "= E[\\Theta^2] - (E[\\Theta])^2\n",
    "= \\int_0^1 \\theta^2 \\frac{\\Gamma(a+b)}{\\Gamma(a)\\Gamma(b)} \\theta^{a-1}(1-\\theta)^{b-1} d\\theta - \\left( \\frac{a}{a+b} \\right)^2\n",
    "\\\\ &\n",
    "= \\frac{\\Gamma(a+b)}{\\Gamma(a)\\Gamma(b)} \\int_0^1 \\theta^{a+1}(1-\\theta)^{b-1} d\\theta - \\left( \\frac{a}{a+b} \\right)^2\n",
    "\\\\ &\n",
    "= \\frac{\\Gamma(a+b)}{\\Gamma(a)\\Gamma(b)} \\frac{\\Gamma(a+2)\\Gamma(b)}{\\Gamma(a+b+2)} - \\left( \\frac{a}{a+b} \\right)^2\n",
    "\\\\ &\n",
    "= \\frac{a(a+1)}{(a+b)(a+b+1)} - \\left( \\frac{a}{a+b} \\right)^2\n",
    "= \\frac{ab}{(a+b)^2(a+b+1)}\n",
    "\\end{aligned}\n",
    "$\n"
   ]
  },
  {
   "cell_type": "markdown",
   "metadata": {
    "id": "y8gW5oelOjwW"
   },
   "source": [
    "*$\\underline{Gaussian\\ Conjugate\\ Prior\\ and\\ Kalman\\ gain}$*\n",
    "\n",
    "Let $X\\ \\ \\tilde\\ \\ N(x|\\mu_X,\\Sigma_X)$ be a random vector which we would like to estimate (i.e. estimate its distribution or its moments).\n",
    "\n",
    "And let $Z$ be a measurement of $X$ with an additive  Gaussian noise $Y\\ \\ \\tilde\\ \\ N(y|0,\\Sigma_y)$\n",
    "\n",
    "i.e. $Z = WX + Y$ where $W is a  matrix.\n",
    "\n",
    "Then we know that,\n",
    "$\\mu_Z = W\\mu_X$ and\n",
    "\n",
    "$\\Sigma_Z = W\\Sigma_X W^T + \\Sigma_Y$ and that\n",
    "\n",
    "$Z$ is gaussian with $Z=N(z|\\mu_Z,\\Sigma_Z)$\n",
    "\n",
    "\n",
    "We would like to get $f_{X|Z}(x)$, i,e, the posterior after the measurement.\n",
    "\n",
    "We will use the following to get this:\n",
    "\n",
    "$f_{X|Z}(x)f_Z(x) =f_{XZ}(x,z)= f_{Z|X}(z)f_X(x)$\n",
    "\n",
    "We will guess that the joint distribution $f_{XZ}(x,z)$ is also Gaussian. To determine its moments, lets find the cross co-variance $\\Sigma_{XZ} = EXZ^T-(EX)(EZ)^T = XX^TW^T+XY^T - EX(EX)^T\\mu^T = \\Sigma_X W^T$ as $X,Y$ are independent and $EXY^T = EXEY^T = 0$\n",
    "\n",
    "\n",
    "Therefore, the we can write down the joint distribution of $X,Z$ is\n",
    "\n",
    "$f_{XZ}(x,z) = N(x,z|(\\mu_X,\\mu_Z),\\Sigma)$\n",
    "\n",
    "with\n",
    "$\\Sigma = \\begin{bmatrix} \\Sigma_X & \\Sigma_XW^T \\\\ W\\Sigma_X & W\\Sigma_XW^T+\\Sigma_Y \\end{bmatrix}$\n",
    "\n",
    "You can cross check that this gives the right marginals for $f_{Z|X}(z) = N(z|Wx,\\Sigma_y)$\n",
    "\n",
    "Now we can calculate the posterior distribution of $X$, given a measurement $Z=z$ as $\\frac{f_{X,Z}(x,z)}{f_Z(z)}$, which we can write down be refactoring the joint to result in:\n",
    "\n",
    "$f_{X|Z}(x) = N(x|\\mu_{X|Z},\\Sigma_{X|Z})$\n",
    "\n",
    "with\n",
    "\n",
    "$\\mu_{X|Z} = \\mu_X + \\Sigma_XW^T\\Sigma_Z^{-1}(z-W\\mu_X)$\n",
    "\n",
    "$\\Sigma_{X|Z} = \\Sigma/\\Sigma_Z = \\Sigma_X - \\Sigma_XW^T\\Sigma_Z^{-1}W\\Sigma_X$\n",
    "\n",
    "and $\\Sigma_Z = W\\Sigma_X W^T + \\Sigma_Y$\n",
    "\n",
    "In a more compact form, this is written as:\n",
    "\n",
    "$K = \\Sigma_XW^T\\Sigma_Z^{-1}$ also called the Kalman gain\n",
    "\n",
    "then,\n",
    "$\\mu_{X|Z} = \\mu_X + K(z-W\\mu_X) = (I-KW)\\mu_X + Kz$\n",
    "\n",
    "$\\Sigma_{X|Z} = \\Sigma/\\Sigma_Z = (I - KW)\\Sigma_X$\n",
    "\n",
    "Note that in the formula: $f_{X|Z}(x) \\propto f_{Z|X}(z)f_X(x)$, the likelihood, prior and posterior are all Gaussian. Hence Gaussian is also the conjugate prior for a Gaussian likelihood."
   ]
  },
  {
   "cell_type": "markdown",
   "metadata": {
    "id": "lhwKKT4aDsB_"
   },
   "source": [
    "---\n",
    "*Example*\n",
    "\n",
    "Consider a univariate case, with $\\Sigma_X = \\sigma_x^2$ and $W = w$ as the measurement gain and $\\Sigma_Y = \\sigma_y^2$ as the measurement noise.\n",
    "\n",
    "\n",
    "Then $\\Sigma_Z = \\sigma_z^2 = w^2\\sigma_x^2 + \\sigma_y^2$\n",
    "\n",
    "and the Kalman gain is $K = \\frac{w\\sigma_x^2}{w^2\\sigma_x^2 + \\sigma_y^2}$.\n",
    "\n",
    "\n",
    "\n",
    "Therefore $\\mu_{X|Z} = \\mu_X + K(z-w\\mu_X) = \\frac{\\sigma_y^2}{w^2\\sigma_x^2+\\sigma_y^2}\\mu_X + \\frac{w^2\\sigma_x^2}{w^2\\sigma_x^2+\\sigma_y^2}\\frac{z}{w}$ and $\\sigma_{X|Z}^2 = (1-Kw)\\sigma_x^2 = \\frac{\\sigma_y^2\\sigma_x^2}{w^2\\sigma_x^2+\\sigma_y^2}$\n",
    "\n",
    "\n",
    "Note if $\\sigma_y → 0$ , it means the measurements are more accurate, then $Kw → 1$ and. more weightage is given to measurements $(1-Kw)$\n",
    "\n",
    "On the other hand, with poor measurements,  $\\sigma_y^2 >> w^2\\sigma_x^2$, then $Kw << 1$ and tends to 0 and less weightage is given to measurements.\n",
    "\n",
    "Thus with good measurements $Kw→1$ and posterior is more influenced by data."
   ]
  },
  {
   "cell_type": "markdown",
   "metadata": {
    "id": "jzX9IL54F3mA"
   },
   "source": [
    "---\n",
    "*$\\underline{Multisensor\\ Fusion}$*\n",
    "\n",
    "Assume there are two independent sensors, giving a measurement of $X$ as:\n",
    "\n",
    "$Z_1 = W_1 X + Y_1$ with $Y_1\\ \\ \\tilde\\ \\ N(y_1|0,\\Sigma_{Y_1})$\n",
    "\n",
    "and\n",
    "\n",
    "$Z_2 = W_2 X + Y_2$ with $Y_2\\ \\ \\tilde\\ \\ N(y_2|0,\\Sigma_{Y_2})$\n",
    "\n",
    "and the conditional measurement independence is described formally as :\n",
    "\n",
    "$f_{Z_1,Z_2|X}(z_1,z_2) = f_{Z_1|X}(z_1)f_{Z_2|X}(z_2)$\n",
    "\n",
    "\n",
    "We would like to figure out how to best estimate the vector $X$ given the measurements $Z_1, Z_2$, i.e. find the posterior $f_{X|Z_1,Z_2}(x)$.\n",
    "\n",
    "We can concatenate the measurements as:\n",
    "\n",
    "$Z = \\begin{bmatrix} Z_1 \\\\ Z_2 \\end{bmatrix} = \\begin{bmatrix} W_1 \\\\ W_2 \\end{bmatrix} X + \\begin{bmatrix}Y_1 \\\\ Y_2 \\end{bmatrix}$\n",
    "\n",
    "\n",
    "$\\Sigma_Z = W\\Sigma_XW^T+\\begin{bmatrix}\\Sigma_{Y_1} & 0 \\\\ 0 & \\Sigma_{Y_2} \\end{bmatrix}$\n",
    "\n",
    "\n",
    "\n",
    "$K = \\Sigma_X W^T \\Sigma_Z^{-1}$\n",
    "\n",
    "and apply the formulae  from above cell for deriving $\\mu_{X|Z}$ and $\\Sigma_{X|Z}$.\n",
    "\n",
    "However we can get a bit more insight by looking at this as follows:\n",
    "\n",
    "\n",
    "$f_{X|Z_1,Z_2}(x) = \\frac{f_{Z_1,Z_2|X}(z_1, z_2)f_X(x)}{f_{Z_1,Z_2}(z_1,z_2)} = \\gamma f_{Z_1,Z_2|X}(x)f_X(x)$ where $\\gamma$ is independent of $x$ and is whatever needed to normalize the pdf.\n",
    "\n",
    "Now $Z_1, Z_2$ are independent measurements given a particular value of $X$ (or conditioned on X).\n",
    "\n",
    "Hence $f_{Z_1, Z_2|X}(z_1, z_2) = f_{Z_1|X}(z_1)f_{Z_2|X}(z_2) = N(z_1|W_1x, \\Sigma_{Y_1})N(z_2|W_2x, \\Sigma_{Y_2})$\n",
    "\n",
    "Hence $f_{X|Z_1,Z_2}(x) = \\gamma N(z_1|W_1x, \\Sigma_{Y_1})N(z_2|W_2x, \\Sigma_{Y_2}) N(x|\\mu_X, \\Sigma_X)$\n",
    "\n",
    "Lets look at the argument of the exponent on both sides:\n",
    "\n",
    "Left hand side:\n",
    "\n",
    "$x^T\\Sigma_{X|Z}^{-1}x - 2x^T\\Sigma_{X|Z}^{-1}\\mu_{X|Z} + \\mu_{X|Z}^T\\Sigma_{X|Z}^{-1}\\mu_{X|Z}$\n",
    "\n",
    "Right hand side:\n",
    "\n",
    "$(z_1-W_1x)^T\\Sigma_{Y_1}^{-1}(z_1-W_1x) + (z_2-W_2x)^T\\Sigma_{Y_2}^{-1}(z_2-W_2x) + (x-\\mu_X)\\Sigma_X^{-1}(x-\\mu_X)$\n",
    "\n",
    "Equating the terms corresponding the $x$, we get\n",
    "\n",
    "$\\Sigma_{X|Z}^{-1} = W_1^T\\Sigma_{Y_1}^{-1}W_1 + W_2^T\\Sigma_{Y_2}^{-1}W_2 + \\Sigma_X^{-1}$\n",
    "\n",
    "and\n",
    "\n",
    "$\\Sigma_{X|Z}^{-1}\\mu_{X|Z} = W_1^T\\Sigma_{Y_1}^{-1}z_1 + W_2^T\\Sigma_{Y_2}^{-1}z_2 +  \\Sigma_X^{-1} \\mu_X$\n",
    "\n",
    "\n",
    "(note the terms not dependent on $x$ get aborbed into the normalization constant).\n",
    "\n",
    "\n"
   ]
  },
  {
   "cell_type": "markdown",
   "metadata": {
    "id": "hXoWbPG6O0cu"
   },
   "source": [
    "*Example*\n",
    "\n",
    "Let two sensors have variances $\\sigma_1^2$ and $\\sigma_2^2$ respectively. Then the optimal way to combine their measurements $z_1$ and $z_2$ is:\n",
    "\n",
    "$\\sigma_{Z}^{-2} = \\sigma_1^{-2}+\\sigma_2^{-2}$\n",
    "\n",
    "and $Z = \\frac{\\sigma_Z^2}{\\sigma_1^2}z_1+\\frac{\\sigma_Z^2}{\\sigma_2^2}z_2 = \\frac{\\sigma_2^2}{\\sigma_1^2+\\sigma_2^2}z_1  + \\frac{\\sigma_1^2}{\\sigma_1^2+\\sigma_2^2}z_2$\n",
    "\n",
    "Thus the sensor with low variance is given high weightage and vice-versa"
   ]
  },
  {
   "cell_type": "markdown",
   "metadata": {
    "id": "aa3sPoyoQn-I"
   },
   "source": [
    "---\n",
    "**Q5**\n",
    "\n",
    "\n",
    "Consider two temperature sensors with the data on their errors during calibration as below:\n",
    "\n",
    "error data sensor 1: [-0.11575496  0.02897558  0.07808541  0.05439736 -0.09613826  0.10710087  0.07014557  0.07049735  0.07450626  0.11043472]\n",
    "\n",
    "error data for sensor 2:\n",
    "[ 0.44859448 -0.12229862  0.00944224  0.35084694 -0.26759597  0.06511489\n",
    " -0.13782354 -0.00396436  0.09495065 -0.38622028]\n",
    "\n",
    "\n",
    "Find the optimal temperature estimate if sensor 1 report 21.1 and sensor 2 reports 23.2\n"
   ]
  },
  {
   "cell_type": "markdown",
   "metadata": {
    "id": "p42dhBgSR8Ji"
   },
   "source": [
    "Ans:\n",
    "\n"
   ]
  },
  {
   "cell_type": "code",
   "execution_count": null,
   "metadata": {
    "colab": {
     "base_uri": "https://localhost:8080/"
    },
    "id": "C__tztpXSHAR",
    "outputId": "66d2724e-ac26-4dc5-c69a-3cf321b63eb4"
   },
   "outputs": [
    {
     "name": "stdout",
     "output_type": "stream",
     "text": [
      "Sensor1 bias: bias=0.03822499, variance=0.006499477687241411\n",
      "Sensor2 bias=0.005104642999999992, variance=0.06579805574772601\n",
      "The optimal temperature estimate is = 21.253540447087815\n"
     ]
    }
   ],
   "source": [
    "nSamp = 10\n",
    "\n",
    "\n",
    "#sensor 1\n",
    "data_1 = np.array([-0.11575496,0.02897558,0.07808541,0.05439736,-0.09613826,0.10710087,\n",
    "  0.07014557,0.07049735, 0.07450626, 0.11043472])\n",
    "var1=np.sum(data_1*data_1)/(nSamp-1)\n",
    "#print(f\"Variance of sensor 1 is {var1}\")\n",
    "m1 = np.sum(data_1)/nSamp\n",
    "var_act1= var1-m1*m1\n",
    "print(f\"Sensor1 bias={m1}, variance={var_act1}\")\n",
    "\n",
    "\n",
    "data_2 = np.array([0.44859448,-0.12229862, 0.00944224,  0.35084694, -0.26759597,  0.06511489,\n",
    " -0.13782354, -0.00396436,  0.09495065, -0.38622028])\n",
    "var2 = np.sum(data_2*data_2)/(nSamp-1)\n",
    "m2 = np.sum(data_2)/nSamp\n",
    "#print(f\"Variance of sensor 2 is {var2}\")\n",
    "var_act2 = var2-m2*m2\n",
    "print(f\"Sensor2 bias={m2}, variance={var_act2}\")\n",
    "\n",
    "T1 = 21.1\n",
    "T2 = 23.2\n",
    "\n",
    "#print(f\"The optimal temperature estimate without considering bias is = {var2*T1/(var1+var2) + var1*T2/(var1+var2)}\")\n",
    "\n",
    "print(f\"The optimal temperature estimate is = {<yourcode>}\")\n"
   ]
  },
  {
   "cell_type": "markdown",
   "metadata": {
    "id": "Ufa1IcxPZw0F"
   },
   "source": [
    "---\n",
    "**Q6**\n",
    "\n",
    "Exercise 3.7 from PML text:\n",
    "\n",
    "Suppose we have two sensors with known (and different) variances $\\sigma_1^2$ and $\\sigma_2^2$, but unknown (and the same)\n",
    "mean μ.\n",
    "\n",
    "Suppose we observe $n_1$ observations $z_1 ∼ N(μ,\\sigma_1)$ from the first sensor and $n_2$ observations\n",
    "$z_2 ∼ N(μ,\\sigma_2)$ from the second sensor. (For example, suppose μ is the true temperature outside, and sensor 1\n",
    "is a precise (low variance) digital thermosensing device, and sensor 2 is an imprecise (high variance) mercury thermometer.)\n",
    "\n",
    "Let $D$ represent all the data from both sensors.\n",
    "\n",
    "What is the posterior $p(μ|D)$, assuming a non-informative prior for μ (which we can simulate using a Gaussian with a precision of 0)?\n",
    "\n",
    "Give an explicit expression for the posterior mean and variance."
   ]
  },
  {
   "cell_type": "markdown",
   "metadata": {
    "id": "OF78F6OIb69n"
   },
   "source": [
    "Ans:\n",
    "\n"
   ]
  },
  {
   "cell_type": "markdown",
   "metadata": {
    "id": "Rad85MqQvYKK"
   },
   "source": [
    "---\n",
    "\n",
    "**Kalman filter for a linear dynamical system**\n",
    "\n",
    "\n",
    "We will now build upon the previous results to derive the optimal state estimate for a linear dynamical system, by combining state evolution based on the state transition equation, with measurements.\n",
    "\n",
    "Let at time step $k$\n",
    "\n",
    "$X_k$ be the state of the system. We will model this as gaussian with mean $\\mu_{X_k}$ and covariance $\\Sigma_{X_k}$\n",
    "\n",
    "\n",
    "$u_k$ be the input to the system\n",
    "\n",
    "$A_k$ state transition matrix\n",
    "\n",
    "$B_k$ be the input to state matrix\n",
    "\n",
    "$P_k$ be the process noise which we will model as 0 mean gaussian with covariance $\\Sigma_{P_k}$\n",
    "\n",
    "The dynamical evolution of the system is then given as\n",
    "\n",
    "$X_{k+1} = A_k X_k + B_k u_k + P_k$\n",
    "\n",
    "\n",
    "$W_k$ be the measurment matrix\n",
    "\n",
    "$M_k$ be the measurement noise which is also assumed to be Gassian with zero mean and  covariance $\\Sigma_{M_k}$\n",
    "\n",
    "$Z_k$ is the measurement and is given as\n",
    "\n",
    "$Z_k = W_k X_k + M_k$\n",
    "\n",
    "Kalman filtering is done in two steps:\n",
    "\n",
    "*$\\underline{Predict\\ step}$*\n",
    "\n",
    "Here we use the state value at time k to predict its value at k+1 using the dynamical equation.\n",
    "\n",
    "Let $X_{k+1}^p$ be the predicted state at $k+1$\n",
    "\n",
    "Note since all input variables are assumed to be distributed as gaussian, the outputs will also be gaussian. Hence we only need to keep track of the means and the co-variances\n",
    "\n",
    "Then\n",
    "\n",
    "$\n",
    "\\mu_{X_{k+1}}^p = A_k \\mu_{X_k} + B_k u_k\n",
    "$\n",
    "\n",
    "$\n",
    "\\Sigma_{X_{k+1}}^p = A_k \\Sigma_{X_k} A_k^T + \\Sigma_{P_k}\n",
    "$\n",
    "\n",
    "We can use these as prior to the measurement $Z_{k+1}$ as it measures $X_{k+1}^p$\n",
    "\n",
    "Therefore, using the formula derived above the posterior moments is can be derived as\n",
    "\n",
    "\n",
    "Kalman gain is:\n",
    "\n",
    "$\n",
    "K_{k+1} = \\Sigma_{X_{k+1}}^p W_{k+1}^T(W_{k+1}\\Sigma_{X_{k+1}}^pW_{k+1}^T + \\Sigma_{M_k})^{-1}\n",
    "$\n",
    "\n",
    "*$\\underline{Update\\ step}$*\n",
    "\n",
    "Use the measurement $y_{k+1}$ to updat ethe  Covariance and mean of posterior at time $k+1$:\n",
    "\n",
    "$\n",
    "\\Sigma_{X_{k+1}} = (I - K_{k+1}W_{k+1})\\Sigma_{X_{k+1}}^p\n",
    "$\n",
    "\n",
    "$\n",
    "\\mu_{X_{k+1}} = \\mu_{X_{k+1}}^p + K_{k+1}(z_{k+1}-W_{k+1}\\mu_{X_{k+1}}^p)\n",
    "$"
   ]
  },
  {
   "cell_type": "markdown",
   "metadata": {
    "id": "0yJpNRYAuC5K"
   },
   "source": [
    "---\n",
    "**Q7**\n",
    "\n",
    "*$\\underline{Simple\\ pendulum\\ Model}$*\n",
    "\n",
    "𝑙  : Length of pendulum\n",
    "\n",
    "𝑚  : Mass of pendulum\n",
    "\n",
    "$g$  : Acceleration due to gravity\n",
    "\n",
    "𝑑𝑡  : Time step\n",
    "\n",
    "$𝜃_𝑛$  : Angular deviation from vertical at timestep  𝑛 (counter clockwise is positive)\n",
    "\n",
    "$\\omega_n=\\dot{𝜃}_𝑛$ : Angular velocity at timestep  𝑛\n",
    "\n",
    "$𝜃_{𝑛+1}=𝜃_𝑛+\\dot{𝜃}_n 𝑑𝑡 $\n",
    "\n",
    "$\\omega_{n+1}=\\dot{𝜃}_{𝑛+1}=\\dot{𝜃}_𝑛 − \\frac{g sin(𝜃_𝑛)}{l}𝑑𝑡 $\n",
    "\n",
    "For small $\\theta_n$, $sin(\\theta_n) ≈ \\theta_n$\n",
    "and the above equation can be linearized as:\n",
    "\n",
    "$\\dot{𝜃}_{𝑛+1}=\\dot{𝜃}_𝑛 − \\frac{g𝜃_𝑛}{l}𝑑𝑡 $\n",
    "\n",
    "Therefore:\n",
    "\n",
    "$\\begin{bmatrix} \\theta_{n+1} \\\\ \\omega_{n+1} \\end{bmatrix} = \\begin{bmatrix} 1 & dt \\\\-\\frac{gdt}{l} & 1\\end{bmatrix} \\begin{bmatrix} \\theta_n \\\\ \\omega_n \\end{bmatrix} + P_n$\n",
    "\n",
    "with the process noise $P_n\\ \\ \\tilde\\ \\ N(r_n|0,\\Sigma_P)$ where $\\Sigma_P$ is a 2x2 matrix\n",
    "\n",
    "Measurement of angle:\n",
    "\n",
    "$𝑧_𝑛 = 𝜃_𝑛+M$\n",
    "\n",
    "where  $M\\ \\tilde\\ 𝑁(m|0,\\sigma_M^2)$   is normal.\n",
    "\n",
    "\n",
    "a) Write the Kalman filter based state estimation equations and\n",
    "\n",
    "b) Complete the simulation code below"
   ]
  },
  {
   "cell_type": "markdown",
   "metadata": {
    "id": "SMG28Lh8x05I"
   },
   "source": [
    "Ans:\n",
    "\n",
    "\n"
   ]
  },
  {
   "cell_type": "code",
   "execution_count": null,
   "metadata": {
    "colab": {
     "base_uri": "https://localhost:8080/",
     "height": 562
    },
    "id": "QNcnjLHFrA55",
    "outputId": "bfd37b3d-14fa-497c-b75f-61c7624d744b"
   },
   "outputs": [
    {
     "name": "stdout",
     "output_type": "stream",
     "text": [
      "0: ang=[0.01],vel=[0.], predang=[0.01], corr_ang=[0.01], K=[[0.]\n",
      " [0.]]\n"
     ]
    },
    {
     "data": {
      "text/plain": [
       "<matplotlib.legend.Legend at 0x78045889b160>"
      ]
     },
     "execution_count": 180,
     "metadata": {},
     "output_type": "execute_result"
    },
    {
     "data": {
      "image/png": "[encoded data removed]",
      "text/plain": [
       "<Figure size 640x480 with 2 Axes>"
      ]
     },
     "metadata": {},
     "output_type": "display_data"
    }
   ],
   "source": [
    "\n",
    "#system parameters\n",
    "g = 9.8 #m/s^2\n",
    "l = 1 #m\n",
    "dt=0.1 #second\n",
    "b = 0.2 #damping factor\n",
    "m = 1 #kg mass of bob\n",
    "\n",
    "#number of time steps for simulation\n",
    "nstep = 1000\n",
    "\n",
    "#process noise\n",
    "Cov_P =np.array([[0.01,0],\n",
    "                 [0,0.01]])\n",
    "P = rng.multivariate_normal([0,0],Cov_P,nstep)\n",
    "\n",
    "#measurement noise\n",
    "Cov_M = np.array([[0.01]])\n",
    "M = rng.multivariate_normal([0],Cov_M,nstep)\n",
    "\n",
    "#process matrix\n",
    "A = np.array([[1,dt],[-g*dt/l, -b/m+1]])\n",
    "#measurement matrix\n",
    "C = np.array([1,0]).reshape((1,2))\n",
    "\n",
    "#state matrices\n",
    "X = np.zeros((nstep,2,1))\n",
    "#mean\n",
    "mu = np.zeros((nstep,2,1))\n",
    "#covariance\n",
    "cov = np.zeros((nstep,2,2))\n",
    "\n",
    "#predicted mean and covariance\n",
    "mu_p = np.zeros((nstep,2,1))\n",
    "cov_p = np.zeros((nstep,2,2))\n",
    "\n",
    "#initial mean and covariance\n",
    "mu[0] = [[0.01],[0]]\n",
    "cov[0] = np.array([[0.05,0],[0,0.05]])\n",
    "cov_p[0] = cov[0]\n",
    "\n",
    "X[0] = mu[0]\n",
    "mu_p[0]=mu[0]\n",
    "\n",
    "#other arrays\n",
    "z = np.zeros(nstep)  #measurement\n",
    "K = np.zeros((nstep,2,1)) #kalman gain\n",
    "\n",
    "print(f\"{0}: ang={X[0,0]},vel={X[0,1]}, predang={mu_p[0,0]}, corr_ang={mu[0,0]}, K={K[0]}\")\n",
    "\n",
    "for i in range(1,nstep):\n",
    "  #simulation of pendulum\n",
    "  #dynamics - use exact -non-linear equation\n",
    "  X[i,0] = X[i-1,0] + X[i-1,1]*dt + P[i,0] #angle update\n",
    "  X[i,1] = -g/l*np.sin(X[i-1,0])*dt + (-b/m+1)* X[i-1,1] + P[i,1] #angular velocity update\n",
    "\n",
    "  #measurement\n",
    "  z[i] = C @ X[i] + M[i]\n",
    "\n",
    "  #predict step\n",
    "  cov_p[i] = #<your code here>\n",
    "  mu_p[i] = #<your code here>\n",
    "\n",
    "  #print(f\"i={i}: {cov_p[i,0,0]}, {cov_p[i] @ C.T}, {C @ cov_p[i] @ C.T },{cov_p[i] @ C.T@np.linalg.inv(C @ cov_p[i] @ C.T + Cov_M)} \")\n",
    "\n",
    "  #update step\n",
    "  K[i] =  #your code here\n",
    "  mu[i] =  #your code here\n",
    "  cov[i] = #your code here\n",
    "\n",
    "  #print(K[i],K[i]@C)\n",
    "\n",
    "  #print(f\"{i}: X={X[i]}, pred={mu_p[i]}, corr={mu[i]}, z={z[i]}, K={K[i]}\")\n",
    "\n",
    "\n",
    "fig,ax = plt.subplots(1,2, layout='constrained')\n",
    "ax[0].plot(mu[-100:,0],label=\"est mean ang\")\n",
    "ax[0].plot(X[-100:,0],label=\"actual ang\")\n",
    "ax[0].set_xlabel(\"time\")\n",
    "ax[0].set_ylabel(\"radian\")\n",
    "ax[0].set_title(\"ang (last 100 timesteps)\")\n",
    "ax[0].legend()\n",
    "\n",
    "ax[1].plot(mu[-100:,0],label=\"est mean angvel\")\n",
    "ax[1].plot(X[-100:,0],label=\"actual angvel\")\n",
    "ax[1].set_xlabel(\"time\")\n",
    "ax[1].set_ylabel(\"radian/s\")\n",
    "ax[1].set_title(\"angvel (last 100 timesteps)\")\n",
    "ax[1].legend()\n"
   ]
  },
  {
   "cell_type": "markdown",
   "metadata": {
    "id": "MUskeSbxzBcW"
   },
   "source": [
    "---\n",
    "**Online Reference for Kalman Filters**\n",
    "\n",
    "https://github.com/rlabbe/Kalman-and-Bayesian-Filters-in-Python\n",
    "\n"
   ]
  }
 ],
 "metadata": {
  "colab": {
   "include_colab_link": true,
   "provenance": []
  },
  "kernelspec": {
   "display_name": "base",
   "language": "python",
   "name": "python3"
  },
  "language_info": {
   "name": "python",
   "version": "3.9.19"
  }
 },
 "nbformat": 4,
 "nbformat_minor": 0
}
