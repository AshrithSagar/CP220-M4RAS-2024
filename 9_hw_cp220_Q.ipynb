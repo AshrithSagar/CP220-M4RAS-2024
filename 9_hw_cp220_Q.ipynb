{
  "nbformat": 4,
  "nbformat_minor": 0,
  "metadata": {
    "colab": {
      "provenance": [],
      "include_colab_link": true
    },
    "kernelspec": {
      "name": "python3",
      "display_name": "Python 3"
    },
    "language_info": {
      "name": "python"
    }
  },
  "cells": [
    {
      "cell_type": "markdown",
      "metadata": {
        "id": "view-in-github",
        "colab_type": "text"
      },
      "source": [
        "<a href=\"https://colab.research.google.com/github/AshrithSagar/CP220-M4RAS-2024/blob/main/9_hw_cp220_Q.ipynb\" target=\"_parent\"><img src=\"https://colab.research.google.com/assets/colab-badge.svg\" alt=\"Open In Colab\"/></a>"
      ]
    },
    {
      "cell_type": "markdown",
      "source": [
        "---\n",
        "**HW9**\n",
        "\n",
        "Text: Introduction to Probability by Bertsekas,\n",
        "\n",
        "https://indianinstituteofscience.sharepoint.com/:b:/s/CP220-2024MathTechniquesforRoboticsandAutonomousSystems/ET7k_JXirLRPpejmhs8FBG8BEpl9L3extHHVV2EGOIYAOA?e=WCnfNR"
      ],
      "metadata": {
        "id": "GqaMRbJDNpYm"
      }
    },
    {
      "cell_type": "markdown",
      "source": [
        "**Chance and Uncertainty**\n",
        "\n",
        "Frequentist interpretation versus quantifying uncertainty\n",
        "\n",
        "**Probabilistic Model**\n",
        "\n",
        "Sample space: $\\Omega$ is set of all possible outcomes.\n",
        "\n",
        "Examples: a) Coin toss result, b) scores of Virat c) Amount of spin imparted by Kuldeep\n",
        "\n",
        "Event: A subset of sample space, i.e. $E \\subset \\Omega$\n",
        "\n",
        "Examples: a) Scored a century b) Googly versus leg spin versus straight\n",
        "\n",
        "Probability model: Assigns a probability number (between 0 and 1) to outcomes, which satistfies the following laws:\n",
        "\n",
        "**Probability Laws**\n",
        "\n",
        "Assign Probability to every (measurable) subset of $E\n",
        " \\subset \\Omega$ such that\n",
        "\n",
        "1. Non-negativity:  P(E) >=0\n",
        "\n",
        "2. Additivity: If $E_1, E_2, E_3,....$ are disjoint subsets of the sample space $\\Omega$, then:\n",
        "\n",
        "$P(E_1 \\cup E_2 \\cup E_3 \\cup .... ) = P(E_1) + P(E_2) + P(E_3) + ... $\n",
        "\n",
        "3.  Normalization: $P(\\Omega) = 1$\n",
        "\n",
        "\n",
        "**Consequences**\n",
        "\n",
        "1. $P(∅ \\cup \\Omega) = P(\\Omega) = 1 = P(∅) + P(\\Omega) \\implies P(\\emptyset) = 0$\n",
        "\n",
        "2. if $A \\subset B$ then $P(A) \\lt P(B)$\n",
        "\n",
        "3. $P(A \\cup B) = P(A) + P(B) - P(A \\cap B)$\n",
        "\n",
        "\n",
        "\n",
        "**Statistics and Probability**\n",
        "\n",
        "Statistics is concerned with data: sampling, organizing, summarizing etc.\n",
        "\n",
        "Descriptive statistics quantifies certain aspects of the data samples: mean, median, variance etc.\n",
        "\n",
        "Statistical inference: Derive some insight (in a quantitative manner) of the underlying phenomena or model or population. Use for : Estimation, Relations, Predictions\n",
        "\n",
        "Mathematical statistics uses probability theory, linear algebra and other branches of mathematics to do inference."
      ],
      "metadata": {
        "id": "_5LIZXLVNuPv"
      }
    },
    {
      "cell_type": "markdown",
      "source": [
        "**Examples**\n",
        "\n",
        "Discrete probability\n",
        "\n",
        "- Coin toss\n",
        "\n",
        "- Sequences of coin tosses\n",
        "\n",
        "- Events and counts\n",
        "\n",
        "- Probability mass function\n",
        "\n",
        "\n",
        "Continuous probability\n",
        "\n",
        "- Arrival time of a train\n",
        "\n",
        "- Pitching of a ball\n",
        "\n",
        "- Probability density function\n"
      ],
      "metadata": {
        "id": "BKyUoErqfcIG"
      }
    },
    {
      "cell_type": "markdown",
      "source": [
        "**Conditional Probability**\n",
        "\n",
        "Probability of A given B has happened (or given condition B):$P(A|B)$\n",
        "\n",
        "Example: Probability of an Ace of club, given a black card has been drawn = 1/26\n",
        "\n",
        "\n",
        "$P(A|B) = \\frac{P(A \\cap B)}{P(B)}$ $(assuming P(B) > 0)$\n",
        "\n",
        "\n",
        "Conditional probabilities also follow probability law, non-negativity, disjoing union and normalization.  The conditioning event defines a new restricted universe or sample set.\n",
        "\n",
        "\n",
        "Example:\n",
        "\n",
        "Three coin tosses:\n",
        "\n",
        "A = {More heads than tail}\n",
        "\n",
        "B = {1st toss is a head}\n",
        "\n",
        "$\\Omega$ = {HHH, HHT, HTH, HTT, THH, THT, TTH, TTT}\n",
        "\n",
        "A = {HHH, HHT, HTH}\n",
        "\n",
        "B = {HHH, HHT, HTH, HTT}\n",
        "\n",
        "$P(A \\cap B) = 3/8$\n",
        "\n",
        "$P(A) = 3/8$\n",
        "\n",
        "$P(B) = 4/8$\n",
        "\n",
        "$P(A|B) = 3/4$\n",
        "\n"
      ],
      "metadata": {
        "id": "Ta-aqtZ6jhrA"
      }
    },
    {
      "cell_type": "markdown",
      "source": [
        "**Sequential Processes**\n",
        "\n",
        "$P(A \\cap B) = P(B)P(A|B)$\n",
        "\n",
        "$P(A \\cap B)$ is also written as $P(A,B)$\n",
        "\n",
        "\n",
        "*Example*\n",
        "\n",
        "Let $X_1, X_2, X_3, ...$ be the position of the robot at times 1,2,3,...\n",
        "\n",
        "Then\n",
        "\n",
        "$P(X_1, X_2, X_3, ...) = P(X_1)P(X_2|X_1)P(X_3|X_2 \\cap X_1)....$"
      ],
      "metadata": {
        "id": "PquYMUg-lOCu"
      }
    },
    {
      "cell_type": "markdown",
      "source": [
        "---\n",
        "*Example:*\n",
        "\n",
        "Three cards sequentially drawn without replacement. What is the probability that none is a heart?\n",
        "\n",
        "\n",
        "Approach 1:\n",
        "\n",
        "$\\Omega$ = {set of all triplets drawn withouth replacement}\n",
        "\n",
        "$|\\Omega|$ = $^{52}P_3$\n",
        "\n",
        "$A$ = {set of all non-heart triplets}\n",
        "\n",
        "$|A| = ^{39}P_3$\n",
        "\n",
        "$P(A) = |A|/|\\Omega| = \\frac{39.38.37}{52.51.50}$\n",
        "\n",
        "Approach 2:\n",
        "\n",
        "$A_i$ = {$i^{th}$ card is not an heart.\n",
        "\n",
        "$P(A_1) = \\frac{39}{52}$\n",
        "\n",
        "$P(A_2|A_1 = \\frac{38}{51}$\n",
        "\n",
        "$P(A_3|A_1 \\cap A_2) = \\frac{37}{50}$\n",
        "\n",
        "$P(A) = P(A_1 \\cap A_2 \\cap A_3)$"
      ],
      "metadata": {
        "id": "fY8Ev2IEmRC8"
      }
    },
    {
      "cell_type": "markdown",
      "source": [
        "**Total Probability Theorem**\n",
        "\n",
        "Let $A_1, A_2, ... A_n$ be a disjoint partition of $\\Omega$.\n",
        "\n",
        "Then $B = \\Omega \\cap B = (A_1 \\cup A_2 \\cup ... \\cup A_n) \\cap B = (A_1 \\cap B) \\cup (A_2 \\cap B) ...$\n",
        "\n",
        "$P(B) = P(A_1 \\cap B) + P(A_2 \\cap B) + ... + P(A_n \\cap B) = P(A_1)P(B|A_1) + P(A_2)P(B|A_2) + ... + P(A_n)P(B|A_n)$"
      ],
      "metadata": {
        "id": "O3JnOS41n5y1"
      }
    },
    {
      "cell_type": "markdown",
      "source": [
        "Example:\n",
        "\n",
        "let probability of winning against Asian countries be 0.6 and probability of winning against non-asian countries is 0.3. What is the probability of winning the worldcup 2023 ?\n",
        "\n",
        "$P(Winning) = P(AsianOpponent)*P(Winning|AsianOpponent) + P(NonAsianOpponent)*P(Winning|NonAsianOpponent) = 0.45$\n",
        "\n"
      ],
      "metadata": {
        "id": "tW2ZvAWdpAIa"
      }
    },
    {
      "cell_type": "markdown",
      "source": [
        "**Bayes rule**\n",
        "\n",
        "Let $A_1, A_2, .. .A_n$ be a disjoint partition of the sample space.\n",
        "\n",
        "$P(A_i \\cap B) = P(A_i|B)P(B) = P(B|A_i)P(A_i)$\n",
        "\n",
        "hence\n",
        "\n",
        "$P(A_i|B) = \\frac{P(B|A_i)P(A_i)}{P(B)} = \\frac{P(B|A_i)P(A_i)}{P(A_1)(P(B|A_1)+P(A_2)P(B|A_2)+...P(A_n)P(B|A_n)} $"
      ],
      "metadata": {
        "id": "bmxF9DU-qu-A"
      }
    },
    {
      "cell_type": "markdown",
      "source": [
        "*Example:*\n",
        "\n",
        "Let A = {intruder}\n",
        "\n",
        "B = {sensor raises an alarm}\n",
        "\n",
        "Let P(A) = 0.05\n",
        "\n",
        "Let P(B|A) = 0.99 (True detection)\n",
        "\n",
        "$P(B|A^c) = 0.1$ (False alarm)\n",
        "\n",
        "Then given that alarm has been triggered, what is the probability that an intruder has come?\n",
        "\n",
        "\n",
        "Then $P(A|B) = \\frac{P(B|A)P(A)}{P(B|A)P(A)+P(B|A^c)P(A^c)} = 0.05*0.99 / (0.05*0.99 + 0.95*0.1) ≈ 0.34$"
      ],
      "metadata": {
        "id": "FheLLtVhrmCk"
      }
    },
    {
      "cell_type": "markdown",
      "source": [
        "**Independence**\n",
        "\n",
        "Intuitively B has no influence on A, i.e $P(A|B) = P(A)$\n",
        "\n",
        "Hence defined as $P(A \\cap B) = P(A)P(B)$"
      ],
      "metadata": {
        "id": "i6t_m34OspN_"
      }
    },
    {
      "cell_type": "markdown",
      "source": [
        "---\n",
        "**Monty Hall Problem**\n",
        "\n",
        "There is a prize that is equally likely to be present  behind one of  3 closed doors.  You first pick a door. Your friend then opens one of the other two doors which doesnt have a prize. You now have an option to either remain with your selection or switch your selection to the other unopened door. Evaluate the following two strategies in terms of chance of getting a prize:\n",
        "\n",
        "I: First pick a random door. Stick to your original choice even after another door is opened.\n",
        "\n",
        "II: First pick a random door. Switch to the unopened door.\n"
      ],
      "metadata": {
        "id": "01qM_nksbpTC"
      }
    },
    {
      "cell_type": "markdown",
      "source": [
        "---\n",
        "*Solution*\n",
        "\n",
        "Let 1, 2, 3, be the three doors and lets describe the three states w.r.t. the prizes as\n",
        "\n",
        "$\\Omega_1=\\{Y_1N_2N_3, N_1Y_2N_3, N_1N_2Y_3\\}$\n",
        "\n",
        "Where $Y_i$ denotes prize behind door i and $N_j$ represents no prize behind door j.\n",
        "\n",
        "We will assume each of the above is equally likely with chance 1/3.\n",
        "\n",
        "Next lets denote the choice of door i as $C_i$\n",
        "\n",
        "Then after first selection of a random door, the sample space is :\n",
        "\n",
        "$\\Omega_2 = \\{\n",
        "Y_1N_2N_3:C_1,\n",
        "Y_1N_2N_3:C_2,\n",
        "Y_1N_2N_3:C_3,\n",
        "N_1Y_2N_3:C_1,\n",
        "N_1Y_2N_3:C_2,\n",
        "N_1Y_2N_3:C_3,\n",
        "N_1N_2Y_3:C_1,\n",
        "N_1N_2Y_3:C_2,\n",
        "N_1N_2Y_3:C_3,\n",
        "\\}\n",
        "$\n",
        "\n",
        "each of the above is equally likely with chance 1/3*1/3 = 1/9\n",
        "\n",
        "Your friend will open one of two other doors such that the opened door doesnt have prize.\n",
        "\n",
        "\n",
        "Consider the state $Y_1N_2N_3:C_1$. From here, the friend can open either door 2 or 3 with equal chance. Hence we can end up with following two states:\n",
        "\n",
        "$Y_1N_2:C_1$ or $Y_1N_3:C_1$ and each will have a total probability of $1/3*1/3*1/2 = 1/18$.\n",
        "\n",
        "Where as from state $Y_1N_2N_3:C_2$, the friend will be forced to open door 3, hence outcome will be $Y_1N_2:C_2$ with chance 1/3*1/3=1/9.\n",
        "\n",
        "Same for $Y_1N_2N_3:C_3$ leading to $Y_1N_3:C_3$ with chance 1/9.\n",
        "\n",
        "Hence after the friend opens a door, we end up with a outcome space:\n",
        "\n",
        "$\\Omega_3 = \\{\n",
        "Y_1N_2:C_1 (1/18),\n",
        "Y_1N_3:C_1 (1/18),\n",
        "Y_1N_2:C_2 (1/9),\n",
        "Y_1N_3:C_3 (1/9),\n",
        "N_1Y_2:C_1 (1/9),\n",
        "N_1Y_2:C_2 (1/18),\n",
        "Y_2N_3:C_2 (1/18),\n",
        "Y_2N_3:C_3  (1/9),\n",
        "N_1Y_3:C_1  (1/9),\n",
        "N_2Y_3:C_2  (1/9),\n",
        "N_2Y_3:C_3  (1/18),\n",
        "N_1Y_3:C_3  (1/18)\n",
        "\\}\n",
        "$\n",
        "\n",
        "If you employ Strategy I, the possible set of outcomes is $\\Omega_3$ and the Event of getting the prize is the set of outcomes: $W=\\{\n",
        "Y_1N_2:C_1 (1/18),\n",
        "Y_1N_3:C_1 (1/18),\n",
        "N_1Y_2:C_2 (1/18),\n",
        "Y_2N_3:C_2 (1/18),\n",
        "N_2Y_3:C_3  (1/18),\n",
        "N_1Y_3:C_3  (1/18)\n",
        "\\}$, and $P(W) = 1/3$\n",
        "\n",
        "\n",
        "If you employ strategy II, the outcomes become:\n",
        "$\\Omega_4=\\{\n",
        "Y_1N_2:C_2 (1/18),\n",
        "Y_1N_3:C_3 (1/18),\n",
        "Y_1N_2:C_1 (1/9),\n",
        "Y_1N_3:C_1 (1/9),\n",
        "N_1Y_2:C_2 (1/9),\n",
        "N_1Y_2:C_1 (1/18),\n",
        "Y_2N_3:C_3 (1/18),\n",
        "Y_2N_3:C_2  (1/9),\n",
        "N_1Y_3:C_3  (1/9),\n",
        "N_2Y_3:C_3  (1/9),\n",
        "N_2Y_3:C_2  (1/18),\n",
        "N_1Y_3:C_1  (1/18)\n",
        "\\}$\n",
        "\n",
        "The event of winning is $W=\\{\n",
        "Y_1N_2:C_1 (1/9),\n",
        "Y_1N_3:C_1 (1/9),\n",
        "N_1Y_2:C_2 (1/9),  \n",
        "Y_2N_3:C_2  (1/9),\n",
        "N_1Y_3:C_3  (1/9),\n",
        "N_2Y_3:C_3  (1/9),\n",
        "\\}$\n",
        "\n",
        "and $P(W) = 2/3$\n",
        "\n",
        "Hence strategy II is better.\n",
        "\n",
        "\n",
        "\n"
      ],
      "metadata": {
        "id": "l2Kw1ueYcgro"
      }
    },
    {
      "cell_type": "markdown",
      "source": [
        "---\n",
        "**Conditional Independance**\n",
        "\n",
        "$P(A \\cap C |B) = P(A|B)P(C|B)$\n",
        "\n",
        "A and C are conditionally independent given B.\n",
        "\n",
        "Example:\n",
        "\n",
        "A robot uses two sensors to make distance measurements $Z_A, Z_C$ to an object at location $P_o$.\n",
        "\n",
        "Let $P_r$ be the location of the robot.\n",
        "\n",
        "Then each sensor should return a measurement of about $P_o - P_r$, with some noise.\n",
        "\n",
        "Then $Z_A and Z_C$ are not independent, but are conditionally independent given the location of the robot."
      ],
      "metadata": {
        "id": "TO2yqMYm3ozI"
      }
    },
    {
      "cell_type": "markdown",
      "source": [
        "---\n",
        "**Q1**\n",
        "Problem 5:  Out of the students in a class, 60% are geniuses, 70% love chocolate, and 40% fall into both categories. Determine the probability that a randomly selected student is neither a genius nor a chocolate lover."
      ],
      "metadata": {
        "id": "CHNIw_Fm__gi"
      }
    },
    {
      "cell_type": "markdown",
      "source": [
        "Ans:\n",
        "\n"
      ],
      "metadata": {
        "id": "GNIl57D8AIsl"
      }
    },
    {
      "cell_type": "markdown",
      "source": [
        "---\n",
        "**Q2**\n",
        "Problem 6: A six-sided die is loaded in a way that each even face is twice as likely as each odd face. All even faces are equally likely, as are all odd faces. Construct a probabilistic model for a single roll of this die and find the probability that the outcome is less than 4."
      ],
      "metadata": {
        "id": "2YEK5N89A74q"
      }
    },
    {
      "cell_type": "markdown",
      "source": [
        "Ans:\n",
        "\n"
      ],
      "metadata": {
        "id": "SegTts6YBJ8z"
      }
    },
    {
      "cell_type": "markdown",
      "source": [
        "---\n",
        "**Q3**\n",
        "Problem 14. We roll two fair 6-sided dice. Each one of the 36 possible outcomes is assumed to be equally likely.\n",
        "(a) Find the probability that doubles are rolled.\n",
        "(b) Given that the roll results in a sum of 4 or less, find the conditional probability that doubles are rolled.\n",
        "(c) Find the probability that at least one die roll is a 6.\n",
        "(d) Given that the two dice land on different numbers, find the conditional probability that at least one die roll is a 6."
      ],
      "metadata": {
        "id": "1ctnmwYTB6Dt"
      }
    },
    {
      "cell_type": "markdown",
      "source": [
        "Ans:\n",
        "\n",
        "\n"
      ],
      "metadata": {
        "id": "QLRKlcrqB-g1"
      }
    },
    {
      "cell_type": "markdown",
      "source": [
        "---\n",
        "**Q4**\n",
        "\n",
        "Problem 16. We are given three coins: one has heads in both faces, the second has tails in both faces, and the third has a head in one face and a tail in the other. We choose a coin at random, toss it, and the result is heads. What is the probability that the opposite face is tails?\n"
      ],
      "metadata": {
        "id": "tKsm27qHEFaU"
      }
    },
    {
      "cell_type": "markdown",
      "source": [
        "Ans:\n",
        "\n"
      ],
      "metadata": {
        "id": "3rUtIlgkENGJ"
      }
    },
    {
      "cell_type": "markdown",
      "source": [
        "---\n",
        "**Q5**\n",
        "Problem 19. Alice searches for her term paper in her filing cabinet. which has several drawers. She knows that she left her term paper in drawer j with probability $p_j > 0$. The drawers are so messy that even if she correctly guesses that the term paper is in drawer i, the probability that she finds it is only $d_i$. Alice searches in a particular drawer, say drawer i. But the search is unsuccessful. Conditioned on this event, show that the probability that her paper is in drawer j, is given by\n",
        "\n",
        "$\\frac{p_j}{1-p_id_i}$ if $j \\neq i$\n",
        "\n",
        "$\\frac{p_i(1-d_i)}{1-p_id_i}$ if $j = i$"
      ],
      "metadata": {
        "id": "qXZFW852Jqft"
      }
    },
    {
      "cell_type": "markdown",
      "source": [
        "Ans:\n",
        "\n",
        "\n",
        "\n",
        "\n",
        "\n",
        "\n",
        "\n"
      ],
      "metadata": {
        "id": "PIPke4y3KRE6"
      }
    },
    {
      "cell_type": "markdown",
      "source": [
        "---\n",
        "**Q6**\n",
        "Problem 27. Alice and Bob have 2n + 1 coins, each coin with probability of heads equal to 1/2. Bob tosses n+1 coins, while Alice tosses the remaining n coins. Assuming independent coin tosses, show that the probability that after all coins have been tossed, Bob will have gotten more heads than Alice is 1/2."
      ],
      "metadata": {
        "id": "_Egz5XkQw68u"
      }
    },
    {
      "cell_type": "markdown",
      "source": [
        "Ans:\n",
        "\n",
        "\n",
        "\n",
        "\n"
      ],
      "metadata": {
        "id": "XTvkJlZbxhA4"
      }
    },
    {
      "cell_type": "markdown",
      "source": [
        "---\n",
        "**Q7**\n",
        "Problem 40. Consider a coin that comes up heads with probability p and tails with probability 1 - p. Let $q_n$ be the probability that after n independent tosses, there have been an even number of heads. Derive a recursion that relates $q_n$ to $q_{n-1}$, and solve this recursion to establish the formula\n",
        "$q_n =(1+(1-2p)^n)/2$."
      ],
      "metadata": {
        "id": "X-kbcoX7JESg"
      }
    },
    {
      "cell_type": "markdown",
      "source": [
        "Ans:\n",
        "\n",
        "\n"
      ],
      "metadata": {
        "id": "c0A2PAqYE2Yx"
      }
    },
    {
      "cell_type": "markdown",
      "source": [
        "---\n",
        "**Q8**\n",
        "\n",
        "Problem 50. The birthday problem. Consider n people who are attending a party. We assume that every person has an equal probability of being born on any day during the year. independent of everyone else, and ignore the additional complication presented by leap years (i.e., assume that nobody is born on February 29). What is the probability that each person has a distinct birthday?"
      ],
      "metadata": {
        "id": "LeUmxvgLKY6c"
      }
    },
    {
      "cell_type": "markdown",
      "source": [
        "Ans:\n",
        "\n",
        "\n"
      ],
      "metadata": {
        "id": "yhNjqJnQLI1L"
      }
    },
    {
      "cell_type": "code",
      "source": [
        "import numpy as np"
      ],
      "metadata": {
        "id": "BcrO2774uVoy"
      },
      "execution_count": null,
      "outputs": []
    },
    {
      "cell_type": "markdown",
      "source": [
        "---\n",
        "**Random Numbers in Python**\n",
        "\n",
        "Python modules random, provides a variety of functions to handle random numbers.\n",
        "\n",
        "Random numbers are generated algorithmically, starting with a seed number.\n",
        "\n",
        "For truly random numbers, the seed has to be derived to some physical phenomena like thermal noise.\n",
        "\n",
        "Alternatively, the seed is specificied and then the algorithm generates pseudo random numbers. However with this - if you can potentially invert the sequence and figure out the seed - though this is computationally hard.\n",
        "\n",
        "\n",
        "However using a fixed seed is very useful to fix the sequence of random numbers - when you want to debug your code and want reproducibility.\n",
        "\n",
        "More info: https://albertcthomas.github.io/good-practices-random-number-generators/\n"
      ],
      "metadata": {
        "id": "g-cqKjdavMHw"
      }
    },
    {
      "cell_type": "code",
      "source": [
        "# Two random generators with same seed\n",
        "rng1 = np.random.default_rng(10)\n",
        "rng2 = np.random.default_rng(10)\n",
        "\n",
        "# they produce the same sequence\n",
        "for i in range(10):\n",
        "  print(f'rn1 = {rng1.random()}, rn2 = {rng2.random()}')\n",
        "\n",
        "\n",
        "#Resetting allows one to start the same sequence\n",
        "rng1 = np.random.default_rng(10)\n",
        "print(\"\\nAfter resetting rng1, it produces same sequence\")\n",
        "print(\"-----------------------------------------------\")\n",
        "for i in range(10):\n",
        "  print(f'rn1 = {rng1.random()}, rn2 = {rng2.random()}')\n"
      ],
      "metadata": {
        "colab": {
          "base_uri": "https://localhost:8080/"
        },
        "id": "73Li0VFfwbCd",
        "outputId": "83c29f1e-1ca7-4ffd-f1e2-7c73a40f0d82"
      },
      "execution_count": null,
      "outputs": [
        {
          "output_type": "stream",
          "name": "stdout",
          "text": [
            "rn1 = 0.9560017096289753, rn2 = 0.9560017096289753\n",
            "rn1 = 0.20768181007914688, rn2 = 0.20768181007914688\n",
            "rn1 = 0.8284448852745308, rn2 = 0.8284448852745308\n",
            "rn1 = 0.14928212308202027, rn2 = 0.14928212308202027\n",
            "rn1 = 0.5128046164365648, rn2 = 0.5128046164365648\n",
            "rn1 = 0.13591960402050662, rn2 = 0.13591960402050662\n",
            "rn1 = 0.6890364797811311, rn2 = 0.6890364797811311\n",
            "rn1 = 0.841747724312279, rn2 = 0.841747724312279\n",
            "rn1 = 0.4255089974049766, rn2 = 0.4255089974049766\n",
            "rn1 = 0.9569260034533662, rn2 = 0.9569260034533662\n",
            "\n",
            "After resetting rng1, it produces same sequence\n",
            "-----------------------------------------------\n",
            "rn1 = 0.9560017096289753, rn2 = 0.8253329063847983\n",
            "rn1 = 0.20768181007914688, rn2 = 0.338215312471576\n",
            "rn1 = 0.8284448852745308, rn2 = 0.5757605479445136\n",
            "rn1 = 0.14928212308202027, rn2 = 0.7533018647084769\n",
            "rn1 = 0.5128046164365648, rn2 = 0.8271039370247955\n",
            "rn1 = 0.13591960402050662, rn2 = 0.9334384708515814\n",
            "rn1 = 0.6890364797811311, rn2 = 0.1449946949362273\n",
            "rn1 = 0.841747724312279, rn2 = 0.7455802110439375\n",
            "rn1 = 0.4255089974049766, rn2 = 0.13935139386782236\n",
            "rn1 = 0.9569260034533662, rn2 = 0.9065287561129268\n"
          ]
        }
      ]
    },
    {
      "cell_type": "code",
      "source": [
        "#sequence of random integers shaped into a matrix\n",
        "#generated integers from 10 to 20 and arranges as 2x4 matrix\n",
        "A = rng1.integers(10,20,(2,4))\n",
        "print(A)"
      ],
      "metadata": {
        "colab": {
          "base_uri": "https://localhost:8080/"
        },
        "id": "7TIYq3b5yqwH",
        "outputId": "6f128d08-2099-4e76-8bd2-af1f9602612d"
      },
      "execution_count": null,
      "outputs": [
        {
          "output_type": "stream",
          "name": "stdout",
          "text": [
            "[[16 13 11 19]\n",
            " [12 15 16 13]]\n"
          ]
        }
      ]
    },
    {
      "cell_type": "code",
      "source": [
        "#pick a random item from the list\n",
        "\n",
        "my_set = ['cup', 'plate', 'spoon', 'saucer']\n",
        "\n",
        "for i in range(6):\n",
        "  print(f'my selection is {rng.choice(my_set)}')\n",
        "\n",
        "#provide your own probability mass function pmf\n",
        "pmf = np.array([0.1, 0.2, 0.2, 0.5])\n",
        "\n",
        "print(\"With my own pmf\")\n",
        "for i in range(6):\n",
        "  print(f'my selection is {rng.choice(my_set,p=pmf)}')"
      ],
      "metadata": {
        "colab": {
          "base_uri": "https://localhost:8080/"
        },
        "id": "SNeAYVhPzOFD",
        "outputId": "9756dc2e-bc6d-496a-81aa-91cbb0d7021d"
      },
      "execution_count": null,
      "outputs": [
        {
          "output_type": "stream",
          "name": "stdout",
          "text": [
            "my selection is plate\n",
            "my selection is saucer\n",
            "my selection is saucer\n",
            "my selection is saucer\n",
            "my selection is saucer\n",
            "my selection is spoon\n",
            "With my own pmf\n",
            "my selection is saucer\n",
            "my selection is spoon\n",
            "my selection is saucer\n",
            "my selection is saucer\n",
            "my selection is spoon\n",
            "my selection is plate\n"
          ]
        }
      ]
    },
    {
      "cell_type": "code",
      "source": [
        "#randomly permute\n",
        "\n",
        "print(f'{rng.permutation(my_set)}')"
      ],
      "metadata": {
        "colab": {
          "base_uri": "https://localhost:8080/"
        },
        "id": "JE5qqpBI0fk8",
        "outputId": "0780c3c0-bd52-4cbc-95a5-d750d452498e"
      },
      "execution_count": null,
      "outputs": [
        {
          "output_type": "stream",
          "name": "stdout",
          "text": [
            "['spoon' 'plate' 'saucer' 'cup']\n"
          ]
        }
      ]
    },
    {
      "cell_type": "markdown",
      "source": [
        "---\n",
        "**Q9**\n",
        "\n",
        "Simulate 20 coin tosses for a random biased coin with probability of heads = 0.4"
      ],
      "metadata": {
        "id": "oEKGNUb-12R6"
      }
    },
    {
      "cell_type": "code",
      "source": [
        "coin = ['H', 'T']\n",
        "\n",
        "#your code"
      ],
      "metadata": {
        "colab": {
          "base_uri": "https://localhost:8080/"
        },
        "id": "UOrjAVPH199s",
        "outputId": "973aaf84-dd22-4751-d8c4-eaee9b1a9e40"
      },
      "execution_count": null,
      "outputs": [
        {
          "output_type": "stream",
          "name": "stdout",
          "text": [
            "['H' 'T' 'T' 'H' 'T' 'T' 'T' 'T' 'T' 'T' 'T' 'H' 'T' 'T' 'T' 'H' 'T' 'T'\n",
            " 'T' 'T']\n"
          ]
        }
      ]
    }
  ]
}