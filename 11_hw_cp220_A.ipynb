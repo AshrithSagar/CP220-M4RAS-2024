{
  "nbformat": 4,
  "nbformat_minor": 0,
  "metadata": {
    "colab": {
      "provenance": [],
      "include_colab_link": true
    },
    "kernelspec": {
      "name": "python3",
      "display_name": "Python 3"
    },
    "language_info": {
      "name": "python"
    }
  },
  "cells": [
    {
      "cell_type": "markdown",
      "metadata": {
        "id": "view-in-github",
        "colab_type": "text"
      },
      "source": [
        "<a href=\"https://colab.research.google.com/github/AshrithSagar/CP220-M4RAS-2024/blob/main/11_hw_cp220_A.ipynb\" target=\"_parent\"><img src=\"https://colab.research.google.com/assets/colab-badge.svg\" alt=\"Open In Colab\"/></a>"
      ]
    },
    {
      "cell_type": "markdown",
      "source": [
        "---\n",
        "**HW11**"
      ],
      "metadata": {
        "id": "SHF4Zs1fDZZA"
      }
    },
    {
      "cell_type": "markdown",
      "source": [
        "With a continuous rv, we can associate a non-negative function $f_X$ which is called the probability density function (pdf), such that:\n",
        "\n",
        "$P(X \\in B) = \\int_B f_X(x)dx$\n",
        "\n",
        "where $B \\subset ℝ$\n",
        "\n",
        "and $∫_{-∞}^{∞} f_X(x)dx = 1$\n",
        "\n",
        "Note that the probility for a small interval $[x, x+\\delta]$ is $P(X \\in [x, x+\\delta]) = \\int_x^{x+\\delta} f_X(x)dx \\approx f_X(x)\\delta$\n",
        "\n",
        "Thus probability for any particular value of X is 0.\n",
        "\n"
      ],
      "metadata": {
        "id": "fFc3JCl0DlmO"
      }
    },
    {
      "cell_type": "markdown",
      "source": [
        "*$\\underline{Uniform\\ rv}$*\n",
        "\n",
        "$X\\ ̃\\ Unif(a,b)$, where $a < b$\n",
        "is when\n",
        "\n",
        "$f_X(x) = 1/(b-a)$ for $a \\leq x \\leq b$\n",
        "\n",
        " and 0 else where.\n",
        "\n"
      ],
      "metadata": {
        "id": "Pcaq3VpHv6Ik"
      }
    },
    {
      "cell_type": "markdown",
      "source": [
        "*$\\underline{Expectation, Moments\\ and\\ Variance}$*\n",
        "\n",
        "\n",
        "$E g(X) = \\int_{-∞}^∞ g(x)f_X(x) dx$\n",
        "\n",
        "The mean is EX\n",
        "\n",
        "and Variance is $\\sigma_X^2 = EX^2 - (EX)^2$\n",
        "\n",
        "And the $k^{th}$ raw moment is $EX^k = \\int_{-∞}^∞ X^k f_X(x) dx$"
      ],
      "metadata": {
        "id": "V3QFieBNwZGb"
      }
    },
    {
      "cell_type": "markdown",
      "source": [
        "*Example 1*:\n",
        "\n",
        "Let $X\\ \\tilde\\ Unif(a,b)$\n",
        "\n",
        "Then $EX = \\int_a^b x/(b-a)dx = \\frac{b^2-a^2}{2(b-a)} = \\frac{b+a}{2}$\n",
        "\n",
        "$EX^2 = \\int_a^b x^2/(b-a)dx = \\frac{b^3-a^3}{3(b-a)} = \\frac{b^2+ab+a^2}{3}$\n",
        "\n",
        "$Var(X) = \\sigma_X^2 = \\frac{b^2+ab+a^2}{3} - \\frac{b^2+2ab+a^2}{4} = \\frac{(b-a)^2}{12}$"
      ],
      "metadata": {
        "id": "W0zDGrZoxtKT"
      }
    },
    {
      "cell_type": "markdown",
      "source": [
        "*$\\underline{Exponential\\ rv}$*\n",
        "\n",
        "$X\\ ̃ Exp(\\lambda)$ is exponential then:\n",
        "\n",
        "$f_X(x) = \\lambda e^{-\\lambda x}$ for $x \\geq 0$\n",
        "\n",
        "and 0 otherwise.\n",
        "\n",
        "$EX = \\int_0^{∞} x\\lambda e^{-\\lambda x} dx = \\frac{1}{\\lambda}$\n",
        "\n",
        "$Var(X) = \\frac{1}{\\lambda^2}$\n",
        "\n",
        "$P(X\\geq a) = \\int_a^∞ \\lambda e^{-\\lambda x} dx = e^{-\\lambda a}$\n",
        "\n"
      ],
      "metadata": {
        "id": "xVajxDiQzRgs"
      }
    },
    {
      "cell_type": "markdown",
      "source": [
        "**Cumulative Distribution Function**\n",
        "\n",
        "$F_X(x) = P(X \\leq x) = \\int_{-∞}^x f_X(x)dx$\n",
        "\n",
        "is called the cumulative distribution function.\n",
        "\n",
        "*Conversely*,\n",
        "\n",
        "$f_X(x) = \\frac{d}{dx} F_X(x)$\n",
        "\n",
        "\n",
        "\n",
        "For discrete rv, $F_X(x) = \\sum_{k \\leq x} p_X(k)$\n",
        "\n",
        "and $p_X(x) = F_X(x) - F_X(x-1)$\n",
        "\n",
        "\n",
        "*Example:*\n",
        "\n",
        "The geometric rv, $Y\\ \\tilde\\ Geom(p)$ is connected to $X\\ ̃\\ Exp(\\lambda)$ as follows;\n",
        "\n",
        "$F_Y(n) = \\sum_{k=1}^n p(1-p)^k = 1 - (1-p)^n$\n",
        "\n",
        "$F_X(x) = \\int_0^x \\lambda e^{-\\lambda x} dx = 1 - e^{-\\lambda x}$\n",
        "\n",
        "By discretising with steps of $\\delta$, and putting $x = n \\delta$, and using $p = 1 - e^{-\\lambda \\delta}$, we find that:\n",
        "\n",
        "$F_Y(n) = F_X(n\\delta)$ for $n=1,2, ... $\n",
        "\n",
        "Fig 3.8 (Bertsekas):\n",
        "\n",
        "<img src='https://drive.google.com/uc?export=view&id=17K_NGZbrSGazPrad11v8bYUpd54HJY41' width=400px>"
      ],
      "metadata": {
        "id": "QgzD3Qik1U8y"
      }
    },
    {
      "cell_type": "markdown",
      "source": [
        "*$\\underline{Normal\\ or\\ Gaussian\\ pdf}$*\n",
        "\n",
        "$X\\ ̃\\ N(\\mu,\\sigma)$\n",
        "\n",
        "then,\n",
        "\n",
        "$f_X(x) = \\frac{1}{\\sqrt{2\\pi}\\sigma} e^{\\frac{-(x-\\mu)^2}{\\sigma^2}}$\n",
        "\n",
        "$EX = \\mu$\n",
        "\n",
        "$Var(X) = \\sigma^2$\n",
        "\n",
        "Fig 3.9 Bertsekas:\n",
        "\n",
        "\n",
        "<img src='https://drive.google.com/uc?export=view&id=17M6_00Pb1rmzVBdHmshjRuHWAQqLIxqb' width=400px>\n",
        "\n",
        "*$\\underline{Standard\\ Normal}$*\n",
        "\n",
        "Normal distribution with $\\mu=0$ and $\\sigma=1$ is called a standard normal $N(0,1)$ with pdf $\\frac{1}{\\sqrt{2\\pi}}e^{\\frac{-x^2}{2}}$.\n",
        "\n",
        "CDF of standard normal:\n",
        "\n",
        "$\\Phi(x) = P(X \\leq x) = \\int_{-\\infty}^x \\frac{1}{\\sqrt{2\\pi}}e^{\\frac{-y^2}{2}}dy$\n",
        "\n",
        "There is no analytical formula - but this is calculated numerically. For hand estimation, one can use standard normal tables.\n",
        "\n",
        "Let $Z\\ ̃\\ N(\\mu, \\sigma)$, then $P(Z \\leq z) = \\int_{-\\infty}^z \\frac{1}{\\sqrt{2\\pi}\\sigma}e^{\\frac{-(y-\\mu)^2}{2\\sigma^2}}dy$\n",
        "\n",
        "By change of variable $u = \\frac{y-\\mu}{\\sigma}$, we have:\n",
        "\n",
        "$P(Z \\leq z) = P(X \\leq \\frac{z-\\mu}{\\sigma}) = \\int_{-\\infty}^{\\frac{z-\\mu}{\\sigma}} \\frac{1}{\\sqrt{2\\pi}}e^{\\frac{-u^2}{2}}du = \\Phi(\\frac{z-\\mu}{\\sigma})$"
      ],
      "metadata": {
        "id": "eL7X1YJe394i"
      }
    },
    {
      "cell_type": "markdown",
      "source": [
        "*$\\underline{Linear\\ function\\ of\\ Gaussian\\ rv\\ is\\ a\\ Gaussian}$*\n",
        "\n",
        "Let $X\\ \\  ̃\\ N(\\mu,\\sigma)$\n",
        "\n",
        "If $Y = aX + b$\n",
        "\n",
        "$Y\\ ̃\\ N(a\\mu+b,a\\sigma)$\n",
        "\n",
        "$EY = a\\mu + b$\n",
        "\n",
        "$EY^2 = E(a^2X^2 + 2aXb + b^2) = a^2EX^2 + 2aEXb + b^2$\n",
        "\n",
        "$Var(Y) = EY^2 - (EY)^2 = a^2 \\sigma^2$\n",
        "\n",
        "$F_Y(y) = P(Y \\leq y) = P(X \\leq \\frac{y-b}{a}) = F_X(\\frac{y-b}{a})$\n",
        "\n",
        "$f_Y(y) = \\frac{dF_Y(y)}{dy} = \\frac{d}{dy}\\int_{-\\infty}^{\\frac{y-b}{a}} f_X(x)dx = \\frac{1}{a}f_X(\\frac{y-b}{a}) = N(a\\mu,a\\sigma) $\n",
        "\n"
      ],
      "metadata": {
        "id": "H8fmRbFQNW9M"
      }
    },
    {
      "cell_type": "markdown",
      "source": [
        "---\n",
        "**Joint, Marginal, Independence, Conditioning**\n",
        "\n",
        "*$\\underline{Joint}$*\n",
        "\n",
        "$f_{XY}(x,y)$ is a joint PDF of two rvs, $X,Y$ such that:\n",
        "\n",
        "a) $f_{XY}(x,y) \\geq 0 $\n",
        "\n",
        "b) $P((X,Y) \\in B) = \\int\\int_B f_{XY}(x,y)dxdy$\n",
        "\n",
        "\n",
        "For example, to find the probability of $X \\in (a,b)$ and $Y \\in (c,d)$,\n",
        "\n",
        "$P(a\\leq X \\leq b, c \\leq Y \\leq d) = \\int_a^b\\int_c^d f_{XY}(x,y)dxdy$\n",
        "\n",
        "*$\\underline{Marginal}$*\n",
        "\n",
        "Given a joint distribution, the marginal pdf of a subset of variables is obtained by integrating out the remaning across their entire domain.\n",
        "\n",
        "for example, given $f_{XYZW}(x,y,z,w)$\n",
        "\n",
        "$f_{XY}(x,y) = \\int_z\\int_w f_{XYZW}(x,y,z,w) dzdw$\n",
        "\n",
        "*$\\underline{Joint\\ CDF}$*\n",
        "\n",
        "$F_{XY}(x,y) = P(X \\leq x, Y \\leq y)$\n",
        "\n",
        "\n",
        "and conversely,\n",
        "\n",
        "$f_{XY}(x,y) = \\frac{\\delta^2 F_{XY}}{\\delta x \\delta y}$\n",
        "\n",
        "\n",
        "*$\\underline{Conditional\\ pdf}$*\n",
        "\n",
        "Given an event C, the conditional distribution is such that:\n",
        "\n",
        "$P(X \\in B | C) = \\int_B f_{X|C}(x)dx$\n",
        "\n",
        "\n",
        "Specifically, for joint continuous rv, we can also define:\n",
        "\n",
        "$f_{X|Y=y}(x) = \\frac{f_{XY}(x,y)}{f_Y(y)}$\n",
        "\n",
        "So,\n",
        "\n",
        "$f_{XY}(x,y) = f_{X|Y=y}(x)f_Y(y)$\n",
        "\n",
        "\n",
        "*$\\underline{Independence}$*\n",
        "\n",
        "X,Y are independent if\n",
        "\n",
        "$f_{XY}(x,y) = f_X(x)f_Y(y)$\n",
        "\n",
        "\n",
        "*$\\underline{Expectation}$*\n",
        "\n",
        "$E_{XY}(g(X,Y)) = \\int_x\\int_y g(x,y)f_{XY}(x,y) dxdy$\n",
        "\n",
        "and\n",
        "\n",
        "$E_{XY}(aX+bY) = aE_XX + bE_YY$\n",
        "\n",
        "\n",
        "\n",
        "$Var(X,Y) = Var(X) + Var(Y)$ if X, Y are independent.\n",
        "\n",
        "\n",
        "*$\\underline{Conditional\\ Expectation}$*\n",
        "\n",
        "\n",
        "\n",
        "$E[X|Y=y] = \\int_x xf_{X|Y=y}(x) dx$\n",
        "\n",
        "*Total Expectation Theorem*\n",
        "\n",
        "$EX = E_Y E_{X|Y=y} X = \\int_y E_{X|Y=y} f_Y(y) dy$\n"
      ],
      "metadata": {
        "id": "Tjcc9oHSjgFM"
      }
    },
    {
      "cell_type": "markdown",
      "source": [
        "---\n",
        "*Mixed discrete/continuous*\n",
        "\n",
        "Let $X$ indicate amount of relative humidity and takes value from 0 to 100.\n",
        "\n",
        "Let $Y$ be the rv takes value 1 if it rains and 0 otherwise.\n",
        "\n",
        "Then let\n",
        "\n",
        "$f_{X|Y=1}(x) = 1/20$ for $70 \\leq X \\leq 90$ and 0 elsewhere\n",
        "\n",
        "$f_{X|Y=0}(x) = 1/30$ for $45 \\leq X \\leq 75$ and 0 elsewhere\n",
        "\n",
        "Let $P(Y=1) = 0.6$ and $P(Y=0) = 0.4$\n",
        "\n",
        "\n",
        "Then we have the joint probability:\n",
        "\n",
        "\n",
        "$P(a \\leq X \\leq b, \"it\\ rains\") = \\int_a^b f_{X|Y=1}(x)P(Y=1)$\n",
        "\n",
        "$P(a \\leq X \\leq b, \"it\\ doesnt\\ rain\") = \\int_a^b f_{X|Y=0}(x)P(Y=0)$\n",
        "\n",
        "Average humidity is:\n",
        "\n",
        "\n",
        "$EX = E_Y E_{X|Y=y} X = \\sum_y E_{X|Y=y} p_Y(y) = 0.6*80+0.4*60=72$\n",
        "\n",
        "\n",
        "\n"
      ],
      "metadata": {
        "id": "Da6sVg5gtt8l"
      }
    },
    {
      "cell_type": "markdown",
      "source": [
        "---\n",
        "*Bayes Rule*\n",
        "\n",
        "\n",
        "$f_{XY}(x,y) = f_{X|Y=y}(x)f_Y(y) = f_{Y|X=x}(y)f_X(x)$\n",
        "\n",
        "and hence\n",
        "\n",
        "$f_{X|Y=y} = \\frac{f_{Y|X=x}(y)f_X(x)}{f_Y(y)}$\n",
        "\n",
        "\n",
        "*Example*\n",
        "\n",
        "a) For previous example, given that the humidity is 73, what is the chance that it has rained?\n",
        "\n",
        "$P(Y=1|x=73) = \\frac{f_{X|Y=1}(73)P(Y=1)}{f_X(73)} = \\frac{f_{X|Y=1}(73)P(Y=1)}{f_{X|Y=1}(73)P(Y=1)+f_{X|Y=0}(73)P(Y=0)} = \\frac{1/20*0.6}{1/20*0.6+1/30*0.4} = 0.69$\n",
        "\n",
        "b) if humidity is 48, what is the chance it has rained?\n",
        "\n",
        "We can guess looking at the conditional pdf that itwouldnt have rained.\n",
        "\n",
        "$P(Y=1|x=48) = \\frac{f_{X|Y=1}(48)P(Y=1)}{f_X(48)} = \\frac{f_{X|Y=1}(48)P(Y=1)}{f_{X|Y=1}(48)P(Y=1)+f_{X|Y=0}(48)P(Y=0)} = \\frac{0*0.6}{0*0.6+1/30*0.4} = 0$\n",
        "\n",
        "\n"
      ],
      "metadata": {
        "id": "o0r4riIYvsjl"
      }
    },
    {
      "cell_type": "markdown",
      "source": [
        "---\n",
        "**Q1**\n",
        "\n",
        "Problem 1. Let X be uniformly distributed in the unit interval [0, 1] . Consider the\n",
        "random variable $Y = g(X)$, where\n",
        "\n",
        "$g(x) = 1$ if $x \\leq 1/3$ and\n",
        "\n",
        "$g(x) = 0 $ if $x \\gt 1/3$\n",
        "\n",
        "Find the expected value of Y by first deriving its PMF. Verify the result using the expected value rule."
      ],
      "metadata": {
        "id": "EeS9DpH2PMVL"
      }
    },
    {
      "cell_type": "markdown",
      "source": [
        "Ans:\n",
        "\n",
        "$P(Y=1) = P(X \\leq 1/3) = 1/3$\n",
        "\n",
        "$P(Y=0) = 2/3$\n",
        "\n",
        "$EY = 0*2/3 + 1 * 1/3 = 1/3$\n",
        "\n",
        "*Expected value rule*\n",
        "\n",
        "$EY = E (g(X)) = \\int_0^{1/3} p_X(x)g(x)dx + \\int_{1/3}^1 p_X(x)*g(x)dx = 1/3$ as $p_X(x) = 1$"
      ],
      "metadata": {
        "id": "azmuhojNPirM"
      }
    },
    {
      "cell_type": "markdown",
      "source": [
        "---\n",
        "**Q2**\n",
        "\n",
        "Problem 2. **Laplace RV**\n",
        "\n",
        "$f_X(x) = \\frac{\\lambda}{2}e^{-\\lambda|x|}$\n",
        "\n",
        "where $\\lambda$ is a positive scalar. Verify that $f_X(x)$ satisfies the normalization condition, and\n",
        "evaluate the mean and variance of X."
      ],
      "metadata": {
        "id": "4a52xeqmQpcS"
      }
    },
    {
      "cell_type": "markdown",
      "source": [
        "Ans:\n",
        "\n",
        "\n",
        "\n",
        "$\\int_{-∞}^∞ f_X(x) dx = 2*\\int_0^∞ \\frac{\\lambda}{2} e^{-\\lambda x} dx = 1$ and hence satisfies the normalization condition.\n",
        "\n",
        "$EX = 0$ as $f_X(x)$ is even ($f_X(-x) = f_X(x)$\n",
        "\n",
        "$EX^2 = 2*\\int_0^∞ \\frac{\\lambda}{2} x^2 e^{-\\lambda x} dx$\n",
        "\n",
        "Use integration by parts to get:\n",
        "\n",
        "$\\int_0^∞ \\frac{\\lambda}{2} x^2 e^{-\\lambda x} dx = -1/2x^2e^{-\\lambda x}|_0^∞ + \\int_0^∞ -xe^{-\\lambda x} dx = \\int_0^∞ \\frac{1}{\\lambda} e^{-\\lambda x} dx = \\frac{1}{\\lambda^2}$\n",
        "\n",
        "$Var(X) = EX^2 - (EX)^2 = \\frac{2}{\\lambda^2}$\n"
      ],
      "metadata": {
        "id": "k17LtKCkRByg"
      }
    },
    {
      "cell_type": "markdown",
      "source": [
        "---\n",
        "**Q3**\n",
        "\n",
        "Problem 5. Consider a triangle and a point chosen within the triangle according to the uniform probability law. Let X be the distance from the point to the base of the triangle. Given the height of the triangle, find the CDF and the PDF of X."
      ],
      "metadata": {
        "id": "62wZVlmOVBf7"
      }
    },
    {
      "cell_type": "markdown",
      "source": [
        "Ans:\n",
        "\n",
        "Let the triangle have vertices ABC and let the length of BC be b an distance of A from BC be h\n",
        "\n",
        "Then area of triangle = $\\frac{1}{2}hb$\n",
        "\n",
        "Let $X$ be the rv denoting the distance of a randomly chosen point within the triangle, from its base BC.\n",
        "\n",
        "Let the segment UV pass through X and be parallel to BC, to form a smaller, similar triangle AUV. Then area of AUV is : $\\frac{1}{2} (h-x) \\frac{(h-x)}{h}b$\n",
        "\n",
        "Then $F_X(x) = P(X \\leq x)$ = $\\frac{Area(AUV) - Area(ABC)}{Area(ABC)} = 1 - \\frac{(h-x)^2}{h^2}$\n",
        "\n",
        "is the CDF\n",
        "\n",
        "\n",
        "PDf is $f_X(x) = \\frac{d F_X(x)}{dx} = \\frac{2(h-x)}{h}$\n"
      ],
      "metadata": {
        "id": "8XkEMZ1vVE5B"
      }
    },
    {
      "cell_type": "markdown",
      "source": [
        "**Q4**\n",
        "\n",
        "Problem 6. Calamity Jane goes to the bank to make a withdrawal, and is equally likely to find 0 or 1 customers ahead of her. The service time of the customer ahead, if present, is exponentially distributed with parameter $\\lambda$. What is the CDF of Jane's waiting time?"
      ],
      "metadata": {
        "id": "yqCvB-JOW_Kg"
      }
    },
    {
      "cell_type": "markdown",
      "source": [
        "Ans:\n",
        "\n",
        "\n",
        "Let $N$ be rv for number of customers ahead of Jane.\n",
        "\n",
        "$P(N=0) = P(N=1) = 1/2$\n",
        "\n",
        "Let $S$ be the rv for the serice time,\n",
        "\n",
        "Then $P(S \\geq t) = e^{-\\lambda t}$\n",
        "\n",
        "Let $J$ be the rv for the wait time for Jane.\n",
        "\n",
        "Then J = N*W\n",
        "\n",
        "$P(J \\geq t) = P(J \\geq t |N=0)P(N=0) + P(J \\geq t| N=1)P(N=1) = P(W \\geq t)P(N=1) = 0.5 e^{-\\lambda t}$\n",
        "\n",
        "CDF is  $F_J(t) = P(J \\leq t ) = 1 - P(J \\geq t) = 1 - 0.5 e^{-\\lambda t}$"
      ],
      "metadata": {
        "id": "U6_8f179XKMq"
      }
    },
    {
      "cell_type": "markdown",
      "source": [
        "**Q5**\n",
        "\n",
        "\n",
        "Problem 7. Alvin throws darts at a circular target of radius r and is equally likely to hit any point in the target. Let X be the distance of Alvin's hit from the center.\n",
        "\n",
        "(a) Find the PDF, the mean. and the variance of X.\n",
        "\n",
        "(b) The target has an inner circle of radius t.If $X \\leq t$,Alvin gets a\n",
        "scoreof S= 1/X. Otherwise his score is S = O. Find the CDF of S. Is S a continuous random variable?"
      ],
      "metadata": {
        "id": "wJL9WxRlYiei"
      }
    },
    {
      "cell_type": "markdown",
      "source": [
        "Ans:\n",
        "\n",
        "a)\n",
        "$F_X(x) = P(X \\leq x) = \\frac{\\pi x^2}{\\pi r^2} = \\frac{x^2}{r^2}$\n",
        "\n",
        "$f_X(x) = \\frac{dF_X(x)}{dx} = \\frac{2x}{r^2}$\n",
        "\n",
        "$EX = \\int_0^r xf_X(x) dx = \\int_0^r x \\frac{2x}{r^2} dx = \\frac{2r}{3}$\n",
        "\n",
        "$EX^2 = \\int_0^r x^2f_X(x) dx = \\int_0^r x^2 \\frac{2x}{r^2} dx = \\frac{2r^2}{4}$\n",
        "\n",
        "$Var(X) = EX^2 - (EX)^2 = \\frac{r^2}{18}$\n",
        "\n",
        "\n",
        "b)\n",
        "\n",
        "$S$ is a mixture of continuous and discrete distribution.\n",
        "\n",
        "$P(S=0) = P(t \\leq X \\leq r) = \\int_t^r f_X(x)dx = \\frac{r^2-t^2}{r^2}$\n",
        "\n",
        "\n",
        "For $s \\geq 1/t$\n",
        "\n",
        "$P(S \\geq s ) = P(X \\leq 1/s) = \\int_0^s f_X(x)dx = \\frac{1}{s^2r^2} $\n",
        "\n",
        "Since $P(S=0) + P(0 < S < 1/t) + P(S \\geq 1/t) = 1$, it  means $P(0 < S < 1/t) = 0$\n",
        "\n",
        "\n",
        "$F_S(s) = P(S \\leq s) = \\frac{s^2r^2-1}{s^2r^2}$ for $s \\geq 1/t$\n",
        "\n",
        "$F_S(s) = \\frac{r2-t^2}{r^2}$ for $0 \\leq s < 1/t$"
      ],
      "metadata": {
        "id": "8PD7LOl_ZJlU"
      }
    },
    {
      "cell_type": "markdown",
      "source": [
        "---\n",
        "**Q6**\n",
        "\n",
        "Problem 8. Consider two continuous random variables, Y, Z and a random\n",
        "variable X that is equal to Y with probability p and to Z with probability 1-p\n",
        "\n",
        "(a) Show that the PDF of X is given by\n",
        "\n",
        "$f_X(x) = pf_Y(x) + (1 - p)f_Z(x)$\n",
        "\n",
        "\n",
        "(b) Calculate the CDF of the two-sided exponential random variable that has PDF given by\n",
        "\n",
        "$f_X(x) = p\\lambda e^{\\lambda x}$ if $x <0$\n",
        "\n",
        "$\\ \\ \\ = (1-p)\\lambda e^{-\\lambda x}$ if $x \\geq 0$\n",
        "\n",
        "where $\\lambda > 0$ and $0 < p < 1$\n",
        "\n"
      ],
      "metadata": {
        "id": "_71rpPQZGl_J"
      }
    },
    {
      "cell_type": "markdown",
      "source": [
        "Ans:\n",
        "\n",
        "a)\n",
        "\n",
        "The CDF is given as:\n",
        "\n",
        "$F_X(x) = P(X \\leq x) = P(X \\leq x|X=Y)P(X=Y) + P(X \\leq x|X=Z)P(X=Z) = P(Y \\leq x|X=Y)P(X=Y) + P(Z \\leq x|X=Z)P(X=Z) = F_Y(x)p + F_Z(x)(1-p)$\n",
        "\n",
        "Therefore, the pdf is obtained as:\n",
        "\n",
        "$f_X(x) = \\frac{dF_X(x)}{dx} = pf_Y(x) + (1-p)f_Z(x)$\n",
        "\n",
        "b)\n",
        "\n",
        "Let Y,Z be two random variables, with pdfs as\n",
        "\n",
        "$f_Y(x) = \\lambda e^{\\lambda x}$ if $x < 0$ and 0 otherwise\n",
        "\n",
        "$f_Z(x) = \\lambda e^{-\\lambda x}$ if $x \\geq 0$ and 0 otherwise\n",
        "\n",
        "The respective CDFs are:\n",
        "\n",
        "$F_Y(x) = \\int_{-∞}^x \\lambda e^{\\lambda x} dx = e^{\\lambda x}$  for $x < 0 $\n",
        "\n",
        "$\\ \\ \\ =1$ for $x \\geq 0$\n",
        "\n",
        "$F_Z(x) = 1 - e^{-\\lambda x}$ for $x \\geq 0$\n",
        "\n",
        "$\\ \\ \\ = 0$ for $x < 0 $\n",
        "\n",
        "We can then think of X being equal to Y with probability p and Z with probability (1-p) (to get the pdf as per part a).\n",
        "\n",
        "Hence $F_X(x) = pF_Y(x) + (1-p)F_Z(x)$\n",
        "\n",
        "$\\ \\ \\ =pe^{\\lambda x}$ for $x < 0$\n",
        "\n",
        "$\\ \\ \\ =p+(1-p)(1-e^{-\\lambda x})$ for $x \\geq 0$\n",
        "\n",
        "\n"
      ],
      "metadata": {
        "id": "QurKNWhNHenB"
      }
    },
    {
      "cell_type": "markdown",
      "source": [
        "---\n",
        "**Q7**\n",
        "\n",
        "Problem 11 . Let X and Y be normal random variables with means 0 and 1 , respec­tively, and variances 1 and 4, respectively.\n",
        "\n",
        "(a) Find $P(X \\leq 1.5)$ and $P(X \\leq -1)$\n",
        "\n",
        "(b) Find the PDF of (Y - 1)/2.\n",
        "\n",
        "(c) Find $P(-1 \\leq Y \\leq 1)$"
      ],
      "metadata": {
        "id": "58xFLBZKLA0j"
      }
    },
    {
      "cell_type": "markdown",
      "source": [
        "Ans:\n",
        "\n",
        "\n",
        "$X\\ \\ \\ ̃\\ \\ N(0,1)$\n",
        "\n",
        "$Y\\ \\ \\ ̃\\ \\ N(1,4)$\n",
        "\n",
        "\n",
        "Using the  standard normal table (pg 155)\n",
        "\n",
        "\n",
        "a) $P(X \\leq 1.5) = \\Phi(1.5) = 0.9332$\n",
        "\n",
        "$P(X \\leq -1) = P(X \\geq 1) = 1 - P(X \\leq 1) = 1 - \\Phi(1) = 0.1587$\n",
        "\n",
        "b)\n",
        "\n",
        "Let $Z = \\frac{Y - 1}{2}$\n",
        "\n",
        "then $Z$ is also Gaussian with $EZ = 1/2EY - 1/2 = 0$ and $Var(Z) = 1/4 Var(Y) = 1$\n",
        "\n",
        "Therefore $Z\\ \\ \\tilde\\ \\ N(0,1)$\n",
        "\n",
        "c) $P(-1 \\leq Y \\leq 1) = P(-1 \\leq Z \\leq 0) = \\Phi(0) - \\Phi(-1) = 0.5 - 0.1587 = 0.3413$"
      ],
      "metadata": {
        "id": "lhUQp7tGLwdj"
      }
    },
    {
      "cell_type": "markdown",
      "source": [
        "---\n",
        "**Q8**\n",
        "\n",
        "Problem 15. A point is chosen at random (according to a uniform PDF) within a semicircle of the form $\\{(x, y)| x^2 + y^2 \\leq r^2, y \\geq 0\\}$, for some given $r > 0$\n",
        "\n",
        "(a) Find the joint PDF of the coordinates X and Y of the chosen point.\n",
        "\n",
        "(b) Find the marginal PDF of Y and use it to find E[Y].\n",
        "\n",
        "(c) Check your answer in (b) by computing E[Y] directly without using the marginal\n",
        "PDF of Y."
      ],
      "metadata": {
        "id": "h_Ngx-PcOB-M"
      }
    },
    {
      "cell_type": "markdown",
      "source": [
        "Ans:\n",
        "\n",
        "a)\n",
        "\n",
        "$\\int\\int_{semicircle} f_{XY}(x,y)dydx = c*\\frac{\\pi r^2}{2}=1 $\n",
        "\n",
        "since the joint pdf is uniform, we are letting it be $c$.\n",
        "\n",
        "Therefore $f_{XY}(x,y) = \\frac{2}{\\pi r^2}$\n",
        "\n",
        "\n",
        "b)\n",
        "\n",
        "$f_Y(y) = \\int_x f_{XY}(x,y)dx=\\int_{-\\sqrt{r^2-y^2}}^{\\sqrt{r^2-y^2}} \\frac{2}{\\pi r^2} dx = \\frac{4\\sqrt{r^2-y^2}}{\\pi r^2}$\n",
        "\n",
        "$EY = \\int_0^r y \\frac{4\\sqrt{r^2-y^2}}{\\pi r^2} dy $\n",
        "\n",
        "Let $y = rsin\\theta$ then\n",
        "\n",
        "$EY = \\frac{4}{\\pi r^2}\\int_0^{\\frac{\\pi}{2}} rsin\\theta rcos\\theta rcos\\theta d\\theta = \\frac{4r}{\\pi}\\int_{-1}^0 u^2du$\n",
        "\n",
        "with change of variable by $u=-cos\\theta$.\n",
        "\n",
        "Hence $EY = \\frac{4r}{3\\pi}$\n",
        "\n",
        "c)\n",
        "\n",
        "$EY = \\int\\int yf_{XY}(x,y)dxdy = \\frac{2}{\\pi r^2} \\int_{-r}^r\\int_0^{\\sqrt{r^2-x^2}} ydydx= \\frac{2}{\\pi r^2} \\int_{-r}^r \\frac{r^2-x^2}{2}dx = \\frac{4r}{3\\pi}  $\n"
      ],
      "metadata": {
        "id": "SElwmPGfOh5r"
      }
    },
    {
      "cell_type": "markdown",
      "source": [
        "---\n",
        "**Q9**\n",
        "\n",
        "Problem 18. Let X be a random variable with PDF\n",
        "\n",
        "$f_X(x)= x/4$ if $1 < x \\leq 3$\n",
        "\n",
        "$\\ \\ \\ = 0$, otherwise,\n",
        "\n",
        "and let A be the event ${X \\geq 2}$.\n",
        "\n",
        "\n",
        "(a) Find E[X],P(A),$f_{X|A}(x)$,and $E[X|A]$.\n",
        "\n",
        "(b) Let $Y=X^2$. Find $EY$ and $Var(Y)$"
      ],
      "metadata": {
        "id": "RnxklZ43q8Xp"
      }
    },
    {
      "cell_type": "markdown",
      "source": [
        "Ans:\n",
        "\n",
        "a)\n",
        "\n",
        "$EX = \\int_1^3 xf_X(x)dx = \\int_1^3 x*x/4dx = \\frac{13}{6}$\n",
        "\n",
        "$P(A) = \\int_2^3 x/4 dx = 5/8 $\n",
        "\n",
        "$f_{X|A}(x) = \\frac{f_{XA}(x)}{P(A)} = \\frac{2x}{5}$ for $2 \\leq x \\leq 3$\n",
        "\n",
        "$\\ \\ \\ =0$ otherwise\n",
        "\n",
        "$E[X|A] = \\int_2^3 x f_{X|A}(x) dx = \\frac{2}{5} \\frac{x^3}{3}|_2^3 = \\frac{38}{15}$\n",
        "\n",
        "b)\n",
        "\n",
        "$EY = EX^2 = \\int_1^3x^2 x/4 dx = 5$\n",
        "\n",
        "$EY^2 = EX^4 = \\int_1^3x^4 x/4 = dx = \\frac{91}{3} $\n",
        "\n",
        "$Var(Y) = EY^2 - (EY)^2 = \\frac{16}{3} $\n"
      ],
      "metadata": {
        "id": "tX9qAugysKP0"
      }
    },
    {
      "cell_type": "markdown",
      "source": [
        "---\n",
        "**Q10**\n",
        "\n",
        "Problem21. We start with a stick of length $l$. We break it at a point which is chosen according to a uniform distribution and keep the piece, of length Y, that contains the left end of the stick. We then repeat the same process on the piece that we were left with, and let X be the length of the remaining piece after breaking for the second time.\n",
        "\n",
        "(a) Find the joint PDF of Y and X.\n",
        "\n",
        "(b) Find the marginal PDF of X.\n",
        "\n",
        "(c) Use the PDF of X to evaluate E[X].\n",
        "\n",
        "(d) Evaluate E[X], by exploiting the relation $X =Y\\cdot(X/Y)$."
      ],
      "metadata": {
        "id": "gv4Tn89U5HZ_"
      }
    },
    {
      "cell_type": "markdown",
      "source": [
        "Ans:\n",
        "\n",
        "a)\n",
        "\n",
        "$f_Y(y) = 1/l$\n",
        "\n",
        "$f_{X|Y=y}(x) = 1/y$\n",
        "\n",
        "$f_{XY}(x,y) = f_{X|Y=y}(x,y)f_Y(y) = \\frac{1}{ly}$ for $0 < x \\leq y \\leq l$\n",
        "\n",
        "and 0 otherwise\n",
        "\n",
        "b)\n",
        "\n",
        "$f_X(x) = \\int_x^l f_{XY}(x,y)dy = \\frac{1}{l}ln(l/x) $ for $0 < x \\leq l$\n",
        "\n",
        "c) $EX = \\int_0^l xf_X(x)dx = \\int_0^l (x/l)ln(l/x)dx = \\frac{l}{4}$\n",
        "\n",
        "d)\n",
        "\n",
        "By iterated expectation law:\n",
        "\n",
        "$EX = E_Y E_{X|Y}X = E_Y Y/2 = \\frac{l}{4} $\n",
        "\n",
        "See solution manual for another approach.\n"
      ],
      "metadata": {
        "id": "_AkWk0tn5hxv"
      }
    },
    {
      "cell_type": "markdown",
      "source": [
        "---\n",
        "**Q11**\n",
        "\n",
        "Problem 25. The coordinates X and Y of a point are independent zero mean normal random variables with common variance $\\sigma^2$. Given that the point is at a distance of at least c from the origin. find the conditional joint PDF of X and Y."
      ],
      "metadata": {
        "id": "R-f6Y0mv_Rk-"
      }
    },
    {
      "cell_type": "markdown",
      "source": [
        "Ans:\n",
        "\n",
        "$D = X^2 + Y^2$\n",
        "\n",
        "$f_{XY|D \\geq c^2}(x,y) = P(D \\geq c^2 | XY = (x,y)) f_{XY}(x,y) / P(D \\geq c^2)$\n",
        "\n",
        "Note that:\n",
        "\n",
        "$P(D \\geq c^2 | XY = (x,y)) = 1$ if $x^2 + y^2 \\geq c^2$ and 0 otherwise.\n",
        "\n",
        "Since X, Y are independent, their joint distribution is given as:\n",
        "\n",
        "$f_{XY}(x,y) = f_X(x)f_Y(y) = \\frac{1}{2\\pi \\sigma^2} e^{-\\frac{x^2+y^2}{2\\sigma^2}} $\n",
        "\n",
        "$P(D \\geq c^2) = 1-P(D < c^2)$\n",
        "\n",
        "$P(D < c^2) = \\int\\int_{D<c^2} \\frac{1}{2\\pi \\sigma^2} e^{-\\frac{x^2+y^2}{2\\sigma^2}} dxdy$\n",
        "\n",
        "The integral over this circle can be easily computed by a change of variables to polar coordinates:\n",
        "\n",
        "$0 \\leq r = \\sqrt{x^2+y^2} < c$ and $0 \\leq \\theta \\leq 2\\pi$\n",
        "\n",
        "$P(D < c^2) = \\int_0^c \\int_0^{2\\pi} \\frac{1}{2\\pi \\sigma^2}e^{-\\frac{r^2}{2\\sigma^2}} rdr d\\theta$\n",
        "\n",
        "Using $u = \\frac{r^2}{2\\sigma^2}$ in the above, we get:\n",
        "\n",
        "$P(D < c^2) = 1-e^{-\\frac{c^2}{2\\sigma^2}}$\n",
        "\n",
        "Therefore\n",
        "\n",
        "$f_{XY|D \\geq c^2}(x,y) = e^{\\frac{c^2}{2\\sigma^2}}\\frac{1}{2\\pi \\sigma^2} e^{-\\frac{x^2+y^2}{2\\sigma^2}}= \\frac{1}{2\\pi \\sigma^2} e^{-\\frac{x^2+y^2-c^2}{2\\sigma^2}}$\n",
        "\n",
        "\n",
        "\n"
      ],
      "metadata": {
        "id": "QdUbtZHu_kUB"
      }
    },
    {
      "cell_type": "markdown",
      "source": [
        "---\n",
        "**Q12**\n",
        "\n",
        "Problem 34. A defective coin minting machine produces coins whose probability of heads is a random variable P with PDF\n",
        "\n",
        "$f_P(p) = pe^p$, if $p \\in [0,1]$,\n",
        "\n",
        "$\\ \\ \\ =0$, otherwise.\n",
        "\n",
        "A coin produced by this machine is selected and tossed repeatedly, with successive tosses assumed independent.\n",
        "\n",
        "(a) Find the probability that a coin toss results in heads.\n",
        "\n",
        "(b) Given that a coin toss resulted in heads, find the conditional PDF of P.\n",
        "\n",
        "(c) Given that the first coin toss resulted in heads, find the conditional probability of heads on the next toss."
      ],
      "metadata": {
        "id": "NN9ilzMnv4tw"
      }
    },
    {
      "cell_type": "markdown",
      "source": [
        "Ans:\n",
        "\n",
        "a)\n",
        "\n",
        "Let $X$ be the rv to which takes a value 1 for head and 0 for tail.\n",
        "\n",
        "Lets divide the interal [0,1] into N little disjoint intervals of length $\\delta p$, with $N \\delta p = 1$\n",
        "\n",
        "Then by total probability theorem, we can express the probability of getting a head as a sum of probabilities of getting a head conditioned on getting a particular bias probability in interval $[i\\delta p, (i+1)\\delta p]$\n",
        "\n",
        "$P(X=1) = \\sum_{i=0}^{\\frac{1}{\\delta p}} P(X=1|P \\in [i\\delta p, (i+1)\\delta p])P(P \\in [i\\delta p, (i+1)\\delta p]) = \\sum_{i=0}^{\\frac{1}{\\delta p}} p f_P(p)\\delta p $\n",
        "\n",
        "We can replace the sum above as an integral as $\\delta p→ 0$ to get\n",
        "\n",
        "$P(X=1) = \\int_0^1 p pe^p dp = p^2e^p|_0^1 - \\int_0^1 2pe^pdp = e - 2[ pe^p|_0^1 - \\int_0^1e^pdp] = e-2$\n",
        "\n",
        "(used integration by parts above)\n",
        "\n",
        "b)\n",
        "\n",
        "We need to find: $f_{P|X=1}(p)$\n",
        "\n",
        "$f_{P|X=1}(p) = \\frac{P(X=1|P=p)f_P(p)}{P(X=1)} = \\frac{p^2e^p}{e-2}$ for $0 \\leq p \\leq 1$\n",
        "\n",
        "$\\ \\ \\ \\ =0$ otherwise\n",
        "\n",
        "\n",
        "c)\n",
        "\n",
        "Let $X_1, X_2$ be the rv for the first and second toss.\n",
        "\n",
        "We need to find $P(X_2=1|X_1=1)$\n",
        "\n",
        "$P(X_2=1|X_1=1) = \\frac{P(X_1=1,X_2=1)}{P(X_1=1)}$\n",
        "\n",
        "$P(X_1=1, X_2=1) = \\int_0^1 P(X_1=1, X_2=1 | P=p)f_P(p)dp$\n",
        "\n",
        "Since the coin tosses are independent,\n",
        "\n",
        "$P(X_1=1, X_2=1 | P=p) = P(X_1|P=p)P(X_2|P=p) = p^2$\n",
        "\n",
        "Therefore\n",
        "\n",
        "$P(X_1=1, X_2=1) = \\int_0^1 p^2 pe^p dp = p^3e^p|_0^1 - \\int_0^13p^2e^pdp = e - 3e +\\int_0^1 6pe^pdp = -2e + 6pe^p|_0^1 -6\\int_0^1e^pdp  = 6-2e$\n",
        "\n",
        "Hence\n",
        "\n",
        "$P(X_2=1|X_1=1) = \\frac{6-2e}{e-2}$\n"
      ],
      "metadata": {
        "id": "5S7ZnKDiwOUx"
      }
    }
  ]
}