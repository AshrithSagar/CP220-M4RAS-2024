{
 "cells": [
  {
   "cell_type": "markdown",
   "metadata": {
    "colab_type": "text",
    "id": "view-in-github"
   },
   "source": [
    "<a href=\"https://colab.research.google.com/github/AshrithSagar/CP220-M4RAS-2024/blob/main/10_hw_cp220_Q.ipynb\" target=\"_parent\"><img src=\"https://colab.research.google.com/assets/colab-badge.svg\" alt=\"Open In Colab\"/></a>"
   ]
  },
  {
   "cell_type": "markdown",
   "metadata": {
    "id": "Pq0cFqqKTflw"
   },
   "source": [
    "**HW10**\n",
    "Discrete Random Variables\n",
    "\n"
   ]
  },
  {
   "cell_type": "markdown",
   "metadata": {
    "id": "BeDeDR2oTty-"
   },
   "source": [
    "---\n",
    "Let $\\Omega$ be the sample space  of possible outcomes (could be discrete or continuous).\n",
    "\n",
    "Then a Random Variable is a *function* from the $\\Omega$ to the Real line, i.e. it attaches a real number to every element of the sample space.\n",
    "\n",
    "Examples:\n",
    "\n",
    "$\\Omega$ = results of finite number of coin tosses = $H, T, HH, HT, TH, TT, HHT, HHH, ....} is a countably infinite outcome space.\n",
    "\n",
    "1. $X:\\Omega → ℝ$ where $X(toss\\_seq) = 1$ if $toss\\_seq \\in \\Omega$ has even humber of heads and $X(toss\\_seq)=0$ otherwise.\n",
    "\n",
    "2. $X:\\Omega → ℝ$ where $X(toss\\_seq) = n$ if $toss\\_seq \\in \\Omega$ has $n$ number of heads.\n",
    "\n",
    "3. Any measurements with sensors can be represented as random variables, (which take on continuous values).\n",
    "\n",
    "Note that the random variable can have positive or negative values.\n",
    "\n",
    "Functions of random variables are also random variables.\n",
    "\n",
    "While technically  random variables (RV)are functions in themselves (from the outcome space to reals) - practically, we seldom need to do manipulations with outcomes and instead work with rvs directly as any other numerical variable."
   ]
  },
  {
   "cell_type": "markdown",
   "metadata": {
    "id": "Ggb1rN4rlAKy"
   },
   "source": [
    "---\n",
    "A discrete RV takes finite or countably infinite values on the real line\n",
    "\n",
    "A continuous RV takes uncountably infinite continuous values.\n",
    "\n",
    "Probablity Mass Function (PMF) of a discrete random variable attaches a probability number to each value of the variable.\n",
    "\n",
    "*Example:*\n",
    "\n",
    "1.\n",
    "\n",
    "If $X$ represents number of heads in 100 coin tosses, then\n",
    "\n",
    "$p_X(X=k) = ^{100}C_kp^k(1-p)^{n-k}$ for $0 \\leq k \\leq 100$, where $^{100}C_k$ is 100 choose $k$ - number of sequences of 100 tosses with $k$\n",
    "heads.\n",
    "\n",
    "\n",
    "2.\n",
    "\n",
    "If $Y$ represents whether even number of heads appeared or not in N tosses, then for a fair coin\n",
    "\n",
    "$p_Y(Y=1) = \\Sigma_{k=0}^{k=int(N/2)} P_X(X=k) = 0.5$\n",
    "\n",
    "$p_Y(Y=0) = 1- P_Y(Y=1) = 0.5$\n",
    "\n",
    "\n",
    "When we are dealing with only one variable, we can drop the subscript $_X$ with the pmf.\n",
    "\n",
    "We also write $p_X(X=x)$ as $p_X(x)$ of $p(x)$\n",
    "\n",
    "To calculate $p_X(x)$, find the pre-image of $x$ as $E=X^{-1}(x) \\subset \\Omega$ and find its probability (by adding probabilities of the outcomes in E)"
   ]
  },
  {
   "cell_type": "markdown",
   "metadata": {
    "id": "4wQ67KIGpILq"
   },
   "source": [
    "---\n",
    "**Moments of a RV**\n",
    "\n",
    "\n",
    "*$\\underline{Mean:}$*\n",
    "\n",
    "$E_X(X) = \\sum xp_X(x) = μ$.\n",
    "\n",
    "When the rv is clear, we can drop subscript $_X$\n",
    "\n",
    "Let $f(X)$ be a function of the rv $X$, then\n",
    "\n",
    "$E_X(f(X)) = \\sum f(x)p_X(x)$\n",
    "\n",
    "*$\\underline{k^{th}\\ raw\\ moment\\ and\\ central\\ moment}$*\n",
    "\n",
    "$E(X^k) = \\sum x^kp_X(x)$ is the raw moment\n",
    "\n",
    "$E(X-\\mu)^k) = \\sum (x-\\mu)^kp_X(x)$ is the central moment.\n",
    "\n",
    "*$\\underline{variance}$*\n",
    "\n",
    "$E((X-\\mu)^2) = \\sum (x-\\mu)^2 p_X(x) = \\sigma_X^2$ is the second central moment.\n",
    "\n",
    "*$\\underline{Standard\\ deviation}$*\n",
    "\n",
    "$std. dev = \\sqrt{variance} = \\sigma_X$.\n",
    "\n",
    "It gives a measure of the spread of the distribution around the mean.\n",
    "\n",
    "*$\\underline{Moment\\ Generating\\ Function}$*\n",
    "\n",
    "$M_X(s) = E(e^{sX}) = \\sum_x e^{sx}p_X(x) = \\sum_x  (1+sx+\\frac{s^2x^2}{2!} + \\frac{s^3x^3}{3!}+...) p_X(x) = 1 +sEX + \\frac{s^2EX^2}{2!}+\\frac{s^3EX^3}{3!}+...$\n",
    "\n",
    "Thus if we have a closed analytical form of $M_X(s)$, we can calculate the $k^{th}$ moment as $EX^k = \\frac{d^kM_X(s=0)}{ds^k}$\n",
    "\n",
    "*$\\underline{k^{th} Standardized\\ Moment}$*\n",
    "\n",
    "$E((\\frac{X-\\mu}{\\sigma})^k)$\n",
    "\n",
    "\n",
    "*$\\underline{Skewness}$*\n",
    "\n",
    "Quantifies the asymmetry in the distribution and is given by the 3rd standardized moment:\n",
    "\n",
    "$Skewness(X) = E((\\frac{X-\\mu}{\\sigma})^3)$\n",
    "\n",
    "\n",
    "*$\\underline{Kurtosis}$*\n",
    "\n",
    "Describes how much \"tail\" a distribution has, i.e how much mass the pmf has beyond the mean - at the extreme ends and is given by the 4th standardized moment.\n",
    "\n",
    "$Kurt(X)=E((\\frac{X-\\mu}{\\sigma})^4)$\n",
    "\n",
    "For example: When we look at the probability of returns on an investment, then if it has a high kurtosis, then it implies more volatility of the investment.\n"
   ]
  },
  {
   "cell_type": "markdown",
   "metadata": {
    "id": "idJBeHGevvua"
   },
   "source": [
    "**Entropy of a RV**\n",
    "\n",
    "Measures the \"randomness\" of the rv, by characterizing the mean of the pmf (treated as a function)\n",
    "\n",
    "$H(X) = E(-log(p_X(X)) = \\sum_x p_X(x)\\frac{1}{log(p_X(x))}$\n",
    "\n",
    "The log is usually with base 2 to get the answer in \"number of bits\"."
   ]
  },
  {
   "cell_type": "markdown",
   "metadata": {
    "id": "fF6AALGHoZrm"
   },
   "source": [
    "---\n",
    "**Bernoulli RV**\n",
    "\n",
    "\n",
    "This RV, models coin toss type binary outcomes.\n",
    "\n",
    "$X \\in \\{0,1\\}$ and $p_X(1)=p$, $p_X(0)=1-p$\n",
    "\n",
    "We denote this as\n",
    "\n",
    "$X\\ \\sim Ber(p)$\n",
    "\n",
    "$\\underline{Mean}$\n",
    "\n",
    "$E(X) = 0.(1-0) + 1.p = p$\n",
    "\n",
    "Consider the function $f(X) = X^2$,\n",
    "\n",
    "then:\n",
    "\n",
    "$E(f(X)) = E(X^2) = 0^2(1-p) + 1^2p = p$\n",
    "\n",
    "$\\underline{Variance}$\n",
    "\n",
    "$E((X-\\mu)^2 = \\sum (x-\\mu)^2 p_X(x) = (0-p)^2p_X(0) + (1-p)^2p_X(1) = p^2(1-p)+(1-p)^2p = p(1-p)$\n",
    "\n",
    "*$\\underline{Entropy}$*\n",
    "\n",
    "$H(X) = E(-log(p_X(x)) = (1-p)log(1/(1-p)) + plog(1/p)$\n",
    "\n",
    "*$\\underline{MGF}$*\n",
    "\n",
    "$M_X(s) = E(e^{sX}) = e^{s.0}(1-p)+e^{s.1}p = 1+p(e^s-1)$\n",
    "\n",
    "Crosscheck:\n",
    "\n",
    "$EX = M^{'}_X(0) = p$\n",
    "\n",
    "$EX^2 = M^{''}_X(0) = p$"
   ]
  },
  {
   "cell_type": "markdown",
   "metadata": {
    "id": "OCHVywe6-dr8"
   },
   "source": [
    "---\n",
    "**Joint Distributions**\n",
    "\n",
    "Let X, Y be two RV, then\n",
    "\n",
    "$p_{XY}(X=x,Y=y)$ is the pmf of the joint distribution.\n",
    "\n",
    "\n",
    "*$\\underline{Marginals}$*:\n",
    "\n",
    "$p_Y(Y=y) = \\sum_x p_{XY}(X=x,Y=y)$\n",
    "\n",
    "$p_X(X=x) = \\sum_y p_{XY}(X=x,Y=y)$\n",
    "\n",
    "Are  the marginals.\n",
    "\n",
    "*$\\underline{Conditionals}$*\n",
    "\n",
    "$p_{X|Y=y}(X=x|Y=y)$ is the conditional pmf of X given $Y=y$\n",
    "\n",
    "The joint probability can be written in terms of the conditional as:\n",
    "\n",
    "$p_{XY}(x,y) = p_{X|Y}(x|y)p_Y(y)$\n",
    "\n",
    "*$\\underline{Independence}$*\n",
    "\n",
    "Two variables are independent, iff:\n",
    "\n",
    "$p_{XY}(X=x,Y=y) = p_X(X=x)p_Y(Y=y)$ $\\forall x, y$\n",
    "\n",
    "For $n$ variables to be independent, all subsets should be independent.\n",
    "\n",
    "*$\\underline{Expectation\\ of\\ a\\ sum\\ of\\ rv}$*\n",
    "\n",
    "Let $Z = X + Y$\n",
    "\n",
    "Then $EZ = E_{XY}(X+Y) = \\sum_x \\sum_y (x+y)p_{XY}(x,y) = \\sum_x \\sum_y xp_{XY}(x,y) + \\sum_x\\sum_y yp_{XY}(x,y) $\n",
    "\n",
    "$\\sum_x \\sum_y xp_{XY}(x,y) = \\sum_x x \\sum_y p_{XY}(x,y) = \\sum_x x p_X(x) = EX$\n",
    "\n",
    "$\\sum_x\\sum_y yp_{XY}(x,y) = \\sum_y\\sum_x yp_{XY}(x,y) = EY$\n",
    "\n",
    "Therefore $E(X+Y) = EX + EY$\n",
    "\n",
    "This can be extended to sum of $n$ random variables.\n",
    "\n",
    "i.e.  $E(\\sum_i X_i) = \\sum_i EX_i$\n",
    "\n",
    "Note that this holds regardless of whether the rvs are independent or not.\n",
    "\n",
    "Using this, we can rewrite the variance of a rv as\n",
    "\n",
    "$\\sigma_X^2 = E(X-\\mu)^2 = E(X^2 -2X\\mu +\\mu^2) = EX^2 -2\\mu EX +\\mu^2 = EX^2 - \\mu^2 = EX^2 - (EX)^2$ where $\\mu = EX$\n",
    "\n",
    "*$\\underline{Expectation\\ of\\ Product\\ of\\ rvs}$*\n",
    "\n",
    "$E(XY) = EX EY$ if X, Y are independent.\n",
    "\n",
    "$E(XY) = \\sum_x \\sum_y xyp_{XY}(x,y) = \\sum_x \\sum_y XYp_X(x)p_Y(y) = \\sum_x xp_X(x) \\sum_y yp_Y(y) = \\sum_x xp_X(x)EY = EY \\sum_x xp_X(x) = EYEX $\n",
    "\n",
    "*$\\underline{Variance\\ of\\ sum\\ of\\ rvs}$*\n",
    "\n",
    "$X = \\sum_i X_i$ and if $X_i$ are i.i.d (independent, identically  distributed), then\n",
    "\n",
    "$Var(X) = \\sum_i Var(X_i)$\n"
   ]
  },
  {
   "cell_type": "markdown",
   "metadata": {
    "id": "xs_JHABP-zDn"
   },
   "source": [
    "---\n",
    "**Joint Distributions**\n",
    "\n",
    "Let X, Y be two RV, then\n",
    "\n",
    "$p_{XY}(X=x,Y=y)$ is the pmf of the joint distribution.\n",
    "\n",
    "Iff the two variables are independent, then:\n",
    "\n",
    "\n"
   ]
  },
  {
   "cell_type": "markdown",
   "metadata": {
    "id": "h8FRaS_974on"
   },
   "source": [
    "---\n",
    "**Binomial RV**\n",
    "\n",
    "Let $X_i\\ \\sim Ber(p)$ be a Bernoulli RV\n",
    "and Let $X_i, X_j$ be independant for all pairs $i \\neq j$ (also referred to as independent and identically distributed or iid).\n",
    "\n",
    "Consider $Z = X_1 + X_2 + X_3 + ... +X_n$\n",
    "\n",
    "then,\n",
    "\n",
    "$Z\\ \\sim Bin(n,p)$ with a pmf\n",
    "\n",
    "$p_Z(k) = ^nC_kp^k(1-p)^{n-k}$\n",
    "\n",
    "Note:  $Bin(n=1,p) = Ber(p)$\n",
    "\n",
    "$\\mu_Z = EZ = \\sum_{k=0}^{k=n} k p_Z(k) = \\sum_{k=0}^{k=n} k (^nC_k)p^k(1-p)^{n-k} = \\sum_i EX_i = np $\n",
    "\n",
    "$\\sigma^2_Z = E((Z-\\mu_Z)^2) = np(1-p)$ (can be easily derived by using formulae of expectations of sums and products )\n",
    "\n"
   ]
  },
  {
   "cell_type": "code",
   "execution_count": 1,
   "metadata": {
    "id": "sG2JqkqT6Nn6"
   },
   "outputs": [],
   "source": [
    "import numpy as np\n",
    "import matplotlib.pyplot as plt"
   ]
  },
  {
   "cell_type": "code",
   "execution_count": 2,
   "metadata": {
    "id": "Yc_6ZJif7df3"
   },
   "outputs": [],
   "source": [
    "rng = np.random.default_rng(100)"
   ]
  },
  {
   "cell_type": "code",
   "execution_count": 3,
   "metadata": {
    "colab": {
     "base_uri": "https://localhost:8080/"
    },
    "id": "hpo9EkE6wigw",
    "outputId": "7c46e8c3-5c3a-49ee-d79b-42fcfc4939a9"
   },
   "outputs": [
    {
     "name": "stdout",
     "output_type": "stream",
     "text": [
      "sample mean = 0.357, theory mean=0.34\n",
      "sample variance = 0.22955099999999998, theory variance = 0.2244\n",
      "sample entropy = 0.9401647521318283, theory entropy=0.9248187049730301\n"
     ]
    }
   ],
   "source": [
    "#Bernoulli RV (also binary rv)\n",
    "n, p = 1, 0.34\n",
    "nSamples = 1000\n",
    "#Draw nSamples\n",
    "s = rng.binomial(n,p,nSamples)\n",
    "\n",
    "mu_sample = np.sum(s)/nSamples\n",
    "var_sample = np.sum((s-mu_sample)**2)/nSamples\n",
    "\n",
    "print(f\"sample mean = {mu_sample}, theory mean={p}\")\n",
    "print(f\"sample variance = {var_sample}, theory variance = {p*(1-p)}\")\n",
    "\n",
    "#sample entropy\n",
    "n_1 = np.sum(s)\n",
    "n_0 = nSamples - n_1\n",
    "entropy_sample  = np.log2((nSamples/n_1)**(n_1/nSamples)*(nSamples/n_0)**(n_0/nSamples))\n",
    "entropy_theory = np.log2((1/p)**p*(1/(1-p))**(1-p))\n",
    "print(f\"sample entropy = {entropy_sample}, theory entropy={entropy_theory}\")"
   ]
  },
  {
   "cell_type": "code",
   "execution_count": 4,
   "metadata": {
    "colab": {
     "base_uri": "https://localhost:8080/",
     "height": 490
    },
    "id": "1PLF_LPz1eDY",
    "outputId": "7ab867ba-3fe0-4960-c4d0-7e5968ba5237"
   },
   "outputs": [
    {
     "data": {
      "text/plain": [
       "Text(0.5, 1.0, 'Entropy versus probability for Binary RV')"
      ]
     },
     "execution_count": 4,
     "metadata": {},
     "output_type": "execute_result"
    },
    {
     "data": {
      "image/png": "[encoded data removed]",
      "text/plain": [
       "<Figure size 640x480 with 1 Axes>"
      ]
     },
     "metadata": {},
     "output_type": "display_data"
    }
   ],
   "source": [
    "#Entropy versus probability for binary(Bernoulli)  rv\n",
    "\n",
    "p_x = np.arange(0.05,0.95,0.01)\n",
    "H_p = np.log2((1/p_x)**p_x*(1/(1-p_x))**(1-p_x))\n",
    "plt.plot(p_x,H_p)\n",
    "plt.xlabel('p')\n",
    "plt.ylabel('H(p)')\n",
    "plt.title(\"Entropy versus probability for Binary RV\")"
   ]
  },
  {
   "cell_type": "markdown",
   "metadata": {
    "id": "A-n38KvT2XP1"
   },
   "source": [
    "---\n",
    "Max entropy happens when $p=0.5$, where $H(p) = 1.0$\n",
    "\n",
    "At this value of $p$, it is equallly likely to have $0$ or $q$ and hence max uncertainty.\n"
   ]
  },
  {
   "cell_type": "markdown",
   "metadata": {
    "id": "5xFuEgya2gbf"
   },
   "source": [
    "**Empirical Distribution**\n",
    "\n",
    "Let $D = \\{d_1, d_2, ....., d_n\\}$ be the empiricaly observed data. Then the empirical distribution is:\n",
    "\n",
    "$ \\hat{p}_X(k) = \\frac{\\sum_i I(d_i=k)}{n}$ where $I(cond) = 1$ if cond is true and 0 otherwise.\n",
    "\n"
   ]
  },
  {
   "cell_type": "code",
   "execution_count": 5,
   "metadata": {
    "colab": {
     "base_uri": "https://localhost:8080/",
     "height": 484
    },
    "id": "6tOM54mA3sPx",
    "outputId": "6cd3ac50-58d7-467d-ba4d-faed9f08ba6a"
   },
   "outputs": [
    {
     "name": "stdout",
     "output_type": "stream",
     "text": [
      "sample mean = 8.4605, theory mean=8.5\n",
      "sample variance = 5.47943975, theory variance = 5.609999999999999\n"
     ]
    },
    {
     "data": {
      "text/plain": [
       "[<matplotlib.lines.Line2D at 0x124482700>]"
      ]
     },
     "execution_count": 5,
     "metadata": {},
     "output_type": "execute_result"
    },
    {
     "data": {
      "image/png": "[encoded data removed]",
      "text/plain": [
       "<Figure size 640x480 with 1 Axes>"
      ]
     },
     "metadata": {},
     "output_type": "display_data"
    }
   ],
   "source": [
    "#Binomial rv\n",
    "n, p = 25, 0.34\n",
    "nSamples = 10000\n",
    "#Draw nSamples\n",
    "s = rng.binomial(n,p,nSamples)\n",
    "\n",
    "mu_sample = np.sum(s)/nSamples\n",
    "var_sample = np.sum((s-mu_sample)**2)/nSamples\n",
    "\n",
    "print(f\"sample mean = {mu_sample}, theory mean={n*p}\")\n",
    "print(f\"sample variance = {var_sample}, theory variance = {n*p*(1-p)}\")\n",
    "\n",
    "#Get empirical distribution\n",
    "unique, counts = np.unique(s,return_counts=True)\n",
    "hist=np.zeros(n+1)\n",
    "hist[unique] = counts\n",
    "#print(hist)\n",
    "plt.plot(range(n+1),hist)\n"
   ]
  },
  {
   "cell_type": "markdown",
   "metadata": {
    "id": "2N6X8XBFFbRN"
   },
   "source": [
    "---\n",
    "**Geometric RV**\n",
    "Repeated independent trials till first \"success\" leads to geometric RV.\n",
    "\n",
    "Example, number of independent coin tosses till first Head, where probability of head is $p$\n",
    "\n",
    "$X\\ \\sim Geom(p)$\n",
    "\n",
    "$p_X(X=k) = (1-p)^{k-1}p$,\n",
    "\n",
    "$k=1,2,3,...$\n",
    "\n",
    "$EX = \\sum_k kp_X(k) = \\sum_k k(1-p)^{k-1}p = \\frac{1}{p}$\n",
    "\n",
    "$EX^2 = \\sum_k k^2p_X(k) = \\sum_k k^2(1-p)^{k-1}p$"
   ]
  },
  {
   "cell_type": "markdown",
   "metadata": {
    "id": "o564Lp7qKktn"
   },
   "source": [
    "---\n",
    "**Q1**\n",
    "\n",
    "Find the moment generating function for the geometric random varible.\n",
    "\n",
    "Use that to find the variance."
   ]
  },
  {
   "cell_type": "markdown",
   "metadata": {
    "id": "bEqB6G5MKvSx"
   },
   "source": [
    "Ans:\n",
    "\n",
    "Let the Geometric RV be $X\\ \\sim Geom(p)$.\n",
    "It's pmf is given by $P_{X} (X=k) = (1-p)^{k-1}p$.\n",
    "\n",
    "The moment generating function is given by\n",
    "\\begin{align*}\n",
    "M_{X} (t)\n",
    "& =\n",
    "E(e^{tX})\n",
    "= \\sum _{k=1}^{\\infty} e^{tk} (1-p)^{k-1}p\n",
    "= p\\sum _{k=1}^{\\infty} e^{tk} (1-p)^{k-1}\n",
    "\\\\ &\n",
    "= p e^{t} \\sum _{k=1}^{\\infty} (e^{t}(1-p))^{k-1}\n",
    "= p e^{t} \\sum _{k=0}^{\\infty} (e^{t}(1-p))^{k}\n",
    "= p e^{t} \\left( \\frac{1}{1-e^{t}(1-p)} \\right)\n",
    "\\end{align*}\n",
    "\n",
    "provided $|e^{t}(1-p)| < 1$, i.e., $t < -\\log(1-p)$.\n",
    "\n",
    "\\begin{equation*}\n",
    "\\therefore\n",
    "\\boxed{\n",
    "M_{X} (t) = \\frac{pe^{t}}{1-(1-p)e^{t}}\n",
    "}\n",
    "\\end{equation*}\n",
    "\n",
    "The variance is given by\n",
    "\\begin{align*}\n",
    "\\text{Var}(X)\n",
    "& = E(X^{2}) - (E(X))^{2}\n",
    "= M_{X} ''(0) - (M_{X} '(0))^{2}\n",
    "\\\\\n",
    "\\implies\n",
    "M_{X} '(t)\n",
    "&\n",
    "= \\frac{d}{dt} \\left( \\frac{pe^{t}}{1-(1-p)e^{t}} \\right)\n",
    "= \\frac{(1-(1-p)e^{t})pe^{t} - pe^{t}(-1)(1-p)e^{t}}{(1-(1-p)e^{t})^{2}}\n",
    "\\\\ &\n",
    "= \\frac{pe^{t}(1-(1-p)e^{t} + (1-p)e^{t})}{(1-(1-p)e^{t})^{2}}\n",
    "= \\frac{pe^{t}}{(1-(1-p)e^{t})^{2}}\n",
    "\\\\\n",
    "\\implies\n",
    "M_{X} '(0)\n",
    "&\n",
    "= \\frac{p}{p^{2}}\n",
    "= \\frac{1}{p}\n",
    "\\\\\n",
    "\\implies\n",
    "M_{X} ''(t)\n",
    "&\n",
    "= \\frac{d}{dt} \\left( \\frac{pe^{t}}{(1-(1-p)e^{t})^{2}} \\right)\n",
    "= \\frac{(p e^t)(1 - (1-p)e^t)^2 - (pe^t)(-2(1-p)e^t(1 - (1-p)e^t))}{(1 - (1-p)e^t)^4}\n",
    "\\\\\n",
    "\\implies\n",
    "M_{X} ''(0)\n",
    "&\n",
    "= \\frac{(p)(1 - (1-p))^2 - (p)(-2(1-p)(1 - (1-p)))}{(1 - (1-p))^4}\n",
    "= \\frac{p^3 + 2p^2(1-p)}{p^4}\n",
    "\\\\ &\n",
    "= \\frac{p + 2(1-p)}{p^2}\n",
    "= \\frac{2-p}{p^2}\n",
    "\\\\\n",
    "\\implies\n",
    "\\text{Var}(X)\n",
    "&\n",
    "= M_{X} ''(0) - (M_{X} '(0))^{2}\n",
    "= \\frac{2-p}{p^2} - \\frac{1}{p^2}\n",
    "= \\frac{1-p}{p^2}\n",
    "\\end{align*}\n",
    "\n",
    "\\begin{equation*}\n",
    "\\therefore\n",
    "\\boxed{\n",
    "\\text{Var}(X) = \\frac{1-p}{p^2}\n",
    "}\n",
    "\\end{equation*}\n"
   ]
  },
  {
   "cell_type": "markdown",
   "metadata": {
    "id": "eC8mMGtVvWck"
   },
   "source": [
    "---\n",
    "**Sample Mean and Sample Variance**\n",
    "\n",
    "Let $X$ be a rv and let $D = d_1, d_2, ...., d_n$ be the data sample obtained via $n$ independent samplings of $X$.\n",
    "\n",
    "Then we can think of $d_i$ being sampled from $X_i$ where $X_i$ are identical independent distributions same as that of X.\n",
    "\n",
    "Then let $Z = \\frac{X_1 + X_2 + ... + X_n}{n}$\n",
    "\n",
    "Then $\\bar{d} = \\frac{\\sum_i d_i}{n}$ which is the sample mean, is a realization of the variable $Z$.\n",
    "\n",
    "Since  $EZ = EX$, $Z$ is an unbiased estimator of EX.\n",
    "\n",
    "\n",
    "Let $Q = \\sum_i (X_i - Z)^2$\n",
    "\n",
    "$EQ = \\sum_i EX^2_i + EZ^2 - E(X_iZ) = (n-1) Var(X)$ after some routine manipulations.\n",
    "\n",
    "Hence $V = \\frac{\\sum_i (X_i - Z)^2}{n-1}$ is an unbiased estimator of $Var(X)$ as $EV = Var(X)$\n",
    "\n",
    "We can find an estimate of Var(X) from the data samples as $\\frac{\\sum_i (d_i -  \\bar{d})^2}{n-1}$ where $\\bar{d} = \\frac{\\sum_i d_i}{n}$\n",
    "\n",
    "\n",
    "Note that both $Z, V$ are rvs and\n",
    "\n",
    "$Var(Z) = \\frac{Var(X)}{n}$. Variance of the average (of independent rvs) is reduced by $n$.\n"
   ]
  },
  {
   "cell_type": "markdown",
   "metadata": {
    "id": "g_UFLO-FPPEP"
   },
   "source": [
    "---\n",
    "**Q2**\n",
    "Complete the code below to find sample and theory mean and variance for geometric rv."
   ]
  },
  {
   "cell_type": "code",
   "execution_count": 19,
   "metadata": {
    "colab": {
     "base_uri": "https://localhost:8080/"
    },
    "id": "dbnvY3sNMvMv",
    "outputId": "84af221f-e2f9-4a6b-be12-89a421a9672c"
   },
   "outputs": [
    {
     "name": "stdout",
     "output_type": "stream",
     "text": [
      "sample mean = 3.4, theory mean=2.857142857142857\n",
      "sample variance = 5.377777777777777, theory variance = 5.306122448979592\n"
     ]
    }
   ],
   "source": [
    "#geometric RV\n",
    "nSamples = 10\n",
    "z = rng.geometric(p=0.35,size=nSamples)\n",
    "\n",
    "mu_sample = z.mean()\n",
    "var_sample = z.var(ddof=1)\n",
    "\n",
    "p=0.35\n",
    "print(f\"sample mean = {mu_sample}, theory mean={1/p}\")\n",
    "print(f\"sample variance = {var_sample}, theory variance = {(1-p)/p**2}\")"
   ]
  },
  {
   "cell_type": "markdown",
   "metadata": {
    "id": "F7F-MX68PXYb"
   },
   "source": [
    "---\n",
    "**Poisson RV**\n",
    "\n",
    "$Binomial(n,p) → Poisson(\\lambda)$\n",
    "when $\\lambda= np$ and $n → ∞$ with $np$ constant.\n",
    "\n",
    "$X\\ \\sim\\ Poisson(\\lambda)$\n",
    "\n",
    "$p_X(k) = e^{-\\lambda}\\frac{\\lambda^k}{k!}$"
   ]
  },
  {
   "cell_type": "markdown",
   "metadata": {
    "id": "iwWS05b-Ttd9"
   },
   "source": [
    "---\n",
    "**Q3**\n",
    "\n",
    "Find the mean and variance of the Poisson random variable with parameter $\\lambda$"
   ]
  },
  {
   "cell_type": "markdown",
   "metadata": {
    "id": "KTLRuWq6Rf35"
   },
   "source": [
    "Ans:\n",
    "\n",
    "The PMF of the Poisson random variable is given by\n",
    "$\n",
    "f_X(k) = e^{-\\lambda} \\frac{\\lambda^k}{k!}\n",
    "$\n",
    "for $k = 0, 1, 2, \\ldots$.\n",
    "\n",
    "The mean is given by\n",
    "\\begin{align*}\n",
    "E(X)\n",
    "&\n",
    "= \\sum_{k=0}^{\\infty} k f_X(k)\n",
    "= \\sum_{k=0}^{\\infty} k e^{-\\lambda} \\frac{\\lambda^k}{k!}\n",
    "= e^{-\\lambda} \\sum_{k=1}^{\\infty} \\frac{\\lambda^k}{(k-1)!}\n",
    "\\\\ &\n",
    "= \\lambda e^{-\\lambda} \\sum_{k=1}^{\\infty} \\frac{\\lambda^{k-1}}{(k-1)!}\n",
    "= \\lambda e^{-\\lambda} \\sum_{j=0}^{\\infty} \\frac{\\lambda^j}{j!}\n",
    "= \\lambda e^{-\\lambda} e^{\\lambda}\n",
    "= \\lambda\n",
    "\\end{align*}\n",
    "\n",
    "and the variance is given by\n",
    "\\begin{align*}\n",
    "\\text{Var}(X)\n",
    "&\n",
    "= E[X^2] - (E[X])^2\n",
    "\\\\ &\n",
    "= \\sum_{k=0}^{\\infty} k^2 f_X(k) - \\lambda^2\n",
    "= \\sum_{k=0}^{\\infty} k^2 e^{-\\lambda} \\frac{\\lambda^k}{k!} - \\lambda^2\n",
    "\\\\ &\n",
    "= \\lambda\n",
    "\\end{align*}\n"
   ]
  },
  {
   "cell_type": "markdown",
   "metadata": {
    "id": "TtjflxmlMBey"
   },
   "source": [
    "---\n",
    "**Q4**\n",
    "Problem 2. You go to a party with 500 guests. What is the probability that exactly one other guest has the same birthday as you? Calculate this exactly and also approximately by using the Poisson PMF. (For simplicity. exclude birthdays on February 29.)"
   ]
  },
  {
   "cell_type": "markdown",
   "metadata": {
    "id": "Xwsiq9H1MIS8"
   },
   "source": [
    "Ans:\n",
    "\n",
    "\n"
   ]
  },
  {
   "cell_type": "code",
   "execution_count": null,
   "metadata": {
    "colab": {
     "base_uri": "https://localhost:8080/"
    },
    "id": "TyBfsknGPUKZ",
    "outputId": "2e8e4bff-3a13-432a-af9b-2cf3132e7674"
   },
   "outputs": [
    {
     "name": "stdout",
     "output_type": "stream",
     "text": [
      "0.34869862838624177\n",
      "0.3483963378131993\n"
     ]
    }
   ],
   "source": [
    "print((364/365)**498 * 499/365)\n",
    "print(499/365*np.exp(-499/365))"
   ]
  },
  {
   "cell_type": "markdown",
   "metadata": {
    "id": "lCXq5PQkyGcH"
   },
   "source": [
    "---\n",
    "**Q5**\n",
    "Problem 3. Fischer and Spassky play a chess match in which the first player to win a game wins the match. After 10 successive draws the match is declared drawn. Each game is won by Fischer with probability 0.4. is won by Spassky with probability 0.3. and is a draw with probability 0.3 independent of previous games.\n",
    "\n",
    "(a) What is the probability that Fischer wins the match?\n",
    "\n",
    "(b) What is the PMF of the duration of the match?"
   ]
  },
  {
   "cell_type": "markdown",
   "metadata": {
    "id": "fS4CTwH7y7Aj"
   },
   "source": [
    "Ans:\n",
    "\n",
    "(a)\n",
    "The probability that Fischer wins the match is\n",
    "\n",
    "$\n",
    "\\begin{aligned}\n",
    "P &\n",
    "= 0.4 + 0.3 \\cdot 0.4 + 0.3 \\cdot 0.3 \\cdot 0.4 + \\dots + 0.3^9 \\cdot 0.4\n",
    "\\\\ &\n",
    "= 0.4 \\frac{1 - 0.3^{10}}{1 - 0.3}\n",
    "= \\frac{4}{7} \\left(1 - 0.3^{10}\\right)\n",
    "\\approx 0.5714\n",
    "\\end{aligned}\n",
    "$\n"
   ]
  },
  {
   "cell_type": "markdown",
   "metadata": {
    "id": "JYTYAUZw5pK-"
   },
   "source": [
    "---\n",
    "**Q6**\n",
    "Problem 10. Form of the Poisson PMF. Let X be a Poisson random variable with parameter A. Show that the PMF px(k) increases monotonically with k up to the point where k reaches the largest integer not exceeding A, and after that point decreases monotonically with k."
   ]
  },
  {
   "cell_type": "markdown",
   "metadata": {
    "id": "uGKyQy9k4q8v"
   },
   "source": [
    "Ans:\n",
    "\n"
   ]
  },
  {
   "cell_type": "markdown",
   "metadata": {
    "id": "zI3Ii0sKYEOi"
   },
   "source": [
    "---\n",
    "**Kullback-Leibler (KL) Divergence and Cross-Entropy**\n",
    "\n",
    "The closeness of two probability distributions can be measured in a statistical sense using the measure of KL Divergence. If $p(x)$ and $q(x)$ are two distributions, then KL divergence is defined as:\n",
    "\n",
    "$D_{KL}(P||Q) = \\sum p(x)log(\\frac{p(x)}{q(x)})$\n",
    "\n",
    "For example, $p(x)$ can be extracted from data (like we did in one of the cells above) and $q(x)$ could be the model. Then KL divergence measures how close they are.\n",
    "\n",
    "For q(x) = 0 and p(x) !=0:   $D(P||Q) = ∞$\n",
    "\n",
    "*Jensen's Inequality*\n",
    "\n",
    "if $f(x)$ is a concave function of $x$, then\n",
    "\n",
    "$f(ax_1 + (1-a)x_2) \\geq af(x_1) + (1-a)f(x_2)$.\n",
    "\n",
    "Extending this to expectations:\n",
    "\n",
    "$f(EX) \\geq E(f(X))$ when f is concave.\n",
    "\n",
    "*KL Divergence is always non-negative*\n",
    "\n",
    "Since $log$ is a concave function, from above:\n",
    "\n",
    "$Elog(Q/P) \\leq log E(Q/P) = log(\\sum_x p(x)\\ q(x)/p(x)) = log(\\sum_x q(x)) = log(1) = 0$\n",
    "\n",
    "\n",
    "Hence\n",
    "\n",
    "$D(P||Q)=Elog(P/Q) = -Elog(Q/P) \\geq 0$\n",
    "\n",
    "*Cross Entropy*\n",
    "\n",
    "$H(p,q) = \\sum plog(1/q)$\n",
    "\n",
    "Hence $D_{KL}(p||q) = \\sum plog(p/q) = \\sum p (log 1/q - log 1/p) =  H(p,q) - H(p) $\n",
    "\n",
    "Since $D-{KL}(p||q) \\geq 0$,  we have $H(p,q) \\geq H(p)$\n"
   ]
  },
  {
   "cell_type": "code",
   "execution_count": null,
   "metadata": {
    "id": "jwNa-FjRmhx4"
   },
   "outputs": [],
   "source": [
    "# kl divergence\n",
    "def kl(p, q):\n",
    "  '''return kl divergence between the two pmfs'''\n",
    "  #z = np.zeros_like(p)\n",
    "  #print(z)\n",
    "  z = 0\n",
    "  for x,y in zip(p,q):\n",
    "    #print(x,y)\n",
    "    if y !=0 :\n",
    "      if x != 0:\n",
    "        z += x*np.log(x/y)\n",
    "    else:  # y = 0\n",
    "      if x != 0:\n",
    "        return(np.inf)\n",
    "  #print(z)\n",
    "  return z"
   ]
  },
  {
   "cell_type": "code",
   "execution_count": null,
   "metadata": {
    "colab": {
     "base_uri": "https://localhost:8080/"
    },
    "id": "9PP7RHhbmtnF",
    "outputId": "c5f66e4d-1ca5-4c7f-efc6-801749c77f8b"
   },
   "outputs": [
    {
     "name": "stdout",
     "output_type": "stream",
     "text": [
      "kl(p,q)=0.020927550265489273\n",
      "kl(p,p)=0.0\n",
      "kl(p,r)=0.5077817570293732\n",
      "kl(r,p)=0.5119093049168663\n",
      "kl divergence is not symmetric\n"
     ]
    }
   ],
   "source": [
    "#test kl\n",
    "p = np.array([0.1,0.15,0.35,0.4,0])\n",
    "q = np.array([0.1,0.2,0.3,0.39,0.01])\n",
    "r = np.array([0.4,0.3,0.2,0.1,0])\n",
    "print(f'kl(p,q)={kl(p,q)}')\n",
    "print(f'kl(p,p)={kl(p,p)}')\n",
    "print(f'kl(p,r)={kl(p,r)}')\n",
    "print(f'kl(r,p)={kl(r,p)}')\n",
    "print('kl divergence is not symmetric')"
   ]
  },
  {
   "cell_type": "markdown",
   "metadata": {
    "id": "RusuwMKPdnyW"
   },
   "source": [
    "---\n",
    "**Q7**\n",
    "\n",
    "Find the best $\\lambda$ for $Poisson(\\lambda)$ which will give minimum cross entropy with the data samples from a $Binomial(n,p)$ below."
   ]
  },
  {
   "cell_type": "code",
   "execution_count": null,
   "metadata": {
    "colab": {
     "base_uri": "https://localhost:8080/"
    },
    "id": "tQPkITWWbpn7",
    "outputId": "7a988c43-0e89-40fb-8524-1b6615fc118c"
   },
   "outputs": [
    {
     "name": "stdout",
     "output_type": "stream",
     "text": [
      "best lambda=0.42000000000000004 theorical best lambda=n*p=0.4\n"
     ]
    }
   ],
   "source": [
    "# KL divergence between data drawn from Binomial and Poisson , when data id generated from Binomial\n",
    "\n",
    "n, p = 20, 0.02\n",
    "nSamples = 1000\n",
    "#Draw nSamples from  binomial distribition\n",
    "data = rng.binomial(n,p,nSamples)\n",
    "\n",
    "#Empirical distribution\n",
    "unique, counts = np.unique(data,return_counts=True)\n",
    "empirical=np.zeros(n+1)\n",
    "empirical[unique] = counts/nSamples\n",
    "\n",
    "\n",
    "#search in the range +- 20% of theoretical value of n*p\n",
    "\n",
    "bestlam = 0\n",
    "bestkl = 100\n",
    "for lam in np.linspace(n*p*0.8, n*p*1.2, 25):\n",
    "  poisson = np.array([np.exp(-lam)*lam**k/np.math.factorial(k) for k in range(n+1)])\n",
    "\n",
    "  #your code here\n",
    "\n",
    "\n",
    "print(f'best lambda={bestlam} theorical best lambda=n*p={n*p}')\n"
   ]
  },
  {
   "cell_type": "markdown",
   "metadata": {
    "id": "oFcL4tOfg_XB"
   },
   "source": [
    "---\n",
    "**Mean and variance of a linear function of random variable**\n",
    "\n",
    "Let $Y = aX + b$ where $a$ and $b$ are constants.\n",
    "\n",
    "Then $EY = \\sum_x (ax+b)p_X(x) = a \\sum_x x p_X(c) + b \\sum_x p_X(x) = aEX + b$\n",
    "\n",
    "$EY^2 = E (aX+b)^2 = E (a^2X^2 + 2abX + b^2) = a^2EX^2 + 2abEX + b^2$\n",
    "\n",
    "$Var(Y) = EY^2 - (EY)^2 = a^2Var(X)$\n"
   ]
  },
  {
   "cell_type": "markdown",
   "metadata": {
    "id": "TJjhK6KV53B3"
   },
   "source": [
    "---\n",
    "**Q8**\n",
    "Problem 14. Let X be a random variable that takes values from 0 to 9 with equal probability 1/10.\n",
    "\n",
    "(a) Find the PMF of the random variable Y = X mod(3).\n",
    "\n",
    "(b) Find the PMF of the random variable Y = 5 mod(X + 1)."
   ]
  },
  {
   "cell_type": "markdown",
   "metadata": {
    "id": "M5C3rVIi58xz"
   },
   "source": [
    "Ans:\n",
    "\n",
    "a)\n",
    "\n",
    "\n",
    "\n",
    "b)\n",
    "\n",
    "\n"
   ]
  },
  {
   "cell_type": "markdown",
   "metadata": {
    "id": "1ZM2OhxM8S9l"
   },
   "source": [
    "---\n",
    "**Q9**\n",
    "\n",
    "Problem 16.\n",
    "Let X be a random variable with PMF\n",
    "\n",
    "$p_X(x) = \\frac{x^2}{a}$, if $x \\in \\{-3,-2,-1,0,1,2,3\\}$\n",
    "\n",
    "0, otherwise.\n",
    "\n",
    "(a) Find $a$ and $E[X]$.\n",
    "\n",
    "(b) What is the PMF of the random variable $Z = (X - E[X)^2$ ?\n",
    "\n",
    "(c) Using the result from part (b), find the variance of X.\n"
   ]
  },
  {
   "cell_type": "markdown",
   "metadata": {
    "id": "2a7_AJxQ9KZF"
   },
   "source": [
    "Ans:\n",
    "\n"
   ]
  },
  {
   "cell_type": "markdown",
   "metadata": {
    "id": "gBnWh8LcAql6"
   },
   "source": [
    "---\n",
    "**Q10**\n",
    "\n",
    "Problem 21. St. Petersburg paradox. You toss independently a fair coin and you count the number of tosses until the first tail appears. If this number is n, you receive $2^n$ dollars. What is the expected amount that you will receive? How much would you be willing to pay to play this game?"
   ]
  },
  {
   "cell_type": "markdown",
   "metadata": {
    "id": "8t5ttq4dAxby"
   },
   "source": [
    "Ans:\n",
    "\n",
    "\n",
    "\n"
   ]
  },
  {
   "cell_type": "markdown",
   "metadata": {
    "id": "TtXXa-2iBtcA"
   },
   "source": [
    "---\n",
    "**Q11**\n",
    "\n",
    "Problem 26. PMF of the minimum of several random variables. On a given day. your golf score takes values from the range 101 to 110. with probability 0.1, independent of other days. Determined to improve your score, you decide to play on three different days and declare as your score , X,  the minimum of the scores $X_1, X_2 ,  X_3$ on the different days.\n",
    "\n",
    "(a) Calculate the PMF of X.\n",
    "\n",
    "(b) By how much has your expected score improved as a result of playing on three\n",
    "days?"
   ]
  },
  {
   "cell_type": "markdown",
   "metadata": {
    "id": "Gwo1AoMuCIjn"
   },
   "source": [
    "Ans:\n",
    "\n",
    "\n",
    "\n"
   ]
  },
  {
   "cell_type": "markdown",
   "metadata": {
    "id": "VJZaFXj1sBdA"
   },
   "source": [
    "---\n",
    "**Iterated Expectation**\n",
    "\n",
    "Let $X, Y$ be two rvs.\n",
    "\n",
    "$EX = \\sum_x x p_X(x) = \\sum_x x \\sum_y p_{X|Y=y}(x)p_Y(y) = \\sum_y p_Y(y) \\sum_x x p_{X|Y=y}(x) = \\sum_y p_Y(y) E(X|Y=y) = E E(X|Y)$"
   ]
  },
  {
   "cell_type": "markdown",
   "metadata": {
    "id": "EfEoC4FjttMa"
   },
   "source": [
    "---\n",
    "**Variance of a sum of rvs**\n",
    "\n",
    "\n",
    "Let $X_1, X_2, ..., X_n$ be independent rvs,\n",
    "\n",
    "Then,\n",
    "\n",
    "$Var(X_1, X_2, ... , X_n) = Var(X_1) + Var(X_2) + ... + Var(X_n)$\n",
    "\n",
    "For example:\n",
    "\n",
    "$Var(X_1 + X_2) = E(X_1+X_2)^2 - (E(X_1 + X_2))^2 = EX^2_1 + WEX^2_2 + 2EX_1X_2 - ((EX_1)^2 + (EX_2)^2 + 2EX_1EX_2) = EX^2_1 - (EX_1)^2 + EX^2_2 - (EX_2)^2 = Var(X_1) + Var(X_2)$\n",
    "\n",
    "This follows since $EX_1X_2 = EX_1EX_2$ as $X_1, X_2$ are independent."
   ]
  },
  {
   "cell_type": "markdown",
   "metadata": {
    "id": "fylqy1uFAoi2"
   },
   "source": [
    "---\n",
    "**Covariance, Correlation, Mutual Information**\n",
    "\n",
    "\n",
    "Let X,Y be RVs,\n",
    "\n",
    "Then the covariance is:\n",
    "\n",
    "$Cov(X,Y) = E((X-EX)(Y-EY)$\n",
    "\n",
    "And the (Pearson) Correlation coefficient is:\n",
    "\n",
    "$\\rho = \\frac{Cov(X,Y)}{\\sqrt{Var(X)Var(Y)}}$\n",
    "\n",
    "Consider the space of zero mean random variables $V = \\{X\\}$ over real numbers $ℝ$. This is a vector space.  \n",
    "\n",
    "We can define and inner product as $<X,Y> = EXY$.\n",
    "\n",
    "Then by Cauchy-Schwartz Inequality,\n",
    "\n",
    "$<X,Y>^2 \\leq\\ <X,X><Y,Y>$.\n",
    "\n",
    "This means $ |EXY|^2 \\leq (EX)^2(EY)^2$.\n",
    "\n",
    "Hence $|\\rho| \\leq 1$   \n",
    "\n",
    "Note that if $X, Y$ are independent, then\n",
    "\n",
    "$Cov(X,Y) = 0$ and $\\rho = 0$.\n",
    "\n",
    "Converse is however not true. (0 correlation doesnt mean the variables are independent).\n",
    "\n",
    "Example $Y=X^2$ and $X is zero mean$, then $Y, X$ are clearly dependent, however their correlation is 0.\n",
    "\n",
    "The Pearson Correlation Coefficient measures the \"degree\" of linear relationship between the two variables and can be used to predict the one variable given the other. For example, there will be a correlation between the heights of parents and children.\n",
    "\n",
    "See https://en.wikipedia.org/wiki/File:Correlation_examples2.svg for some pictures of variables which have non-linear dependence but zero pearson correlation coefficient.\n",
    "\n",
    "\n",
    "Note correlation is not causation: for examples, glacial melts and size of wild mango fruits might be correlated - but one is not the cause of the other (there could be an underlying cause affecting both - perhaps global warming)\n",
    "\n",
    "*$\\underline{Sample\\ Correlation}$*\n",
    "\n",
    "Let $D = \\{ (x_i,y_i) \\}$, $i = 1, ... , n$ be data samples.\n",
    "\n",
    "Then the sample correlation is calculated as:\n",
    "\n",
    "$r_{XY} = \\frac{\\sum(x_i-\\bar{x})(y_i-\\bar{y})}{\\sqrt{\\sum (x_i-\\bar{x})^2\\sum (y_i-\\bar{y})^2}}$\n",
    "\n",
    "Where $\\bar{x}, \\bar{y}$ are sample means.\n",
    "\n",
    "\n",
    "\n",
    "\n",
    "\n",
    "*$\\underline{Mutual\\ Information}$*\n",
    "\n",
    "between two rvs, is defined as:\n",
    "\n",
    "$I(X,Y) = D_{KL}(P_{XY}(x,y)||P_X(x)P_Y(y)) = \\sum_x \\sum_y p_{XY}(x,y) log \\frac{p_{XY}(x,y)}{p_X(x)p_Y(y)}$\n",
    "\n",
    "Note if $I(X,Y) = 0 ⟹ X, Y independent$\n",
    "\n",
    "\n"
   ]
  },
  {
   "cell_type": "code",
   "execution_count": null,
   "metadata": {
    "colab": {
     "base_uri": "https://localhost:8080/",
     "height": 490
    },
    "id": "pbxA8M6ca8tn",
    "outputId": "a9e2513a-66ef-4951-e9e6-5113a1de3bcd"
   },
   "outputs": [
    {
     "data": {
      "image/png": "[encoded data removed]",
      "text/plain": [
       "<Figure size 640x480 with 2 Axes>"
      ]
     },
     "metadata": {},
     "output_type": "display_data"
    },
    {
     "name": "stdout",
     "output_type": "stream",
     "text": [
      "Std Dev of Sample Mean 0.02006784769226635, Theory 0.019798989873223333\n"
     ]
    }
   ],
   "source": [
    "#Sample Mean, Variance\n",
    "\n",
    "#parameters of the distribution\n",
    "n, p = 20, 0.02\n",
    "\n",
    "#number of samples/iterations per epoch/experiment\n",
    "nSamples = 1000\n",
    "\n",
    "#number of epochs/experiments/rollouts\n",
    "nEpochs = 1000\n",
    "\n",
    "#Arrays to store sample mean and variance\n",
    "S = np.zeros(nEpochs)\n",
    "V = np.zeros(nEpochs)\n",
    "\n",
    "for i in range(nEpochs):\n",
    "\n",
    "  #Draw nSamples from  binomial distribition, X ~ Bin(n,p)\n",
    "  X_data = rng.binomial(n,p,nSamples)\n",
    "\n",
    "  #sample mean S = (X_1 + X_2 + ... X_nSamples)/nSamples\n",
    "  S[i] = np.sum(X_data)/nSamples\n",
    "\n",
    "  #sample variance V = ((X_1 - S)^2 + (X_2-S)^2 + ... (X_nSamples-S)^2)/nSamples\n",
    "  V[i] = np.sum((X_data-S[i])**2)/(nSamples -1)\n",
    "\n",
    "fig,(ax1,ax2) = plt.subplots(1,2)\n",
    "ax1.hist(S,bins=10)\n",
    "ax1.set_xlabel(\"Sample Mean\")\n",
    "ax1.set_title(\"Histogram of Sample Means\")\n",
    "\n",
    "ax2.hist(V,bins=10)\n",
    "ax2.set_xlabel(\"Sample Variance\")\n",
    "ax2.set_title(\"Histogram of Sample Variances\")\n",
    "\n",
    "\n",
    "plt.show()\n",
    "\n",
    "ES = np.sum(S)/nEpochs\n",
    "print(f\"Std Dev of Sample Mean {np.sqrt(np.sum((S-ES)**2)/nEpochs)}, Theory {np.sqrt(n*p*(1-p)/nEpochs)}\")\n"
   ]
  },
  {
   "cell_type": "code",
   "execution_count": null,
   "metadata": {
    "colab": {
     "base_uri": "https://localhost:8080/",
     "height": 490
    },
    "id": "ZNQeHKJkeUy-",
    "outputId": "e8e65373-3011-4a6d-e83d-3e2691b35aea"
   },
   "outputs": [
    {
     "data": {
      "image/png": "[encoded data removed]",
      "text/plain": [
       "<Figure size 640x480 with 1 Axes>"
      ]
     },
     "metadata": {},
     "output_type": "display_data"
    },
    {
     "name": "stdout",
     "output_type": "stream",
     "text": [
      "Theory (by approximating as Gaussian with same variance) = 0.9034243676629176\n"
     ]
    }
   ],
   "source": [
    "# Sample entropy\n",
    "\n",
    "#parameters of the distribution\n",
    "n, p = 30, 0.02\n",
    "\n",
    "#number of samples/iterations per epoch/experiment\n",
    "nSamples = 1000\n",
    "\n",
    "#number of epochs/experiments/rollouts\n",
    "nEpochs = 1000\n",
    "\n",
    "#Arrays to store sample mean and variance\n",
    "H = np.zeros(nEpochs)\n",
    "\n",
    "for i in range(nEpochs):\n",
    "  #Draw nSamples from  binomial distribition, X ~ Bin(n,p)\n",
    "  X_data = rng.binomial(n,p,nSamples)\n",
    "\n",
    "  #Empirical distribution\n",
    "  unique, counts = np.unique(X_data,return_counts=True)\n",
    "  empirical=np.zeros(n+1)\n",
    "  empirical[unique] = counts/nSamples\n",
    "\n",
    "  for j in range(n+1):\n",
    "    if empirical[j] !=0:\n",
    "      H[i] += empirical[j]*np.log(1.0/empirical[j])\n",
    "\n",
    "fig,ax1 = plt.subplots(1,1)\n",
    "ax1.hist(H,bins=10)\n",
    "ax1.set_xlabel(\"Sample Entropy\")\n",
    "ax1.set_title(\"Histogram of Sample Entropies\")\n",
    "\n",
    "plt.show()\n",
    "\n",
    "\n",
    "print(f\"Theory (by approximating as Gaussian with same variance) = {0.5*(np.log(2*np.pi)+np.log(n*p*(1-p))+0.5)}\")"
   ]
  },
  {
   "cell_type": "markdown",
   "metadata": {
    "id": "6rdBNZGbsHEn"
   },
   "source": [
    "---\n",
    "**Q12**\n",
    "\n",
    "Compute the distribition of the sample mutual information for a multivariate normal with zero mean and unit variance and 0.8 correlation."
   ]
  },
  {
   "cell_type": "code",
   "execution_count": null,
   "metadata": {
    "colab": {
     "base_uri": "https://localhost:8080/"
    },
    "id": "sjeQtaLLpIuy",
    "outputId": "94942b3b-2263-4031-93fb-5c8329be18f3"
   },
   "outputs": [
    {
     "name": "stdout",
     "output_type": "stream",
     "text": [
      "Mutual Infomation is 0.022264671760422888 bits\n",
      "Entropy of Univariate Gaussian with variance = sigma is:1.8257480647361595 bits\n",
      "Entropy of Multi-variate Gaussian :2.651496129472319 bits\n"
     ]
    }
   ],
   "source": [
    "# Mutual Information from Sample\n",
    "\n",
    "nSamples = 1000\n",
    "n = 10 #number of bins\n",
    "\n",
    "sigma = 1.0\n",
    "rho = 0.0 #Correlation coefficient\n",
    "\n",
    "\n",
    "cov = np.array([[sigma, rho*sigma**2],[rho*sigma**2,sigma]])\n",
    "\n",
    "XY_data = np.random.multivariate_normal([0,0], cov, nSamples).T\n",
    "#plt.scatter(XY_data[0], XY_data[1])\n",
    "\n",
    "H2d,_,_ = np.histogram2d(XY_data[0], XY_data[1],bins=[n,n], range=[[-4,4],[-4,4]])\n",
    "#print(H2d)\n",
    "\n",
    "#<Your code>\n",
    "\n",
    "\n",
    "print(f\"Mutual Infomation is {I} bits\")\n",
    "\n",
    "#Entropy of Gaussian:https://gregorygundersen.com/blog/2020/09/01/gaussian-entropy/\n",
    "\n",
    "\n",
    "print(f\"Entropy of Univariate Gaussian with variance = sigma is:{#your code} bits\")\n",
    "\n",
    "#print(f\"Det of Cov={np.linalg.det(cov)}\")\n",
    "\n",
    "print(f\"Entropy of Multi-variate Gaussian :{#your code} bits\")"
   ]
  },
  {
   "cell_type": "code",
   "execution_count": null,
   "metadata": {
    "colab": {
     "base_uri": "https://localhost:8080/",
     "height": 490
    },
    "id": "uKszqSOJxFiq",
    "outputId": "2c2d4f66-2d24-458c-b585-5ee3ee0a3d07"
   },
   "outputs": [
    {
     "data": {
      "text/plain": [
       "Text(0.5, 1.0, 'Mutual Information vs. correlation coefficient for Two Gaussian rv')"
      ]
     },
     "execution_count": 63,
     "metadata": {},
     "output_type": "execute_result"
    },
    {
     "data": {
      "image/png": "[encoded data removed]",
      "text/plain": [
       "<Figure size 640x480 with 1 Axes>"
      ]
     },
     "metadata": {},
     "output_type": "display_data"
    }
   ],
   "source": [
    "# Plot of mutual information versus correlation coefficient\n",
    "\n",
    "nSamples = 1000\n",
    "n = 10 #number of bins\n",
    "\n",
    "sigma = 1.0\n",
    "rho = 0.0 #Correlation coefficient\n",
    "\n",
    "nSteps = 10\n",
    "I = np.zeros(nSteps,dtype=np.double)\n",
    "\n",
    "k = 0\n",
    "for rho in np.linspace(0.0, 1.0, num=nSteps):\n",
    "  cov = np.array([[sigma, rho*sigma**2],[rho*sigma**2,sigma]])\n",
    "\n",
    "  XY_data = np.random.multivariate_normal([0,0], cov, nSamples).T\n",
    "\n",
    "  H2d,_,_ = np.histogram2d(XY_data[0], XY_data[1],bins=[n,n], range=[[-4,4],[-4,4]])\n",
    "\n",
    "  #Empirical distribution\n",
    "  X,_ = np.histogram(XY_data[0],n,(-4,4))\n",
    "  Y,_ = np.histogram(XY_data[1],n,(-4,4))\n",
    "\n",
    "#code to be filled in\n",
    "\n",
    "plt.plot(np.linspace(0.0, 1.0, num=nSteps),I)\n",
    "plt.xlabel(\"Correlation coefficient\")\n",
    "plt.ylabel(\"Mutual Information\")\n",
    "plt.title(\"Mutual Information vs. correlation coefficient for Two Gaussian rv\")"
   ]
  },
  {
   "cell_type": "markdown",
   "metadata": {
    "id": "T3Y0_CPMzEJX"
   },
   "source": [
    "---\n",
    "\n",
    "For Gaussian RV, correlation =0 implies independence (I(X,Y) = 0))\n"
   ]
  }
 ],
 "metadata": {
  "colab": {
   "include_colab_link": true,
   "provenance": []
  },
  "kernelspec": {
   "display_name": "base",
   "language": "python",
   "name": "python3"
  },
  "language_info": {
   "codemirror_mode": {
    "name": "ipython",
    "version": 3
   },
   "file_extension": ".py",
   "mimetype": "text/x-python",
   "name": "python",
   "nbconvert_exporter": "python",
   "pygments_lexer": "ipython3",
   "version": "3.9.19"
  }
 },
 "nbformat": 4,
 "nbformat_minor": 0
}
