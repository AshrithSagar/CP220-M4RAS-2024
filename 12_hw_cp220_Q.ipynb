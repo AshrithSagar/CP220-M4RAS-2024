{
 "cells": [
  {
   "cell_type": "markdown",
   "metadata": {
    "colab_type": "text",
    "id": "view-in-github"
   },
   "source": [
    "<a href=\"https://colab.research.google.com/github/AshrithSagar/CP220-M4RAS-2024/blob/main/12_hw_cp220_Q.ipynb\" target=\"_parent\"><img src=\"https://colab.research.google.com/assets/colab-badge.svg\" alt=\"Open In Colab\"/></a>"
   ]
  },
  {
   "cell_type": "markdown",
   "metadata": {
    "id": "cGc8gmov8c2h"
   },
   "source": [
    "---\n",
    "**HW12**\n"
   ]
  },
  {
   "cell_type": "markdown",
   "metadata": {
    "id": "r57KCixm8hw0"
   },
   "source": [
    "---\n",
    "**PDF of a function of a rv**\n",
    "\n",
    "Let X be a rv, and $Y=g(X)$\n",
    "\n",
    "Then to find $f_Y(y)$, we can find its CDF and then get the pdf via differentiation (or differencing for discrete rv)\n",
    "\n",
    "$F_Y(y) = P(Y \\leq y) = P(g(X) \\leq y) = \\int_{x|g(x)\\leq y} f_X(x)dx$\n",
    "\n",
    "$f_Y(y) = \\frac{dF_Y(y)}{dy}$\n",
    "\n",
    "Example:\n",
    "\n",
    "$Y=X^2$\n",
    "\n",
    "$F_Y(y) = \\int_{-\\sqrt{y}}^{\\sqrt{y}} f_X(x)dx = \\int_{-∞}^{\\sqrt{y}} f_X(x)dx - \\int_{-∞}^{-\\sqrt{y}} f_X(x)dx = F_X(\\sqrt{y}) - F_X(-\\sqrt{y})$\n",
    "\n",
    "Therefore:\n",
    "\n",
    "$f_Y(y) = \\frac{1}{2\\sqrt{y}}(f_X(\\sqrt{y})+f_X(-\\sqrt{y}) )$ for $y \\geq 0$\n",
    "\n",
    "$\\ \\ \\ \\ =0$ elsewhere\n",
    "\n"
   ]
  },
  {
   "cell_type": "markdown",
   "metadata": {
    "id": "JMx3YFgn-g3H"
   },
   "source": [
    "---\n",
    "*$\\underline{Linear\\ functions}$*\n",
    "\n",
    "If $Y=aX+b$\n",
    "\n",
    "then\n",
    "\n",
    "$F_Y(y) = P(Y \\leq y) = P(X \\leq \\frac{y-b}{a}) = \\int_{-∞}^{\\frac{y-b}{a}} f_X(x)dx$\n",
    "\n",
    "$F_Y(y+h)-F_Y(y) = \\int_{\\frac{y-b}{a}}^{\\frac{y-b}{a}+\\frac{h}{a}} f_X(x)dx$\n",
    "\n",
    "$\\approx f_X(\\frac{y-b}{a})*h/a$ if $a > 0$\n",
    "\n",
    "and\n",
    "\n",
    "$\\approx -f_X(\\frac{y-b}{a})*h/a$ if $a < 0$ (we need to reverse the limits of the integral)\n",
    "\n",
    "Hence\n",
    "\n",
    "$f_Y(y)=\\frac{DF_Y(y)}{dy} = lim_{h→0} \\frac{F_Y(y+h)-F_Y(y)}{h} = \\frac{1}{|a|} f_X(\\frac{y-b}{a})$\n",
    "\n",
    "*$\\underline{Strictly\\ monotonic\\ functions}$*\n",
    "\n",
    "If $Y=g(X)$ is strictly monotonic, i.e. for every $Y=y$, there is a single $X=x$ such that $y=g(x)$,\n",
    "then\n",
    "\n",
    "there exists a function $g^{-1}$ such that $x = g^{-1}(y)$\n",
    "\n",
    "Then we can use the above derivation to get\n",
    "\n",
    "$f_Y(y) = f_X(g^{-1}(y))|\\frac{dg^{-1}(y)}{dy}|$"
   ]
  },
  {
   "cell_type": "markdown",
   "metadata": {
    "id": "bf5thbWKCD0D"
   },
   "source": [
    "*Example*\n",
    "\n",
    "If $X\\ \\ \\sim\\ \\ N(\\mu, \\sigma)$\n",
    "\n",
    "and $Y = aX + b$\n",
    "\n",
    "then,\n",
    "\n",
    "$f_Y(y) = \\frac{1}{a} \\frac{1}{\\sqrt{2\\pi}\\sigma} e^{-\\frac{(\\frac{(y-b)}{a}-\\mu)^2}{2\\sigma^2}} = \\frac{1}{\\sqrt{2\\pi}a\\sigma} e^{-\\frac{(y -a\\mu-b)^2}{a^2\\sigma^2}}$\n",
    "\n",
    "Hence $Y$ is Normal with mean $a\\mu+b$ and standard deviation $a\\sigma$\n",
    "\n",
    "\n"
   ]
  },
  {
   "cell_type": "markdown",
   "metadata": {
    "id": "0aGj84C7Gd9d"
   },
   "source": [
    "---\n",
    "**Q1**\n",
    "\n",
    "Problem 1 . If X is a random variable that is uniformly distributed between - 1 and 1. find the PDF of $\\sqrt{|X|}$ and the PDF of $-ln(|X|)$."
   ]
  },
  {
   "cell_type": "markdown",
   "metadata": {
    "id": "nNv6YcMgGuvN"
   },
   "source": [
    "Ans:\n",
    "\n",
    "We're given that $X$ is a uniformly distributed random variable between -1 and 1, i.e., the PDF of $X$ is given by\n",
    "\n",
    "$\n",
    "\\displaystyle\n",
    "f_{X}(x)\n",
    "= \\begin{cases}\n",
    "\\frac{1}{2} & \\text{if } x\\in [-1,1] \\\\\n",
    "0 & \\text{otherwise}\n",
    "\\end{cases}\n",
    "$\n",
    "\n",
    "The CDF of $X$ is given by, for $x\\in [-1,1]$ as\n",
    "\n",
    "$\n",
    "\\displaystyle\n",
    "\\implies\n",
    "F_{X}(x)\n",
    "= P[X\\leq x]\n",
    "= \\int_{-1}^{x}f_{X}(t)dt\n",
    "= \\int_{-1}^{x}\\frac{1}{2}dt\n",
    "= \\frac{t}{2}\\bigg|_{-1}^{x}\n",
    "= \\frac{x+1}{2}\n",
    "$\n",
    "\n",
    "$\n",
    "\\displaystyle\n",
    "F_{X}(x)\n",
    "= \\begin{cases}\n",
    "0 & \\text{if } x<-1 \\\\\n",
    "\\frac{x+1}{2} & \\text{if } x\\in [-1,1] \\\\\n",
    "1 & \\text{if } x>1\n",
    "\\end{cases}\n",
    "$\n",
    "\n",
    "To find the PDF of $Y=\\sqrt{|X|}$, we first find the CDF of $Y$.\n",
    "\n",
    "If $y < 0$, then $F_{Y}(y) = P[\\sqrt{|X|}\\leq y] = 0$\n",
    "\n",
    "If $y\\in [0,1]$, then\n",
    "\n",
    "$\n",
    "\\displaystyle\n",
    "F_{Y}(y)\n",
    "= P[Y\\leq y]\n",
    "= P[\\sqrt{|X|}\\leq y]\n",
    "= P[|X|\\leq y^{2}]\n",
    "= P[-y^{2}\\leq X\\leq y^{2}]\n",
    "= F_{X}(y^{2})-F_{X}(-y^{2})\n",
    "= \\int_{-y^{2}}^{y^{2}}f_{X}(x)dx\n",
    "$\n",
    "\n",
    "$\n",
    "\\displaystyle\n",
    "\\implies\n",
    "F_{Y}(y)\n",
    "= \\int_{-y^{2}}^{y^{2}}\\frac{1}{2}dx\n",
    "= \\frac{x}{2}\\bigg|_{-y^{2}}^{y^{2}}\n",
    "= \\frac{y^{2}+y^{2}}{2}\n",
    "= y^{2}\n",
    "$\n",
    "\n",
    "$\n",
    "\\displaystyle\n",
    "\\implies\n",
    "F_{Y}(y)\n",
    "= \\begin{cases}\n",
    "0 & \\text{if } y<0 \\\\\n",
    "y^{2} & \\text{if } y\\in [0,1] \\\\\n",
    "1 & \\text{if } y>1\n",
    "\\end{cases}\n",
    "$\n",
    "\n",
    "Hence, the PDF of $Y$ is given by\n",
    "\n",
    "$\n",
    "\\displaystyle\n",
    "f_{Y}(y)\n",
    "= \\frac{dF_{Y}(y)}{dy}\n",
    "= \\begin{cases}\n",
    "0 & \\text{if } y<0 \\\\\n",
    "\\frac{d}{dy}(y^{2}) & \\text{if } y\\in [0,1] \\\\\n",
    "0 & \\text{if } y>1\n",
    "\\end{cases}\n",
    "\\implies\n",
    "\\boxed{\n",
    "f_{\\sqrt{|X|}}(x)\n",
    "= \\begin{cases}\n",
    "2x & \\text{if } x\\in [0,1] \\\\\n",
    "0 & \\text{otherwise}\n",
    "\\end{cases}\n",
    "}\n",
    "$\n",
    "\n",
    "For $Z = -\\ln{(X)}$, we first find the CDF of $Z$,\n",
    "\n",
    "$\n",
    "\\displaystyle\n",
    "F_{Z}(z)\n",
    "= P[Z\\leq z]\n",
    "= P[-\\ln{(X)}\\leq z]\n",
    "= P[\\ln{(X)}\\geq -z]\n",
    "= P[X\\geq e^{-z}]\n",
    "= 1-P[X<e^{-z}]\n",
    "= 1-F_{X}(e^{-z})\n",
    "$\n",
    "\n",
    "where we've used the property that $\\ln()$ is a strictly increasing function.\n",
    "\n",
    "$\n",
    "\\displaystyle\n",
    "\\implies\n",
    "F_{Z}(z)\n",
    "= \\begin{cases}\n",
    "0 & \\text{if } z<0 \\\\\n",
    "\\frac{1-e^{-z}}{2} & \\text{if } z\\geq 0\n",
    "\\end{cases}\n",
    "$\n",
    "\n",
    "Hence, the PDF of $Z$ is given by\n",
    "\n",
    "$\n",
    "\\displaystyle\n",
    "f_{Z}(z)\n",
    "= \\frac{dF_{Z}(z)}{dz}\n",
    "= \\begin{cases}\n",
    "0 & \\text{if } z<0 \\\\\n",
    "\\frac{d}{dz}\\left(\\frac{1-e^{-z}}{2}\\right) & \\text{if } z\\geq 0\n",
    "\\end{cases}\n",
    "= \\begin{cases}\n",
    "0 & \\text{if } z<0 \\\\\n",
    "\\frac{1}{2}e^{-z} & \\text{if } z\\geq 0\n",
    "\\end{cases}\n",
    "\\implies\n",
    "\\boxed{\n",
    "f_{-\\ln{(X)}}(z)\n",
    "= \\begin{cases}\n",
    "0 & \\text{if } z<0 \\\\\n",
    "\\frac{1}{2}e^{-z} & \\text{if } z\\geq 0\n",
    "\\end{cases}\n",
    "}\n",
    "$\n"
   ]
  },
  {
   "cell_type": "markdown",
   "metadata": {
    "id": "yVow7c7Hj-RA"
   },
   "source": [
    "---\n",
    "Complex distributions can be calculated from functions of simpler distributions, and hence can provide a way for generating samples for these.\n",
    "\n",
    "The exponential can be generated as follows:"
   ]
  },
  {
   "cell_type": "code",
   "execution_count": null,
   "metadata": {
    "id": "_6EPo27Xh--V"
   },
   "outputs": [],
   "source": [
    "import numpy as np\n",
    "import matplotlib.pyplot as plt"
   ]
  },
  {
   "cell_type": "code",
   "execution_count": null,
   "metadata": {
    "id": "owWITTVxiE1t"
   },
   "outputs": [],
   "source": [
    "rng = np.random.default_rng(100)"
   ]
  },
  {
   "cell_type": "code",
   "execution_count": null,
   "metadata": {
    "colab": {
     "base_uri": "https://localhost:8080/",
     "height": 430
    },
    "id": "AVLmbhc-a2Ge",
    "outputId": "02f37771-cb99-4c6a-83ab-825804221d52"
   },
   "outputs": [
    {
     "data": {
      "image/png": "[encoded data removed]",
      "text/plain": [
       "<Figure size 640x480 with 1 Axes>"
      ]
     },
     "metadata": {},
     "output_type": "display_data"
    }
   ],
   "source": [
    "nSamples = 1000\n",
    "#generate uniform random between -1 to 1\n",
    "X_D = 2*rng.random(nSamples)-1.0\n",
    "\n",
    "#generate exponential by taking natural log\n",
    "Y_D = -np.log(np.abs(X_D))\n",
    "\n",
    "#get histogram\n",
    "Y_D_Hist,_ = np.histogram(Y_D,20,(0,20))\n",
    "\n",
    "#compare with exponential of numpy\n",
    "E_D = rng.exponential(1.0,nSamples)\n",
    "E_D_Hist,_ = np.histogram(E_D,20,(0,20))\n",
    "\n",
    "plt.plot(Y_D_Hist)\n",
    "plt.plot(E_D_Hist)\n",
    "plt.legend(['Derived_From_Uniform','Numpy Exponential'])\n",
    "plt.show()"
   ]
  },
  {
   "cell_type": "markdown",
   "metadata": {
    "id": "kLO7b2tH0U_A"
   },
   "source": [
    "---\n",
    "**Q2**\n",
    "Let $U,V$ be zero mean, unit variance, Normal random variables.\n",
    "\n",
    "Show that their ratio: $X=U/V$ has pdf $f_X(x) = \\frac{1}{\\pi(1+x^2)}$. This distribution is called the Cauchy distribution."
   ]
  },
  {
   "cell_type": "markdown",
   "metadata": {
    "id": "bzfjgruk02HK"
   },
   "source": [
    "Ans:\n",
    "\n",
    "We have that $U, V \\sim \\mathcal{N}(0, 1)$ and $X = U/V$ and we need to show that $f_X(x) = \\frac{1}{\\pi(1+x^2)}$.\n",
    "\n",
    "$\n",
    "\\displaystyle\n",
    "f_U(u) = \\frac{1}{\\sqrt{2\\pi}} e^{-\\frac{1}{2} u^2}\n",
    ", \\quad\n",
    "f_V(v) = \\frac{1}{\\sqrt{2\\pi}} e^{-\\frac{1}{2} v^2}\n",
    "$\n"
   ]
  },
  {
   "cell_type": "markdown",
   "metadata": {
    "id": "8JoqiIYlGZG7"
   },
   "source": [
    "---\n",
    "**Variance of sum of RV**\n",
    "\n",
    "\n",
    "Let $X=X_1+X_2$\n",
    "\n",
    "$EX = EX_1 + EX_2$\n",
    "\n",
    "$EX^2 = EX_1^2 + EX_2^2+2EX_1X_2$\n",
    "\n",
    "$Var(X) = EX^2 - (EX)^2 = Var(X_1)+Var(X_2) + 2(EX_1X_2 = EX_1EX_2) = Var(X_1) + Var(X_2) + 2Cov(X_1,X_2)$\n",
    "\n",
    "*$\\underline{Law\\ of\\ Iterated\\ Expectation}$*\n",
    "\n",
    "\n",
    "$EX = \\int_x f_X(x)dx = \\int_x \\int_y f_{X|Y}(x)f_Y(y)dydx$\n",
    "\n",
    "By changing order of integration,\n",
    "\n",
    "$\\ \\ \\ =\\int_y f_Y(y) \\int_x f_{X|y}(x)dx dy = \\int_y f_Y(y) E_{X|Y} (X) = E_Y E_{X|Y} (X)$ also written as $E E[X|Y]$\n",
    "\n",
    "\n"
   ]
  },
  {
   "cell_type": "markdown",
   "metadata": {
    "id": "3VXmlwhqD5EX"
   },
   "source": [
    "---\n",
    "**Transforms of RV**\n",
    "\n",
    "$M_X(s) = E(e^{sX}) = \\int_{-∞}^∞ e^{sX}f_X(x)dx = \\int_{-∞}^∞ (1+sX + \\frac{s^2X^2}{2!}+...)f_X(x)dx= 1+sEX + \\frac{s^2}{2}EX^2+...$\n",
    "\n",
    "Hence to find the $k^{th}$ raw moment,\n",
    "we just need to find\n",
    "\n",
    "$EX^k = \\frac{d^kM_X(s)}{ds^k}|_{s=0}$\n",
    "\n",
    "*$\\underline{Examples}$*\n",
    "\n",
    "*1) Uniform*\n",
    "\n",
    "$X\\ \\ \\tilde \\ \\ Unif(a,b)$\n",
    "\n",
    "$f_X(x)=\\frac{1}{b-a}$ for $a \\le X \\le b$ and 0 otherwise\n",
    "\n",
    "$M_x(s) = \\int_a^be^{sx}\\frac{1}{b-a}dx = \\frac{e^{sb}-e^{sa}}{s(b-a)} = 1 + \\frac{s(b+a)}{2}+ \\frac{s^2(b^2+ab+a^2)}{6} + O(s^3)$\n",
    "\n",
    "\n",
    "We can then see that\n",
    "\n",
    "$EX = \\frac{dM_x(s)}{ds}|_{s=0} = \\frac{b+a}{2}$\n",
    "\n",
    "$EX^2 = \\frac{d^2M_x(s)}{ds^2}|_{s=0}= \\frac{b^2+ab+a^2}{3}$\n",
    "\n",
    "$Var(X) = EX^2-(EX)^2=\\frac{(b-a)^2}{12}$\n",
    "\n",
    "*2) Exponential*\n",
    "\n",
    "$f_X(x) = \\lambda e^{-\\lambda x}$ for $X \\ge 0$ and 0 otherwise.\n",
    "\n",
    "$M_X(s) = \\int_0^∞ e^{(s-\\lambda)x}dx = \\frac{-\\lambda}{s-\\lambda}$\n",
    "\n",
    "$EX = \\frac{dM}{ds}|_{s=0} = \\frac{\\lambda}{(s-\\lambda)^2}|_{s=0}=\\lambda$\n",
    "\n",
    "$EX^2 = \\frac{d^2M}{ds^2}|_{s=0}= \\frac{-2\\lambda}{(s-\\lambda)^3}|_{s=0} = \\frac{2}{\\lambda^2} $\n",
    "\n",
    "$Var(X) = EX^2 - (EX)^2 = \\frac{1}{\\lambda^2}$\n",
    "\n",
    "*3) Gaussian*\n",
    "\n",
    "$f_X(x) = \\frac{1}{\\sqrt{2\\pi}\\sigma}e^{-\\frac{(x-\\mu)^2}{2\\sigma^2}}$\n",
    "\n",
    "$M_X(s) = \\frac{1}{\\sqrt{2\\pi}\\sigma}\\int_{-∞}^∞ e^{sx}{-\\frac{(x-\\mu)^2}{2\\sigma^2}}dx$\n",
    "\n",
    "One trick to handle this is to complete the square of the exponent.\n",
    "\n",
    "i.e.\n",
    "\n",
    "$sx  -\\frac{(x-\\mu)^2}{2\\sigma^2} = \\mu s + \\frac{s^2\\sigma^2}{2} -\\frac{(x-\\mu - s\\sigma^2)^2}{2\\sigma^2}$\n",
    "\n",
    "Therefore\n",
    "\n",
    "$M_X(s) = e^{\\mu s + \\frac{s^2\\sigma^2}{2}} \\int_{-∞}^{∞} f_Z(x)dx$\n",
    "\n",
    "Where $Z$ is Gaussian with pdf $N(\\mu + s\\sigma^2,\\sigma)$ and hence integrates to 1.\n",
    "\n",
    "Therefore\n",
    "\n",
    "$M_X(s) = e^{\\mu s + \\frac{s^2\\sigma^2}{2}} $\n",
    "\n",
    "We can then check that mean and variance come out to be as expected.\n",
    "\n",
    "\n",
    "\n"
   ]
  },
  {
   "cell_type": "markdown",
   "metadata": {
    "id": "C6_qZdZrNyQg"
   },
   "source": [
    "*$\\underline{Connection\\ with\\ Laplace\\ Transform}$*\n",
    "\n",
    "Note that the Laplace transform of a function $f(x)$ is\n",
    "\n",
    "$F(s) = ℒ(f(x)) = \\int_{-∞}^∞ e^{-sx}f(x)dx  $\n",
    "\n",
    "Hence our moment generating function is:\n",
    "\n",
    "$M_X(-s) = ℒ(f_X(x))$\n",
    "\n",
    "So we can obtain the pdf as inverse laplace transform\n",
    "\n",
    "$f_X(x) = ℒ^{-1}(M_X(-s))$\n",
    "\n",
    "From laplace theory,\n",
    "\n",
    "If $F(s) = ℒ(f(x))$ and $G(s) = ℒ(g(x))$ then $H(s) = F(s)G(s) = ℒ(f(x)*g(x))$ where $*$ is the convolution operator defined as:\n",
    "\n",
    "$h(x) = f(x)*g(x) = \\int f(u)g(x-u)du$"
   ]
  },
  {
   "cell_type": "markdown",
   "metadata": {
    "id": "2iH6vY6zM2FT"
   },
   "source": [
    "*$\\underline{Sums\\ of\\ Indpendent\\ rvs}$*\n",
    "\n",
    "\n",
    "Let $Z = X + Y$ with X,Y independent (and not necessarily identical)\n",
    "\n",
    "Then $M_Z(s) = Ee^{sZ} = Ee^{s(X+Y)} = Ee^{sX}e^{sY} = Ee^{sX}Ee^{sY} = M_X(s)M_Y(s)$ the product of the two moment generating functions.\n",
    "\n",
    "Hence $f_Z(z) = f_X(z)*f_Y(z) = \\int_{-\\infty}^∞ f_X(x)f_Y(z-x)dx$\n",
    "\n",
    "\n",
    "\n",
    "This can be extended to find sum of any number of independent random variabls as:\n",
    "\n",
    "Let $Z=X_1+X_2+...X_n$ be a sum of independent RVs (not necessarily identical)\n",
    "\n",
    "$M_Z(s) = ∏_1^n M_{X_i}(s)$\n",
    "\n",
    "\n",
    "*Example*\n",
    "\n",
    "$X_1, X_2, ...X_n$ be independent and indentically distributed as Gaussian $N(\\mu,\\sigma)$.\n",
    "\n",
    "Then let $Z = \\sum_{i=1}^n X_i$\n",
    "\n",
    "$M_Z(s) = e^{n\\mu s + \\frac{ns^2\\sigma^2}{2}}$\n",
    "\n",
    "We can see from above that $Z$ is Gaussian $N(n\\mu,\\sqrt{n}\\sigma)$\n",
    "\n",
    "*$\\underline{Sum\\ of\\ random\\ number\\ of\\ independent\\ rvs}$*\n",
    "\n",
    "Let $N$ be a discrete rv $\\in \\{1,2,....\\}$\n",
    "\n",
    "Let $Z = \\sum_{i=1}^N X_i$ where $X_i$ are independent identical rv.\n",
    "\n",
    "Then $M_Z(s) = E_Z e^{sX} = E_N E_{Z|N} e^{s\\sum_{i=1}^N X_i}$ by law of iterated expectation."
   ]
  },
  {
   "cell_type": "markdown",
   "metadata": {
    "id": "7_8yaOEy2XB9"
   },
   "source": [
    "---\n",
    "**Q3**\n",
    "\n",
    "Problem 12. The random variables X, Y. and Z are independent and uniformly distributed between zero and one. Find the PDF of X + Y + Z.\n"
   ]
  },
  {
   "cell_type": "markdown",
   "metadata": {
    "id": "Kng5Y2v42nQH"
   },
   "source": [
    "Ans:\n",
    "\n",
    "\n",
    "\n",
    "\n"
   ]
  },
  {
   "cell_type": "code",
   "execution_count": null,
   "metadata": {
    "colab": {
     "base_uri": "https://localhost:8080/",
     "height": 56
    },
    "id": "kQSWMvGpmP1G",
    "outputId": "1360e2b8-1c0e-42db-cb3d-f3e7818b40e1"
   },
   "outputs": [
    {
     "data": {
      "text/latex": [
       "$\\displaystyle \\frac{x^{2} \\theta\\left(x\\right)}{2} - \\frac{\\left(x - 3\\right)^{2} \\theta\\left(x - 3\\right)}{2} + \\frac{3 \\left(x - 2\\right)^{2} \\theta\\left(x - 2\\right)}{2} - \\frac{3 \\left(x - 1\\right)^{2} \\theta\\left(x - 1\\right)}{2}$"
      ],
      "text/plain": [
       "x**2*Heaviside(x)/2 - (x - 3)**2*Heaviside(x - 3)/2 + 3*(x - 2)**2*Heaviside(x - 2)/2 - 3*(x - 1)**2*Heaviside(x - 1)/2"
      ]
     },
     "execution_count": 15,
     "metadata": {},
     "output_type": "execute_result"
    }
   ],
   "source": [
    "#Trying Sympy\n",
    "import sympy\n",
    "from sympy import inverse_laplace_transform, exp, Symbol\n",
    "from sympy.abc import s, x,z\n"
   ]
  },
  {
   "cell_type": "markdown",
   "metadata": {
    "id": "ESNUYV5VrvNw"
   },
   "source": []
  },
  {
   "cell_type": "markdown",
   "metadata": {
    "id": "ZV2XGbC2uC4W"
   },
   "source": [
    "---\n",
    "**Q4**\n",
    "\n",
    "Find the pdf of Z=X+Y when X, Y are independent exponential rv with parameter $\\lambda$\n"
   ]
  },
  {
   "cell_type": "markdown",
   "metadata": {
    "id": "dIAvI1kGuRjA"
   },
   "source": [
    "Ans:\n",
    "\n"
   ]
  },
  {
   "cell_type": "code",
   "execution_count": null,
   "metadata": {
    "colab": {
     "base_uri": "https://localhost:8080/",
     "height": 39
    },
    "id": "PaiEDrhKtUV2",
    "outputId": "d098ac90-d8b1-41a9-acb1-27a146c27ffd"
   },
   "outputs": [
    {
     "data": {
      "text/latex": [
       "$\\displaystyle a^{2} z e^{- a z} \\theta\\left(z\\right)$"
      ],
      "text/plain": [
       "a**2*z*exp(-a*z)*Heaviside(z)"
      ]
     },
     "execution_count": 14,
     "metadata": {},
     "output_type": "execute_result"
    }
   ],
   "source": [
    "#your code"
   ]
  },
  {
   "cell_type": "markdown",
   "metadata": {
    "id": "gpDTchG1ux-J"
   },
   "source": [
    "\n",
    "Note that $\\theta(z)$ is the heaviside\n",
    "step function $\\theta(z) =1 $ for $z > 0$; $=1/2$ for $z=0$; and 0 elsewhere.\n",
    "\n",
    "\n",
    "hence $f_Z(z) = \\lambda^2 z e^{-\\lambda z}$ for $z \\geq 0$ and 0 elsewhere."
   ]
  },
  {
   "cell_type": "markdown",
   "metadata": {
    "id": "oF2NVYmWGVER"
   },
   "source": [
    "---\n",
    "**Q5**\n",
    "\n",
    "Problem 14. Competing exponentials. The lifetimes of two light bulbs are modeled as independent and exponential random variables X and Y, with parameters $\\lambda$ and $\\mu$, respectively. The time at which a light bulb first burns out is\n",
    "$Z= min\\ \\{X,Y\\}$.\n",
    "Show that Z is an exponential random variable with parameter $\\lambda + \\mu$ ."
   ]
  },
  {
   "cell_type": "markdown",
   "metadata": {
    "id": "6xhfBQisGhUr"
   },
   "source": [
    "Ans:\n",
    "\n"
   ]
  },
  {
   "cell_type": "markdown",
   "metadata": {
    "id": "btxDT5S2H5XG"
   },
   "source": [
    "---\n",
    "**Q6**\n",
    "\n",
    "Problem 17. Suppose that X and Y are random variables with the same variance. Show that X - Y and X + Y are uncorrelated."
   ]
  },
  {
   "cell_type": "markdown",
   "metadata": {
    "id": "FgBvY5r6H-M7"
   },
   "source": [
    "Ans:\n",
    "\n",
    "Given that $X$ and $Y$ are random variables with $\\operatorname{Var}(X) = \\operatorname{Var}(Y)$, we have\n",
    "\n",
    "\\begin{align*}\n",
    "\\operatorname{Cov}(X+Y, X-Y)\n",
    "&\n",
    "= E[(X+Y)(X-Y)] - E[X+Y] E[X-Y]\n",
    "\\\\ &\n",
    "= E[X^2-Y^2] - (E[X]+E[Y])(E[X]-E[Y])\n",
    "\\\\ &\n",
    "= E[X^2]-E[Y^2] - ((E[X])^2 - (E[Y])^2)\n",
    "\\\\ &\n",
    "= (E[X^2] - (E[X])^2) - (E[Y^2] - (E[Y])^2)\n",
    "\\\\ &\n",
    "= \\operatorname{Var}(X) - \\operatorname{Var}(Y)\n",
    "= 0\n",
    "\\end{align*}\n",
    "\n",
    "As a result, the correlation coefficient between $X+Y$ and $X-Y$ is zero.\n",
    "Hence, $X+Y$ and $X-Y$ are uncorrelated.\n"
   ]
  },
  {
   "cell_type": "markdown",
   "metadata": {
    "id": "LD7-mkmWIZ0X"
   },
   "source": [
    "---\n",
    "**Q7**\n",
    "Problem 22. Consider a gambler who at each gamble either wins or loses his bet with probabilities $p$ and $1-p$ independent of earlier gambles.\n",
    "\n",
    "When $p > 1/2$, a popular\n",
    "gambling system, known as the Kelly strategy, is to always bet the fraction $2p - 1$ of the current fortune. Compute the expected fortune after $n$ gambles, starting with $x$ units and employing the Kelly strategy."
   ]
  },
  {
   "cell_type": "markdown",
   "metadata": {
    "id": "C8gsx9wtPk4u"
   },
   "source": [
    "Ans:\n",
    "\n"
   ]
  },
  {
   "cell_type": "markdown",
   "metadata": {
    "id": "UTBVzEHyQfCt"
   },
   "source": [
    "---\n",
    "**Q8**\n",
    "\n",
    "Problem 24. A retired professor comes to the office at a time which is uniformly distributed between 9 a.m. and 1 p.m., performs a single task, and leaves when the task is completed. The duration of the task is exponentially distributed with parameter $\\lambda(y) = 1/(5 - y)$, where y is the length of the time interval between 9 a.m. and the time of his arrival.\n",
    "\n",
    "a) What is the expected amount of time that the professor devotes to the task?\n",
    "\n",
    "b) What is the expected time at which the task is completed?\n",
    "\n",
    "If a student comes to meet the professor at a time that is uniformly distributed between 9am to 5pm, find\n",
    "\n",
    "c) Probability that the student comes before the professor\n",
    "\n",
    "d) (Harder) Probability student comes after professor leaves. (Will need numerical integration - for which we can use scipy)\n"
   ]
  },
  {
   "cell_type": "markdown",
   "metadata": {
    "id": "d0vROuMuWwi3"
   },
   "source": [
    "Ans 8:\n",
    "\n",
    "\n",
    "(you can use scipy for integration)\n"
   ]
  },
  {
   "cell_type": "code",
   "execution_count": null,
   "metadata": {
    "id": "tEgAEeyzsZ24"
   },
   "outputs": [],
   "source": [
    "import scipy"
   ]
  },
  {
   "cell_type": "code",
   "execution_count": null,
   "metadata": {
    "colab": {
     "base_uri": "https://localhost:8080/"
    },
    "id": "yll9o8bwsuhu",
    "outputId": "5211ae05-f467-442d-c363-bf531be8cb06"
   },
   "outputs": [
    {
     "name": "stdout",
     "output_type": "stream",
     "text": [
      "0.4299500980755558\n"
     ]
    }
   ],
   "source": []
  },
  {
   "cell_type": "markdown",
   "metadata": {
    "id": "c3L7eo7LtlsE"
   },
   "source": []
  },
  {
   "cell_type": "markdown",
   "metadata": {
    "id": "hBM1jLVedURc"
   },
   "source": [
    "---\n",
    "**Q9**\n",
    "\n",
    "Let $p_i$ be the chance of scoring penalty by $i^{th}$ player where $i=1,2,3$ and it is independent of other players\n",
    "\n",
    "Let $X$ be the rv for number of penalties scored. So $X \\in {0,1,2,3}$\n",
    "\n",
    "Find pmf of X by finding is transform first and then inverting it."
   ]
  },
  {
   "cell_type": "markdown",
   "metadata": {
    "id": "jIKf-w6hds7y"
   },
   "source": [
    "Ans:\n",
    "\n",
    "We're given independent probabilities $p_i$ of scoring a penalty by the $i^{th}$ player, with $i=1,2,3$.\n",
    "\n",
    "With $X \\in \\{0,1,2,3\\}$ as the random variable for the number of penalties scored, we can construct the probability generating function (pgf) of $X$ as\n",
    "\n",
    "\\begin{align*}\n",
    "G_X(t)\n",
    "&\n",
    "= \\operatorname{E}[t^X]\n",
    "= \\sum_{x=0}^3 t^x P[X=x]\n",
    "\\\\ &\n",
    "= P[X=0] + t P[X=1] + t^2 P[X=2] + t^3 P[X=3]\n",
    "\\end{align*}\n",
    "\n",
    "Given that $X$ is the sum of the penalties scored by the three players, and that the probabilities of scoring a penalty are independent, we have\n",
    "\n",
    "\\begin{align*}\n",
    "G_X(t)\n",
    "&\n",
    "= (1-p_1)(1-p_2)(1-p_3) + t(p_1(1-p_2)(1-p_3) + (1-p_1)p_2(1-p_3) + (1-p_1)(1-p_2)p_3)\n",
    "\\\\ &\n",
    "\\quad + t^2(p_1p_2(1-p_3) + p_1(1-p_2)p_3 + (1-p_1)p_2p_3) + t^3 p_1p_2p_3\n",
    "\\end{align*}\n",
    "\n",
    "With this, we have\n",
    "\n",
    "\\begin{equation*}\n",
    "P[X=k]\n",
    "= \\frac{1}{k!} \\frac{d^k G_X(t)}{dt^k} \\bigg|_{t=0}\n",
    "\\end{equation*}\n",
    "\n",
    "for $k \\in \\{0,1,2,3\\}$.\n",
    "\n",
    "\\begin{align*}\n",
    "\\implies\n",
    "P[X=0]\n",
    "&\n",
    "= (1-p_1)(1-p_2)(1-p_3)\n",
    "\\\\\n",
    "\\implies\n",
    "P[X=1]\n",
    "&\n",
    "= p_1(1-p_2)(1-p_3) + (1-p_1)p_2(1-p_3) + (1-p_1)(1-p_2)p_3\n",
    "\\\\\n",
    "\\implies\n",
    "P[X=2]\n",
    "&\n",
    "= p_1p_2(1-p_3) + p_1(1-p_2)p_3 + (1-p_1)p_2p_3\n",
    "\\\\\n",
    "\\implies\n",
    "P[X=3]\n",
    "&\n",
    "= p_1p_2p_3\n",
    "\\end{align*}\n",
    "\n",
    "Hence, the pmf of $X$ is given by\n",
    "\n",
    "\\begin{equation*}\n",
    "\\boxed{\n",
    "f_X(x)\n",
    "= \\begin{cases}\n",
    "(1-p_1)(1-p_2)(1-p_3) & \\text{if } x=0\n",
    "\\\\\n",
    "p_1(1-p_2)(1-p_3) + (1-p_1)p_2(1-p_3) + (1-p_1)(1-p_2)p_3 & \\text{if } x=1\n",
    "\\\\\n",
    "p_1p_2(1-p_3) + p_1(1-p_2)p_3 + (1-p_1)p_2p_3 & \\text{if } x=2\n",
    "\\\\\n",
    "p_1p_2p_3 & \\text{if } x=3\n",
    "\\\\\n",
    "0 & \\text{otherwise}\n",
    "\\end{cases}\n",
    "}\n",
    "\\end{equation*}\n",
    "\n",
    "We can indeed verify that this is a valid probability mass function by checking that the probabilities sum to 1,\n",
    "\n",
    "\\begin{align*}\n",
    "\\sum_{x=0}^3 f_X(x)\n",
    "&\n",
    "= (1-p_1)(1-p_2)(1-p_3) + p_1(1-p_2)(1-p_3) + (1-p_1)p_2(1-p_3) + (1-p_1)(1-p_2)p_3\n",
    "\\\\ &\n",
    "\\qquad + p_1p_2(1-p_3) + p_1(1-p_2)p_3 + (1-p_1)p_2p_3 + p_1p_2p_3\n",
    "\\\\ &\n",
    "= (1-p_2)(1-p_3) + (1-p_1)p_2(1-p_3) + (1-p_1)(1-p_2)p_3\n",
    "\\\\ &\n",
    "\\qquad + p_1p_2(1-p_3) + p_1(1-p_2)p_3 + (1-p_1)p_2p_3 + p_1p_2p_3\n",
    "\\\\ &\n",
    "= 1 - p_2 - p_3 + p_2p_3 + p_2 - p_1p_2 - p_2p_3 + p_1p_2p_3 + p_3 - p_1p_3 - p_2p_3 + p_1p_2p_3\n",
    "\\\\ &\n",
    "\\qquad + p_1p_2 - p_1p_2p_3 + p_1p_3 - p_1p_2p_3 + p_2p_3 - p_1p_2p_3 + p_1p_2p_3\n",
    "\\\\ &\n",
    "= 1\n",
    "\\end{align*}\n",
    "\n",
    "as expected.\n"
   ]
  },
  {
   "cell_type": "markdown",
   "metadata": {
    "id": "rg9HeMi3gToI"
   },
   "source": [
    "---\n",
    "**Q10**\n",
    "Problem 41. At a certain time, the number of people that enter an elevator is a Poisson random variable with parameter $\\lambda$. The weight of each person is independent of every other person's weight, and is uniformly distributed between 100 and 200 lbs. Let $Y_i$ be the fraction of 100 by which the $i^{th}$ person exceeds 100 lbs, e.g., if the 7th person weighs 175 lbs., then Y_7=0.75. Let Y be the sum of the $Y_i$.\n",
    "\n",
    "(a) Find the transform associated with Y.\n",
    "\n",
    "(b) Use the transform to compute the expected value of Y.\n",
    "\n",
    "(c) Verify your answer to part (b) by using the law of iterated expectations.\n",
    "\n"
   ]
  },
  {
   "cell_type": "markdown",
   "metadata": {
    "id": "kEmdA6aRgv_7"
   },
   "source": [
    "Ans:\n",
    "\n"
   ]
  },
  {
   "cell_type": "markdown",
   "metadata": {
    "id": "w_Z8im35KTUY"
   },
   "source": [
    "*$\\underline{Law\\ of\\ Total\\ Variance}$*\n",
    "\n",
    "Just like iterated expectation law allows us to use conditional densities to more easily calculate means, we can also do something similar for Variance\n",
    "\n",
    "Let $X,Y$ be two rvs which might not be independant.\n",
    "\n",
    "Let $Z = E_{X|Y}X = $$\\int_x f_{X|Y=y}(x)dx$. Note that $Z$ is a function of $y$ and is hence a r.v. with density determined by density of $Y$\n",
    "\n",
    "$E_YZ = \\int_y f_Y(y) Z dy = \\int_y f_Y(y)\\int_x f_{X|Y=y}(x)X dx dy = \\int_x X\\int_y f_Y(y)f_{X|Y=y}(x)dy dx = \\int_x Xf_X(x)dx = E_XX$\n",
    "\n",
    "Note the above is nothing but law of iterated expectation: $E_XX = E_YE_{X|Y}X$\n",
    "\n",
    "We can now calculate variance also using conditional statistics.\n",
    "\n",
    "$Var(X) = E_XX^2 - (E_XX)^2 = E_XX^2 - E_YZ^2 + E_YZ^2 - (E_XX)^2$\n",
    "\n",
    "Using the fact from above that $E_YZ = E_XX$, and we can replace the last term to get (and writing the first term as iterated expectation, we get:\n",
    "\n",
    "$Var_X(X) = E_YE_{X|Y}X^2 - E_YZ^2 + E_YZ^2 - (E_YZ)^2 = E_Y(E_{X|Y}X^2 - (E_{X|Y}X)^2) + Var_Y(E_{X|Y}X)$\n",
    "\n",
    "\n",
    "Hence we can write the above as\n",
    "\n",
    "$Var_X(X) = E_Y(Var_{X|Y}(X)) + Var_Y(E_{X|Y}X)$\n"
   ]
  },
  {
   "cell_type": "markdown",
   "metadata": {
    "id": "hZXAwxxdDJZZ"
   },
   "source": [
    "**Concentration Inequalities**\n",
    "\n",
    "These essentially allow one to obtain bounds on tail probabilities\n",
    "\n",
    "---\n",
    "*$\\underline{Markov\\ Inequality}$*\n",
    "\n",
    "If $X$ is a non-negative r.v., then\n",
    "\n",
    "$P(X \\geq a) \\leq \\frac{EX}{a}$ for $a > 0$\n",
    "\n",
    "We can see this by:\n",
    "\n",
    "$aP(X \\geq a) = \\int_a^∞ af_x(x)dx$\n",
    "\n",
    "$EX = \\int_0^∞ xf_X(x)dx = \\int_0^a xf_X(x)dx + \\int_a^∞ xf_X(x)dx$\n",
    "\n",
    "Hence $EX - aP(X\\geq a) = \\int_0^a xf_X(x)dx + \\int_a^∞ (x-a)f_X(x)dx \\geq 0$"
   ]
  },
  {
   "cell_type": "markdown",
   "metadata": {
    "id": "mCPEp8-h_HuS"
   },
   "source": [
    "---\n",
    "Example:\n",
    "\n",
    "Let $X_i$ be 1 if the $i^{th}$ person says they will vote for BJP in the national elections 2024 and 0 otherwise. Let the sequence { $X_i$} be independent and identical bernoulli rvs $\\sim\\ Ber(p)$\n",
    "\n",
    "Let $B_n = \\frac{\\sum_{i=1}^n X_i}{n}$ estimates the chance of BJP winning based on a sampling of $n$ people.\n",
    "\n",
    "We would like to know how many people to ask for their opinion inorder to get some estimate with some accuracy and confidence.\n",
    "\n",
    "\n",
    "$EB_n = EX_i = p$\n",
    "\n",
    "\n",
    "$P((B_n - p) \\geq ϵ) \\leq \\frac{p}{ϵ}$\n",
    "\n",
    "Unfortunately - we dont get any insight as to the number of samples needed from this."
   ]
  },
  {
   "cell_type": "markdown",
   "metadata": {
    "id": "6HAC9fPyEhAi"
   },
   "source": [
    "---\n",
    "*$\\underline{Chebychev\\ Inequality}$*\n",
    "\n",
    "Let $X$ be r.v. with mean $\\mu$ and variance $\\sigma^2$.\n",
    "\n",
    "Then, the chance that it is more than $k$ std. deviations from the mean is upper bounded as:\n",
    "\n",
    "\n",
    "$P(|X-\\mu| \\geq k\\sigma) \\leq \\frac{1}{k^2}$\n",
    "\n",
    "This can be seen by considering $Z = (X-\\mu)^2$ and by Markov inequality:\n",
    "\n",
    "$P(Z \\geq (k\\sigma)^2) \\leq \\frac{EZ}{(k\\sigma)^2} = \\frac{E(X-\\mu)^2}{(k\\sigma)^2} = \\frac{1}{k^2}$\n",
    "\n",
    "and $P(Z \\geq (k\\sigma)^2) = P((X-\\mu)^2 \\geq (k\\sigma)^2) = P(|X-\\mu| \\geq k\\sigma)$\n",
    "\n",
    "We can also write this (equivalently) as:\n",
    "\n",
    "$P(|X-\\mu| \\geq c) \\leq \\frac{\\sigma^2}{c^2}$"
   ]
  },
  {
   "cell_type": "markdown",
   "metadata": {
    "id": "sJWuIr0FBFLP"
   },
   "source": [
    "---\n",
    "Example continued:\n",
    "\n",
    "We know that $\\sigma_{X_i}^2 = p(1-p)$\n",
    "\n",
    "and\n",
    "\n",
    "$\\sigma_{B_n}^2 = \\frac{p(1-p)}{n}$\n",
    "\n",
    "\n",
    "From Chebychev's inequality\n",
    "\n",
    "$P(|B_n - p| \\geq ϵ) \\leq \\frac{\\sigma_{B_n}^2}{ϵ^2} = \\frac{p(1-p)}{nϵ^2} \\leq \\frac{1}{4n\\epsilon^2}$\n",
    "\n",
    "Since $p(1-p)$ achieves peak value of $1/4$ for $p=1/2$\n",
    "\n",
    "So if we want to be within $0.01$ of $p$, with $95\\%$ confidence, then\n",
    "\n",
    "$\\epsilon = 0.01$ and $\\frac{1}{4n\\epsilon^2} < 0.05$ which means:\n",
    "\n",
    " $n > 500$\n",
    "\n",
    " In other words, if you ask 500 independent people for their opinion of if they will vote for BJP, then you can say that\n",
    "\n",
    " $B_{500}-0.01 < p < B_{500}+0.01$ with 95% confidence.\n",
    "\n"
   ]
  },
  {
   "cell_type": "markdown",
   "metadata": {
    "id": "iWUCrBA85m3z"
   },
   "source": [
    "*$\\underline{Chernoff\\ Bound}$*\n",
    "\n",
    "Let X be a rv and\n",
    "\n",
    "$M_X(s) = Ee^{sX}$ and let it be finite at $s=0$,\n",
    "\n",
    "\n",
    "For $s \\geq 0$\n",
    "\n",
    "$ X \\geq a ⇔ sX \\geq sa ⇔ e^{sX} \\geq e^{sa}$\n",
    "\n",
    "Hence\n",
    "\n",
    "$P(X \\geq a) = P(e^{sX} \\geq e^{sa}) \\leq e^{-sa}Ee^{sX}$\n",
    "\n",
    "Similarly for $s < 0 $\n",
    "\n",
    "$P(X \\leq a ) \\leq e^{-sa}Ee^{sX}$\n",
    "\n",
    "\n",
    "\n",
    "\n",
    "\n",
    "\n"
   ]
  },
  {
   "cell_type": "markdown",
   "metadata": {
    "id": "BsCdNgaeUx3j"
   },
   "source": [
    "---\n",
    "Example contd. (some parts from\n",
    "\n",
    "https://sachdevasushant.github.io/courses/15s-cpsc665/notes/concentration.pdf\n",
    ")\n",
    "\n",
    "for all $s \\geq 0$ by the Chernoff bound\n",
    "\n",
    "$P(B_n - p \\leq ((1+\\delta) p)) \\leq e^{-s(1+\\delta) p)}Ee^{sB_n}$\n",
    "\n",
    "$Ee^{sB_n} = Ee^{\\frac{s}{n}\\sum_1^n X_i} = (Ee^{\\frac{s}{n}X})^n$ where $X\\ \\ \\tilde\\ \\ Ber(p)$\n",
    "\n",
    "$Ee^{sX/n} = pe^{s/n} + 1-p \\leq p(e^{s/n}-1) \\leq e^{p(e^{s/n}-1)}$\n",
    "\n",
    "Therefore. $Ee^{sB_n} \\leq e^{np(e^{s/n}-1)}$\n",
    "\n",
    "and\n",
    "\n",
    "$P(B_n - p \\leq ((1+\\delta) p)) \\leq e^{-s(1+\\delta) p)}e^{np(e^{s/n}-1)}$\n",
    "\n",
    "Above is true for all $s \\geq 0$\n",
    "\n",
    "In particular for $s/n = ln(1+\\delta)$\n",
    "\n",
    "$P((B_n - p) \\leq ((1+\\delta) p)) \\leq (\\frac{e^\\delta}{(1+\\delta)^{(1+\\delta)}})^{np}$\n",
    "\n",
    "We can show that $(1+\\delta)^{1+\\delta)} \\geq e^{\\delta + \\delta^2/3}$\n",
    "\n",
    "Hence\n",
    "\n",
    "$P((B_n - p) \\leq ((1+\\delta) p)) \\leq e^{-\\frac{\\delta^2np}{3}}$\n",
    "\n",
    "Similarly\n",
    "\n",
    "$P((B_n - p) \\geq ((1-\\delta) p)) \\leq e^{-\\frac{\\delta^2np}{2}}$\n",
    "\n",
    "Hence $P(|B_n-p| \\geq \\delta p) \\leq  e^{-\\frac{\\delta^2np}{3}} + e^{-\\frac{\\delta^2np}{2}} < 2e^{-\\frac{\\delta^2np}{3}}$ from Chernoff bound.\n",
    "\n",
    "Recall from Chebychev bound:\n",
    "\n",
    "$P(|B_n-p| \\geq \\delta p) \\leq \\frac{Var(B_n)}{(\\delta p)^2} = \\frac{1-p}{np\\delta^2 }$\n",
    "\n",
    "For example, if we know that $p$ is about 0.5 and we want to estimate it within 1% (i.e. $\\delta = 0.01$) and with a confidence exceeding 99.9%, then Chebychev bound says we need at least 10million samples, while Chernoff bounds tells that about 13.6Lakh samples is enough\n",
    "(see calculation below).\n",
    "\n",
    "\n"
   ]
  },
  {
   "cell_type": "code",
   "execution_count": null,
   "metadata": {
    "colab": {
     "base_uri": "https://localhost:8080/"
    },
    "id": "F9xCL-liSu7A",
    "outputId": "e97d2d19-3c90-44c9-af9d-15246ec621f0"
   },
   "outputs": [
    {
     "name": "stdout",
     "output_type": "stream",
     "text": [
      "From Chebychev's ineuality, n should be atleast 10000000.0\n",
      "From Chernoff bound, n should be at least 1368162.4427175745\n"
     ]
    }
   ],
   "source": [
    "q = 0.001 #(1-confidence)\n",
    "p = 0.5\n",
    "d = 0.01 #delta (accuracy)\n",
    "\n",
    "print(f\"From Chebychev's ineuality, n should be atleast {(1-p)/q/d**2/p}\")\n",
    "\n",
    "print(f\"From Chernoff bound, n should be at least {3*np.log(2/q)*3/p/d**2}\")"
   ]
  },
  {
   "cell_type": "code",
   "execution_count": null,
   "metadata": {
    "colab": {
     "base_uri": "https://localhost:8080/",
     "height": 471
    },
    "id": "kL3guzhMK5L9",
    "outputId": "4ebec008-4c29-41da-ae3e-fde90970d97b"
   },
   "outputs": [
    {
     "name": "stdout",
     "output_type": "stream",
     "text": [
      "EX = 9.994065465929562, Var(X)=20.282423928324594\n"
     ]
    },
    {
     "data": {
      "image/png": "[encoded data removed]",
      "text/plain": [
       "<Figure size 640x480 with 1 Axes>"
      ]
     },
     "metadata": {},
     "output_type": "display_data"
    }
   ],
   "source": [
    "# testing the bounds\n",
    "nSamples = 10000\n",
    "#draw samples from chisquare distribution\n",
    "#https://numpy.org/doc/stable/reference/random/generated/numpy.random.RandomState.chisquare.html\n",
    "df = 10 #Number of degrees of freedom, obtained by adding squares of 'df' std normal variables\n",
    "X_D = rng.chisquare(df,nSamples)\n",
    "\n",
    "nbins = 20\n",
    "amin=0\n",
    "amax=40\n",
    "x_axis = np.arange(amin, amax, (amax-amin)/nbins)\n",
    "#print(x_axis)\n",
    "\n",
    "X_D_Hist,_ = np.histogram(X_D,nbins,(amin,amax))\n",
    "\n",
    "#convert to pdf\n",
    "X_pdf = X_D_Hist/nSamples\n",
    "\n",
    "print(f\"EX = {np.mean(X_D)}, Var(X)={np.var(X_D)}\")\n",
    "\n",
    "plt.plot(x_axis,X_pdf)\n",
    "plt.legend(['Chisquare density'])\n",
    "plt.ylabel(\"pdf f(x)\")\n",
    "plt.xlabel(\"X\")\n",
    "plt.show()\n"
   ]
  },
  {
   "cell_type": "markdown",
   "metadata": {
    "id": "DpdX3BT_hIOP"
   },
   "source": [
    "---\n",
    "*$\\underline{Weak\\ Law\\ of\\ Large\\ Numbers}$*\n",
    "\n",
    "Let $X_1, X_2, ..., X_n$ be i.i.d with mean $\\mu$ and variance $\\sigma^2$\n",
    "\n",
    "Let $M_n=\\frac{\\sum_{i=1}^n X_i}{n}$\n",
    "\n",
    "Then $EM_n = \\mu$ and $Var(M) = \\frac{\\sigma^2}{n}$\n",
    "\n",
    "By Chebychev's inequality:\n",
    "\n",
    "So $P(|M_n - \\mu| \\geq \\epsilon ) \\leq \\frac{\\sigma^2}{n\\epsilon^2}$\n",
    "\n",
    "Hence $lim_{n→∞} P(|M_n - \\mu| \\geq \\epsilon) = 0$\n",
    "\n",
    "This is also stated $M_n$ converges to $\\mu$ in probability.\n",
    "\n",
    "*$\\underline{Convergence\\ in\\ Probability}$*\n",
    "\n",
    "Let $Y_1, Y_2, ..... Y_n$ be a sequence of r.v. and let $a$ be a real number. Then\n",
    "\n",
    "$Y_n$ converges to $a$ in probability if:\n",
    "\n",
    "$lim_{n→∞} P(|Y_n-a| \\geq \\epsilon) =0$ for all $\\epsilon > 0 $\n",
    "\n",
    "What this means is that the pdf of $Y_n$ gets increasingly concentrated around $a$ with increasing $n$.\n",
    "\n",
    "\n",
    "*$\\underline{Central\\ Limit\\ Theorem}$*\n",
    "\n",
    "Let $X_1, X_2, .., X_n$ be i.i.d with mean $\\mu$ and variance $\\sigma^2$\n",
    "\n",
    "$Z_n = \\frac{\\sum_{i=1}^n X_i - n\\mu}{\\sqrt{n}\\sigma}$.\n",
    "\n",
    "We know that $EZ_n=0$ and $Var(Z_n)=1$\n",
    "\n",
    "Then the CDF $F_{Z_n}(z)$ converges to CDF of standard normal. This is more precisely expressed as:\n",
    "\n",
    "$lim_{n\\rightarrow ∞} P(Z_n \\leq z) = \\Phi(z)$ for all $z$, where $\\Phi(z)$ is CDF of standard normal.\n",
    "\n",
    "Note that this holds regardless of pdf of $X_i$\n",
    "\n",
    "\n",
    "*$\\underline{Almost\\ Sure\\ Convergence}$*\n",
    "\n",
    "If $P(lim_{n→∞} Y_n = a) =1$, it is called a.s. convergence.\n",
    "\n",
    "The way to interpret this is at in the sample space of infinitely long sequences drawn from $Y_i$, all the outcomes are sequences with all $a$ except for a finite sub-sequence in the beginnnig.\n",
    "\n",
    "\n",
    "*Example*\n",
    "\n",
    "As an example of a sequence which converges in probability but not almost surely,\n",
    "\n",
    "Let $Y_i = 0$ with probability $\\frac{n-1}{n}$\n",
    "\n",
    "$\\ \\ = 1$ with probability $\\frac{1}{n}$\n",
    "\n",
    "Then $\\lim_{n→∞} P(Y_n=0)=1$ and converges in probability to the 0.\n",
    "\n",
    "However, it doesnt almost surely converge to 0, i.e. $P(lim_{n→∞} Y_n =0) \\neq 1$. To see this, assume that $lim_{n→∞} Y_n =0$.\n",
    "\n",
    "Then for every $\\delta$, there exists $N(\\delta)$ such that\n",
    "\n",
    "$Y_i = 0$ for all $n > N(\\delta)$.\n",
    "\n",
    "However the probability of this happening is $lim_{n→∞}(\\frac{n-1}{n})^{n-N(\\delta)} = e^{-1} < 1$\n",
    "\n",
    "\n",
    "\n"
   ]
  }
 ],
 "metadata": {
  "colab": {
   "include_colab_link": true,
   "provenance": []
  },
  "kernelspec": {
   "display_name": "Python 3",
   "name": "python3"
  },
  "language_info": {
   "name": "python"
  }
 },
 "nbformat": 4,
 "nbformat_minor": 0
}
